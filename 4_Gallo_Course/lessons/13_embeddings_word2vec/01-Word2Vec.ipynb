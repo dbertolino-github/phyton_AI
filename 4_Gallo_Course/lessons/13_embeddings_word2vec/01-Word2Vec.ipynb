{
 "cells": [
  {
   "cell_type": "markdown",
   "metadata": {
    "slideshow": {
     "slide_type": "skip"
    }
   },
   "source": [
    "http://kavita-ganesan.com/gensim-word2vec-tutorial-starter-code  \n",
    "https://mc.ai/word2vec-for-phrases%E2%80%8A-%E2%80%8Alearning-embeddings-for-more-than-one-word/  \n",
    "https://becominghuman.ai/how-does-word2vecs-skip-gram-work-f92e0525def4"
   ]
  },
  {
   "cell_type": "markdown",
   "metadata": {
    "slideshow": {
     "slide_type": "slide"
    }
   },
   "source": [
    "# Word Embedding\n",
    "\n",
    "* Are **methods to represent words in a numerical way**.\n",
    "* Example: **one-hot encoding** to map each word to a one-hot vector.\n",
    "<img src=\"figures/one-hot-word-embedding-vectors.png\" width=\"60%\">"
   ]
  },
  {
   "cell_type": "markdown",
   "metadata": {
    "slideshow": {
     "slide_type": "slide"
    }
   },
   "source": [
    "# Idea behind Word2Vec\n",
    "* The idea behind Word2Vec is pretty  \n",
    "  `the meaning of a word can be inferred by the company it keeps`. \n",
    "* This is analogous to the saying,  \n",
    "  “`show me your friends, and I’ll tell who you are`”. "
   ]
  },
  {
   "cell_type": "markdown",
   "metadata": {
    "slideshow": {
     "slide_type": "fragment"
    }
   },
   "source": [
    "* If we have two words that have **very similar neighbors**,   \n",
    "  then these words are probably quite **similar in meaning** or are at least highly related."
   ]
  },
  {
   "cell_type": "markdown",
   "metadata": {
    "slideshow": {
     "slide_type": "slide"
    }
   },
   "source": [
    "**Example** \n",
    "\n",
    "* the words `shocked`,`appalled` and `astonished` are typically used in a similar context. \n",
    "\n",
    "Viceversa\n",
    "* the word “`play`” has a different meaning in the sentences  \n",
    "  * “`The boy loves to play outside`”\n",
    "  * “`The play was fantastic`”."
   ]
  },
  {
   "cell_type": "markdown",
   "metadata": {
    "slideshow": {
     "slide_type": "slide"
    }
   },
   "source": [
    "**Learning word from its context**\n",
    "\n",
    "* `Word2Vec` starts from **large unsupervised corpus** \n",
    "  * **for each word** in the corpus, we try to **predict it** by its **given context** (CBOW), or \n",
    "  * trying to **predict the context given** a specific **word** (Skip-Gram)"
   ]
  },
  {
   "cell_type": "markdown",
   "metadata": {
    "slideshow": {
     "slide_type": "slide"
    }
   },
   "source": [
    "<img src=\"figures/w2v-models.png\" width=\"60%\">"
   ]
  },
  {
   "cell_type": "markdown",
   "metadata": {
    "slideshow": {
     "slide_type": "slide"
    }
   },
   "source": [
    "**Neural network structure**\n",
    "\n",
    "Word2vec is a neural network structure **to generate word embedding** by training the model on a supervised classification problem. \n",
    "\n",
    "* Introduced by **Mikolov** et al.,2013 in the paper *Efficient Estimation of Word Representations in Vector Space*  \n",
    "* used to measure syntactic and **semantic similarities** between words."
   ]
  },
  {
   "cell_type": "markdown",
   "metadata": {
    "slideshow": {
     "slide_type": "slide"
    }
   },
   "source": [
    "**Word2Vec with Continuous Bag of Words (CBOW) Learning technique**\n",
    "\n",
    "<img src=\"figures/Architecture-of-Word2Vec-with-CBOW-technique.png\" width=\"40%\">"
   ]
  },
  {
   "cell_type": "markdown",
   "metadata": {
    "slideshow": {
     "slide_type": "slide"
    }
   },
   "source": [
    "**Word2vec SKIP-GRAM architecture**\n",
    "\n",
    "Given a word $w(t)$, the model **predicts the words** that precede and proceed it in a **window** of 4 words, \n",
    "$w(t-2)$, $w(t-1)$, $w(t+1)$, $w(t+2)$ \n",
    "<img src=\"figures/WORD2VEC-SKIP-GRAM.png\" width=\"70%\">"
   ]
  },
  {
   "cell_type": "markdown",
   "metadata": {
    "slideshow": {
     "slide_type": "slide"
    }
   },
   "source": [
    "**Training SKIP-GRAM**\n",
    "\n",
    "<img src=\"figures/skip-gram-training.png\" width=\"70%\">"
   ]
  },
  {
   "cell_type": "markdown",
   "metadata": {},
   "source": [
    "**The Neural model for Skip-Gram**\n",
    "\n",
    "<img src=\"figures/skip-gram-neural-model.png\" width=\"70%\">"
   ]
  },
  {
   "cell_type": "markdown",
   "metadata": {
    "slideshow": {
     "slide_type": "slide"
    }
   },
   "source": [
    "**Emdedding matrix after Word2Vec training**\n",
    "\n",
    "* Each **word** will be represented by a **d-dimension continuous vector**, \n",
    "* The **meaning of each word** will be captured by its **relation to other words**. \n",
    "\n",
    "**The reason**\n",
    "* in training time, `if two target words share the some context, intuitively the weight of the network for this two target words will be close to each other`. "
   ]
  },
  {
   "cell_type": "markdown",
   "metadata": {
    "slideshow": {
     "slide_type": "slide"
    }
   },
   "source": [
    "**Similarity tasks**\n",
    "\n",
    "Looking the vector as a whole, one can perform many similarity tasks.   \n",
    "For example, \n",
    "* we get that $$V(“King”)-V(“Man”)+V(“Woman) ~= V(“Queen”)$$ and $$V(“Paris”)-V(“France)+V(“Spain”) ~= V(“Madrid”)$$. \n",
    "* We can perform similarity measures, like **cosine-similarity between the vectors** and get that   \n",
    "  “`president`” will be close to “`Obame`”, “`Trump`”, “`CEO`”, “`Chairman`”, etc."
   ]
  },
  {
   "cell_type": "markdown",
   "metadata": {
    "slideshow": {
     "slide_type": "slide"
    }
   },
   "source": [
    "# Word2Vec in Gensim \n",
    "\n",
    "**Performance** is really a combination of two things, \n",
    "1. your **input data** \n",
    "2. your **parameter** settings. \n",
    "\n",
    "**Note** that the training algorithms in this package were ported from the [original Word2Vec implementation by Google](https://arxiv.org/pdf/1301.3781.pdf) and extended with additional functionality."
   ]
  },
  {
   "cell_type": "markdown",
   "metadata": {
    "slideshow": {
     "slide_type": "slide"
    }
   },
   "source": [
    "### Imports and logging\n",
    "\n",
    "First, we start with our imports and get logging established:"
   ]
  },
  {
   "cell_type": "code",
   "execution_count": 6,
   "metadata": {
    "slideshow": {
     "slide_type": "fragment"
    }
   },
   "outputs": [],
   "source": [
    "# imports needed and set up logging\n",
    "import gzip\n",
    "import gensim \n",
    "import logging\n",
    "\n",
    "logging.basicConfig(format='%(asctime)s : %(levelname)s : %(message)s', level=logging.INFO)\n"
   ]
  },
  {
   "cell_type": "markdown",
   "metadata": {
    "slideshow": {
     "slide_type": "slide"
    }
   },
   "source": [
    "### Dataset \n",
    "**The secret** to getting Word2Vec really working for you is to **have lots and lots of text data**. \n",
    "* We are going to use data from the [OpinRank](http://kavita-ganesan.com/entity-ranking-data/) dataset. \n",
    "* This dataset has full user **reviews of cars and hotels**. "
   ]
  },
  {
   "cell_type": "markdown",
   "metadata": {},
   "source": [
    "**Download** dataset from https://github.com/kavgan/nlp-in-practice/blob/master/word2vec/reviews_data.txt.gz (86 MB)"
   ]
  },
  {
   "cell_type": "code",
   "execution_count": 7,
   "metadata": {
    "slideshow": {
     "slide_type": "slide"
    }
   },
   "outputs": [
    {
     "name": "stdout",
     "output_type": "stream",
     "text": [
      "b\"Oct 12 2009 \\tNice trendy hotel location not too bad.\\tI stayed in this hotel for one night. As this is a fairly new place some of the taxi drivers did not know where it was and/or did not want to drive there. Once I have eventually arrived at the hotel, I was very pleasantly surprised with the decor of the lobby/ground floor area. It was very stylish and modern. I found the reception's staff geeting me with 'Aloha' a bit out of place, but I guess they are briefed to say that to keep up the coroporate image.As I have a Starwood Preferred Guest member, I was given a small gift upon-check in. It was only a couple of fridge magnets in a gift box, but nevertheless a nice gesture.My room was nice and roomy, there are tea and coffee facilities in each room and you get two complimentary bottles of water plus some toiletries by 'bliss'.The location is not great. It is at the last metro stop and you then need to take a taxi, but if you are not planning on going to see the historic sites in Beijing, then you will be ok.I chose to have some breakfast in the hotel, which was really tasty and there was a good selection of dishes. There are a couple of computers to use in the communal area, as well as a pool table. There is also a small swimming pool and a gym area.I would definitely stay in this hotel again, but only if I did not plan to travel to central Beijing, as it can take a long time. The location is ok if you plan to do a lot of shopping, as there is a big shopping centre just few minutes away from the hotel and there are plenty of eating options around, including restaurants that serve a dog meat!\\t\\r\\n\"\n"
     ]
    }
   ],
   "source": [
    "data_file=\"data/reviews_data.txt.gz\"\n",
    "# let's take a closer look at this data below by printing the first line.\n",
    "with gzip.open (data_file, 'rb') as f:\n",
    "    for i,line in enumerate (f):\n",
    "        print(line)\n",
    "        break\n"
   ]
  },
  {
   "cell_type": "markdown",
   "metadata": {
    "slideshow": {
     "slide_type": "slide"
    }
   },
   "source": [
    "### Read files into a list\n",
    "We can read it into a list so that we can pass this on to the Word2Vec model. \n",
    "\n",
    "**Notice** \n",
    "* we are directly reading the compressed file. \n",
    "* We are doing a basic **pre-processing** of the reviews using `gensim.utils.simple_preprocess (line)`.   \n",
    "  * such as **tokenization**, **lowercasing**, etc.. and \n",
    "  * returns back a **list of tokens** (words)."
   ]
  },
  {
   "cell_type": "code",
   "execution_count": 4,
   "metadata": {
    "slideshow": {
     "slide_type": "slide"
    }
   },
   "outputs": [
    {
     "name": "stderr",
     "output_type": "stream",
     "text": [
      "2019-05-21 09:02:45,609 : INFO : reading file data/reviews_data.txt.gz...this may take a while\n",
      "2019-05-21 09:02:45,612 : INFO : read 0 reviews\n",
      "2019-05-21 09:02:47,564 : INFO : read 10000 reviews\n",
      "2019-05-21 09:02:49,533 : INFO : read 20000 reviews\n",
      "2019-05-21 09:02:51,772 : INFO : read 30000 reviews\n",
      "2019-05-21 09:02:53,883 : INFO : read 40000 reviews\n",
      "2019-05-21 09:02:56,196 : INFO : read 50000 reviews\n",
      "2019-05-21 09:02:58,481 : INFO : read 60000 reviews\n",
      "2019-05-21 09:03:00,407 : INFO : read 70000 reviews\n",
      "2019-05-21 09:03:03,078 : INFO : read 80000 reviews\n",
      "2019-05-21 09:03:05,139 : INFO : read 90000 reviews\n",
      "2019-05-21 09:03:07,566 : INFO : read 100000 reviews\n",
      "2019-05-21 09:03:09,335 : INFO : read 110000 reviews\n",
      "2019-05-21 09:03:11,167 : INFO : read 120000 reviews\n",
      "2019-05-21 09:03:12,999 : INFO : read 130000 reviews\n",
      "2019-05-21 09:03:15,232 : INFO : read 140000 reviews\n",
      "2019-05-21 09:03:17,410 : INFO : read 150000 reviews\n",
      "2019-05-21 09:03:19,344 : INFO : read 160000 reviews\n",
      "2019-05-21 09:03:21,197 : INFO : read 170000 reviews\n",
      "2019-05-21 09:03:23,680 : INFO : read 180000 reviews\n",
      "2019-05-21 09:03:25,609 : INFO : read 190000 reviews\n",
      "2019-05-21 09:03:27,791 : INFO : read 200000 reviews\n",
      "2019-05-21 09:03:29,848 : INFO : read 210000 reviews\n",
      "2019-05-21 09:03:31,993 : INFO : read 220000 reviews\n",
      "2019-05-21 09:03:34,121 : INFO : read 230000 reviews\n",
      "2019-05-21 09:03:36,156 : INFO : read 240000 reviews\n",
      "2019-05-21 09:03:38,234 : INFO : read 250000 reviews\n",
      "2019-05-21 09:03:39,237 : INFO : Done reading data file\n"
     ]
    }
   ],
   "source": [
    "\n",
    "def read_input(input_file):\n",
    "    \"\"\"This method reads the input file which is in gzip format\"\"\"\n",
    "    \n",
    "    logging.info(\"reading file {0}...this may take a while\".format(input_file))\n",
    "    \n",
    "    with gzip.open (input_file, 'rb') as f:\n",
    "        for i, line in enumerate (f): \n",
    "\n",
    "            if (i%10000==0):\n",
    "                logging.info (\"read {0} reviews\".format (i))\n",
    "            # do some pre-processing and return a list of words for each review text\n",
    "            yield gensim.utils.simple_preprocess (line)\n",
    "\n",
    "# read the tokenized reviews into a list\n",
    "# each review item becomes a serries of words\n",
    "# so this becomes a list of lists\n",
    "documents = list (read_input (data_file))\n",
    "logging.info (\"Done reading data file\")    "
   ]
  },
  {
   "cell_type": "markdown",
   "metadata": {
    "slideshow": {
     "slide_type": "slide"
    }
   },
   "source": [
    "## Training the Word2Vec model\n",
    "\n",
    "* Just instantiate Word2Vec and pass the reviews that we read in the previous step (the `documents`). \n",
    "* Word2Vec uses all these tokens to internally **create a vocabulary**.\n",
    "* call `train(...)` to start training the Word2Vec model. (takes about 10 minutes)\n",
    "* we are **not** going to **use the neural network** after training. \n",
    "* **The goal** is to learn the weights of the hidden layer, i.e. the **word vectors** that we’re trying to learn. "
   ]
  },
  {
   "cell_type": "code",
   "execution_count": 5,
   "metadata": {
    "slideshow": {
     "slide_type": "subslide"
    }
   },
   "outputs": [
    {
     "name": "stderr",
     "output_type": "stream",
     "text": [
      "2019-05-21 09:04:24,546 : WARNING : consider setting layer size to a multiple of 4 for greater performance\n",
      "2019-05-21 09:04:24,548 : INFO : collecting all words and their counts\n",
      "2019-05-21 09:04:24,549 : INFO : PROGRESS: at sentence #0, processed 0 words, keeping 0 word types\n",
      "2019-05-21 09:04:24,840 : INFO : PROGRESS: at sentence #10000, processed 1655714 words, keeping 25777 word types\n",
      "2019-05-21 09:04:25,110 : INFO : PROGRESS: at sentence #20000, processed 3317863 words, keeping 35016 word types\n",
      "2019-05-21 09:04:25,426 : INFO : PROGRESS: at sentence #30000, processed 5264072 words, keeping 47518 word types\n",
      "2019-05-21 09:04:25,736 : INFO : PROGRESS: at sentence #40000, processed 7081746 words, keeping 56675 word types\n",
      "2019-05-21 09:04:26,074 : INFO : PROGRESS: at sentence #50000, processed 9089491 words, keeping 63744 word types\n",
      "2019-05-21 09:04:26,399 : INFO : PROGRESS: at sentence #60000, processed 11013723 words, keeping 76780 word types\n",
      "2019-05-21 09:04:26,679 : INFO : PROGRESS: at sentence #70000, processed 12637525 words, keeping 83193 word types\n",
      "2019-05-21 09:04:26,938 : INFO : PROGRESS: at sentence #80000, processed 14099751 words, keeping 88453 word types\n",
      "2019-05-21 09:04:27,208 : INFO : PROGRESS: at sentence #90000, processed 15662149 words, keeping 93351 word types\n",
      "2019-05-21 09:04:27,475 : INFO : PROGRESS: at sentence #100000, processed 17164487 words, keeping 97880 word types\n",
      "2019-05-21 09:04:27,741 : INFO : PROGRESS: at sentence #110000, processed 18652292 words, keeping 102126 word types\n",
      "2019-05-21 09:04:28,009 : INFO : PROGRESS: at sentence #120000, processed 20152529 words, keeping 105917 word types\n",
      "2019-05-21 09:04:28,284 : INFO : PROGRESS: at sentence #130000, processed 21684330 words, keeping 110098 word types\n",
      "2019-05-21 09:04:28,577 : INFO : PROGRESS: at sentence #140000, processed 23330206 words, keeping 114102 word types\n",
      "2019-05-21 09:04:28,849 : INFO : PROGRESS: at sentence #150000, processed 24838754 words, keeping 118168 word types\n",
      "2019-05-21 09:04:29,133 : INFO : PROGRESS: at sentence #160000, processed 26390910 words, keeping 118664 word types\n",
      "2019-05-21 09:04:29,408 : INFO : PROGRESS: at sentence #170000, processed 27913916 words, keeping 123349 word types\n",
      "2019-05-21 09:04:29,691 : INFO : PROGRESS: at sentence #180000, processed 29535612 words, keeping 126741 word types\n",
      "2019-05-21 09:04:29,967 : INFO : PROGRESS: at sentence #190000, processed 31096459 words, keeping 129840 word types\n",
      "2019-05-21 09:04:30,269 : INFO : PROGRESS: at sentence #200000, processed 32805271 words, keeping 133248 word types\n",
      "2019-05-21 09:04:30,557 : INFO : PROGRESS: at sentence #210000, processed 34434198 words, keeping 136357 word types\n",
      "2019-05-21 09:04:30,850 : INFO : PROGRESS: at sentence #220000, processed 36083482 words, keeping 139411 word types\n",
      "2019-05-21 09:04:31,116 : INFO : PROGRESS: at sentence #230000, processed 37571762 words, keeping 142392 word types\n",
      "2019-05-21 09:04:31,397 : INFO : PROGRESS: at sentence #240000, processed 39138190 words, keeping 145225 word types\n",
      "2019-05-21 09:04:31,677 : INFO : PROGRESS: at sentence #250000, processed 40695049 words, keeping 147959 word types\n",
      "2019-05-21 09:04:31,835 : INFO : collected 150052 word types from a corpus of 41519355 raw words and 255404 sentences\n",
      "2019-05-21 09:04:31,835 : INFO : Loading a fresh vocabulary\n",
      "2019-05-21 09:04:32,835 : INFO : effective_min_count=2 retains 70538 unique words (47% of original 150052, drops 79514)\n",
      "2019-05-21 09:04:32,836 : INFO : effective_min_count=2 leaves 41439841 word corpus (99% of original 41519355, drops 79514)\n",
      "2019-05-21 09:04:33,042 : INFO : deleting the raw counts dictionary of 150052 items\n",
      "2019-05-21 09:04:33,048 : INFO : sample=0.001 downsamples 55 most-common words\n",
      "2019-05-21 09:04:33,049 : INFO : downsampling leaves estimated 30349257 word corpus (73.2% of prior 41439841)\n",
      "2019-05-21 09:04:33,333 : INFO : estimated required memory for 70538 words and 150 dimensions: 119914600 bytes\n",
      "2019-05-21 09:04:33,334 : INFO : resetting layer weights\n",
      "2019-05-21 09:04:34,092 : INFO : training model with 10 workers on 70538 vocabulary and 150 features, using sg=0 hs=0 sample=0.001 negative=5 window=10\n",
      "2019-05-21 09:04:35,113 : INFO : EPOCH 1 - PROGRESS: at 2.07% examples, 640390 words/s, in_qsize 18, out_qsize 1\n",
      "2019-05-21 09:04:36,119 : INFO : EPOCH 1 - PROGRESS: at 4.38% examples, 667865 words/s, in_qsize 19, out_qsize 0\n",
      "2019-05-21 09:04:37,142 : INFO : EPOCH 1 - PROGRESS: at 6.50% examples, 658582 words/s, in_qsize 18, out_qsize 1\n",
      "2019-05-21 09:04:38,144 : INFO : EPOCH 1 - PROGRESS: at 8.73% examples, 667842 words/s, in_qsize 19, out_qsize 0\n",
      "2019-05-21 09:04:39,169 : INFO : EPOCH 1 - PROGRESS: at 10.65% examples, 673306 words/s, in_qsize 19, out_qsize 0\n",
      "2019-05-21 09:04:40,170 : INFO : EPOCH 1 - PROGRESS: at 12.38% examples, 672222 words/s, in_qsize 18, out_qsize 1\n",
      "2019-05-21 09:04:41,183 : INFO : EPOCH 1 - PROGRESS: at 14.54% examples, 678782 words/s, in_qsize 20, out_qsize 0\n",
      "2019-05-21 09:04:42,185 : INFO : EPOCH 1 - PROGRESS: at 16.44% examples, 676822 words/s, in_qsize 19, out_qsize 2\n",
      "2019-05-21 09:04:43,204 : INFO : EPOCH 1 - PROGRESS: at 18.37% examples, 678597 words/s, in_qsize 19, out_qsize 0\n",
      "2019-05-21 09:04:44,216 : INFO : EPOCH 1 - PROGRESS: at 20.15% examples, 679267 words/s, in_qsize 18, out_qsize 1\n",
      "2019-05-21 09:04:45,231 : INFO : EPOCH 1 - PROGRESS: at 22.31% examples, 681679 words/s, in_qsize 20, out_qsize 0\n",
      "2019-05-21 09:04:46,238 : INFO : EPOCH 1 - PROGRESS: at 24.12% examples, 683141 words/s, in_qsize 19, out_qsize 0\n",
      "2019-05-21 09:04:47,255 : INFO : EPOCH 1 - PROGRESS: at 26.42% examples, 681392 words/s, in_qsize 18, out_qsize 1\n",
      "2019-05-21 09:04:48,278 : INFO : EPOCH 1 - PROGRESS: at 28.96% examples, 681072 words/s, in_qsize 17, out_qsize 2\n",
      "2019-05-21 09:04:49,282 : INFO : EPOCH 1 - PROGRESS: at 31.62% examples, 683957 words/s, in_qsize 19, out_qsize 0\n",
      "2019-05-21 09:04:50,286 : INFO : EPOCH 1 - PROGRESS: at 33.90% examples, 683865 words/s, in_qsize 19, out_qsize 0\n",
      "2019-05-21 09:04:51,288 : INFO : EPOCH 1 - PROGRESS: at 36.34% examples, 684004 words/s, in_qsize 18, out_qsize 1\n",
      "2019-05-21 09:04:52,301 : INFO : EPOCH 1 - PROGRESS: at 38.80% examples, 684272 words/s, in_qsize 19, out_qsize 0\n",
      "2019-05-21 09:04:53,312 : INFO : EPOCH 1 - PROGRESS: at 41.28% examples, 683567 words/s, in_qsize 18, out_qsize 1\n",
      "2019-05-21 09:04:54,351 : INFO : EPOCH 1 - PROGRESS: at 43.84% examples, 683733 words/s, in_qsize 19, out_qsize 0\n",
      "2019-05-21 09:04:55,358 : INFO : EPOCH 1 - PROGRESS: at 46.33% examples, 683552 words/s, in_qsize 17, out_qsize 2\n",
      "2019-05-21 09:04:56,371 : INFO : EPOCH 1 - PROGRESS: at 48.78% examples, 684472 words/s, in_qsize 18, out_qsize 1\n",
      "2019-05-21 09:04:57,388 : INFO : EPOCH 1 - PROGRESS: at 51.19% examples, 684538 words/s, in_qsize 18, out_qsize 1\n",
      "2019-05-21 09:04:58,411 : INFO : EPOCH 1 - PROGRESS: at 53.37% examples, 683502 words/s, in_qsize 15, out_qsize 4\n",
      "2019-05-21 09:04:59,434 : INFO : EPOCH 1 - PROGRESS: at 55.99% examples, 685069 words/s, in_qsize 19, out_qsize 0\n",
      "2019-05-21 09:05:00,437 : INFO : EPOCH 1 - PROGRESS: at 58.31% examples, 684754 words/s, in_qsize 19, out_qsize 0\n",
      "2019-05-21 09:05:01,442 : INFO : EPOCH 1 - PROGRESS: at 60.66% examples, 684507 words/s, in_qsize 19, out_qsize 0\n",
      "2019-05-21 09:05:02,445 : INFO : EPOCH 1 - PROGRESS: at 63.15% examples, 685510 words/s, in_qsize 19, out_qsize 0\n",
      "2019-05-21 09:05:03,447 : INFO : EPOCH 1 - PROGRESS: at 65.55% examples, 684686 words/s, in_qsize 18, out_qsize 1\n",
      "2019-05-21 09:05:04,470 : INFO : EPOCH 1 - PROGRESS: at 67.85% examples, 684443 words/s, in_qsize 19, out_qsize 2\n",
      "2019-05-21 09:05:05,473 : INFO : EPOCH 1 - PROGRESS: at 70.19% examples, 685569 words/s, in_qsize 18, out_qsize 1\n",
      "2019-05-21 09:05:06,490 : INFO : EPOCH 1 - PROGRESS: at 72.48% examples, 685241 words/s, in_qsize 19, out_qsize 0\n",
      "2019-05-21 09:05:07,494 : INFO : EPOCH 1 - PROGRESS: at 74.96% examples, 685965 words/s, in_qsize 19, out_qsize 0\n",
      "2019-05-21 09:05:08,514 : INFO : EPOCH 1 - PROGRESS: at 76.98% examples, 684619 words/s, in_qsize 19, out_qsize 5\n",
      "2019-05-21 09:05:09,509 : INFO : EPOCH 1 - PROGRESS: at 79.36% examples, 686168 words/s, in_qsize 19, out_qsize 0\n",
      "2019-05-21 09:05:10,529 : INFO : EPOCH 1 - PROGRESS: at 80.88% examples, 680019 words/s, in_qsize 20, out_qsize 0\n"
     ]
    },
    {
     "name": "stderr",
     "output_type": "stream",
     "text": [
      "2019-05-21 09:05:11,582 : INFO : EPOCH 1 - PROGRESS: at 82.25% examples, 671674 words/s, in_qsize 19, out_qsize 0\n",
      "2019-05-21 09:05:12,611 : INFO : EPOCH 1 - PROGRESS: at 83.54% examples, 663832 words/s, in_qsize 18, out_qsize 2\n",
      "2019-05-21 09:05:13,617 : INFO : EPOCH 1 - PROGRESS: at 85.21% examples, 660545 words/s, in_qsize 19, out_qsize 0\n",
      "2019-05-21 09:05:14,629 : INFO : EPOCH 1 - PROGRESS: at 87.71% examples, 661326 words/s, in_qsize 19, out_qsize 0\n",
      "2019-05-21 09:05:15,632 : INFO : EPOCH 1 - PROGRESS: at 90.25% examples, 662542 words/s, in_qsize 18, out_qsize 1\n",
      "2019-05-21 09:05:16,636 : INFO : EPOCH 1 - PROGRESS: at 92.57% examples, 662669 words/s, in_qsize 18, out_qsize 1\n",
      "2019-05-21 09:05:17,637 : INFO : EPOCH 1 - PROGRESS: at 94.93% examples, 663534 words/s, in_qsize 19, out_qsize 1\n",
      "2019-05-21 09:05:18,643 : INFO : EPOCH 1 - PROGRESS: at 97.39% examples, 664414 words/s, in_qsize 19, out_qsize 0\n",
      "2019-05-21 09:05:19,652 : INFO : EPOCH 1 - PROGRESS: at 99.76% examples, 664720 words/s, in_qsize 9, out_qsize 2\n",
      "2019-05-21 09:05:19,657 : INFO : worker thread finished; awaiting finish of 9 more threads\n",
      "2019-05-21 09:05:19,661 : INFO : worker thread finished; awaiting finish of 8 more threads\n",
      "2019-05-21 09:05:19,665 : INFO : worker thread finished; awaiting finish of 7 more threads\n",
      "2019-05-21 09:05:19,673 : INFO : worker thread finished; awaiting finish of 6 more threads\n",
      "2019-05-21 09:05:19,688 : INFO : worker thread finished; awaiting finish of 5 more threads\n",
      "2019-05-21 09:05:19,695 : INFO : worker thread finished; awaiting finish of 4 more threads\n",
      "2019-05-21 09:05:19,716 : INFO : worker thread finished; awaiting finish of 3 more threads\n",
      "2019-05-21 09:05:19,722 : INFO : worker thread finished; awaiting finish of 2 more threads\n",
      "2019-05-21 09:05:19,728 : INFO : worker thread finished; awaiting finish of 1 more threads\n",
      "2019-05-21 09:05:19,732 : INFO : worker thread finished; awaiting finish of 0 more threads\n",
      "2019-05-21 09:05:19,733 : INFO : EPOCH - 1 : training on 41519355 raw words (30349735 effective words) took 45.6s, 665048 effective words/s\n",
      "2019-05-21 09:05:20,741 : INFO : EPOCH 2 - PROGRESS: at 1.98% examples, 618814 words/s, in_qsize 19, out_qsize 0\n",
      "2019-05-21 09:05:21,795 : INFO : EPOCH 2 - PROGRESS: at 4.00% examples, 599667 words/s, in_qsize 19, out_qsize 1\n",
      "2019-05-21 09:05:22,818 : INFO : EPOCH 2 - PROGRESS: at 5.51% examples, 552638 words/s, in_qsize 18, out_qsize 1\n",
      "2019-05-21 09:05:23,838 : INFO : EPOCH 2 - PROGRESS: at 7.32% examples, 550217 words/s, in_qsize 19, out_qsize 0\n",
      "2019-05-21 09:05:24,848 : INFO : EPOCH 2 - PROGRESS: at 9.13% examples, 556935 words/s, in_qsize 19, out_qsize 0\n",
      "2019-05-21 09:05:25,856 : INFO : EPOCH 2 - PROGRESS: at 10.21% examples, 534466 words/s, in_qsize 19, out_qsize 0\n",
      "2019-05-21 09:05:26,875 : INFO : EPOCH 2 - PROGRESS: at 12.06% examples, 554743 words/s, in_qsize 19, out_qsize 0\n",
      "2019-05-21 09:05:27,947 : INFO : EPOCH 2 - PROGRESS: at 13.67% examples, 549049 words/s, in_qsize 20, out_qsize 0\n",
      "2019-05-21 09:05:28,963 : INFO : EPOCH 2 - PROGRESS: at 15.65% examples, 561319 words/s, in_qsize 19, out_qsize 0\n",
      "2019-05-21 09:05:29,963 : INFO : EPOCH 2 - PROGRESS: at 17.49% examples, 573417 words/s, in_qsize 19, out_qsize 0\n",
      "2019-05-21 09:05:30,989 : INFO : EPOCH 2 - PROGRESS: at 18.90% examples, 566367 words/s, in_qsize 19, out_qsize 0\n",
      "2019-05-21 09:05:31,997 : INFO : EPOCH 2 - PROGRESS: at 20.13% examples, 560006 words/s, in_qsize 14, out_qsize 5\n",
      "2019-05-21 09:05:32,998 : INFO : EPOCH 2 - PROGRESS: at 22.03% examples, 564235 words/s, in_qsize 19, out_qsize 0\n",
      "2019-05-21 09:05:34,009 : INFO : EPOCH 2 - PROGRESS: at 23.75% examples, 571129 words/s, in_qsize 19, out_qsize 0\n",
      "2019-05-21 09:05:35,014 : INFO : EPOCH 2 - PROGRESS: at 25.79% examples, 576423 words/s, in_qsize 18, out_qsize 1\n",
      "2019-05-21 09:05:36,032 : INFO : EPOCH 2 - PROGRESS: at 28.36% examples, 582526 words/s, in_qsize 19, out_qsize 0\n",
      "2019-05-21 09:05:37,055 : INFO : EPOCH 2 - PROGRESS: at 29.94% examples, 573863 words/s, in_qsize 19, out_qsize 0\n",
      "2019-05-21 09:05:38,084 : INFO : EPOCH 2 - PROGRESS: at 32.11% examples, 574403 words/s, in_qsize 18, out_qsize 4\n",
      "2019-05-21 09:05:39,113 : INFO : EPOCH 2 - PROGRESS: at 34.59% examples, 581145 words/s, in_qsize 19, out_qsize 0\n",
      "2019-05-21 09:05:40,125 : INFO : EPOCH 2 - PROGRESS: at 36.99% examples, 585895 words/s, in_qsize 20, out_qsize 0\n",
      "2019-05-21 09:05:41,131 : INFO : EPOCH 2 - PROGRESS: at 39.51% examples, 591673 words/s, in_qsize 19, out_qsize 2\n",
      "2019-05-21 09:05:42,139 : INFO : EPOCH 2 - PROGRESS: at 42.11% examples, 596231 words/s, in_qsize 19, out_qsize 0\n",
      "2019-05-21 09:05:43,143 : INFO : EPOCH 2 - PROGRESS: at 44.66% examples, 600864 words/s, in_qsize 20, out_qsize 0\n",
      "2019-05-21 09:05:44,181 : INFO : EPOCH 2 - PROGRESS: at 47.10% examples, 604232 words/s, in_qsize 19, out_qsize 0\n",
      "2019-05-21 09:05:45,181 : INFO : EPOCH 2 - PROGRESS: at 49.60% examples, 608218 words/s, in_qsize 19, out_qsize 0\n",
      "2019-05-21 09:05:46,193 : INFO : EPOCH 2 - PROGRESS: at 51.97% examples, 611295 words/s, in_qsize 18, out_qsize 1\n",
      "2019-05-21 09:05:47,215 : INFO : EPOCH 2 - PROGRESS: at 54.27% examples, 614517 words/s, in_qsize 18, out_qsize 1\n",
      "2019-05-21 09:05:48,230 : INFO : EPOCH 2 - PROGRESS: at 56.76% examples, 617244 words/s, in_qsize 19, out_qsize 0\n",
      "2019-05-21 09:05:49,246 : INFO : EPOCH 2 - PROGRESS: at 59.20% examples, 619944 words/s, in_qsize 19, out_qsize 0\n",
      "2019-05-21 09:05:50,247 : INFO : EPOCH 2 - PROGRESS: at 61.56% examples, 622185 words/s, in_qsize 19, out_qsize 0\n",
      "2019-05-21 09:05:51,287 : INFO : EPOCH 2 - PROGRESS: at 63.65% examples, 619788 words/s, in_qsize 16, out_qsize 3\n",
      "2019-05-21 09:05:52,292 : INFO : EPOCH 2 - PROGRESS: at 65.89% examples, 620748 words/s, in_qsize 17, out_qsize 2\n",
      "2019-05-21 09:05:53,301 : INFO : EPOCH 2 - PROGRESS: at 68.21% examples, 622403 words/s, in_qsize 19, out_qsize 0\n",
      "2019-05-21 09:05:54,309 : INFO : EPOCH 2 - PROGRESS: at 70.22% examples, 622553 words/s, in_qsize 18, out_qsize 1\n",
      "2019-05-21 09:05:55,314 : INFO : EPOCH 2 - PROGRESS: at 72.34% examples, 622841 words/s, in_qsize 19, out_qsize 0\n",
      "2019-05-21 09:05:56,347 : INFO : EPOCH 2 - PROGRESS: at 74.30% examples, 620199 words/s, in_qsize 18, out_qsize 1\n",
      "2019-05-21 09:05:57,357 : INFO : EPOCH 2 - PROGRESS: at 76.50% examples, 622286 words/s, in_qsize 19, out_qsize 0\n",
      "2019-05-21 09:05:58,362 : INFO : EPOCH 2 - PROGRESS: at 78.63% examples, 623435 words/s, in_qsize 19, out_qsize 0\n",
      "2019-05-21 09:05:59,369 : INFO : EPOCH 2 - PROGRESS: at 80.86% examples, 624840 words/s, in_qsize 18, out_qsize 1\n",
      "2019-05-21 09:06:00,392 : INFO : EPOCH 2 - PROGRESS: at 83.24% examples, 626486 words/s, in_qsize 19, out_qsize 0\n",
      "2019-05-21 09:06:01,394 : INFO : EPOCH 2 - PROGRESS: at 84.89% examples, 624184 words/s, in_qsize 20, out_qsize 3\n",
      "2019-05-21 09:06:02,448 : INFO : EPOCH 2 - PROGRESS: at 86.98% examples, 622797 words/s, in_qsize 19, out_qsize 1\n",
      "2019-05-21 09:06:03,449 : INFO : EPOCH 2 - PROGRESS: at 89.53% examples, 624885 words/s, in_qsize 19, out_qsize 0\n",
      "2019-05-21 09:06:04,511 : INFO : EPOCH 2 - PROGRESS: at 91.60% examples, 623296 words/s, in_qsize 20, out_qsize 1\n",
      "2019-05-21 09:06:05,529 : INFO : EPOCH 2 - PROGRESS: at 93.67% examples, 622798 words/s, in_qsize 15, out_qsize 4\n",
      "2019-05-21 09:06:06,559 : INFO : EPOCH 2 - PROGRESS: at 95.80% examples, 622231 words/s, in_qsize 20, out_qsize 2\n",
      "2019-05-21 09:06:07,571 : INFO : EPOCH 2 - PROGRESS: at 97.84% examples, 621514 words/s, in_qsize 17, out_qsize 2\n",
      "2019-05-21 09:06:08,361 : INFO : worker thread finished; awaiting finish of 9 more threads\n",
      "2019-05-21 09:06:08,382 : INFO : worker thread finished; awaiting finish of 8 more threads\n",
      "2019-05-21 09:06:08,388 : INFO : worker thread finished; awaiting finish of 7 more threads\n",
      "2019-05-21 09:06:08,395 : INFO : worker thread finished; awaiting finish of 6 more threads\n",
      "2019-05-21 09:06:08,411 : INFO : worker thread finished; awaiting finish of 5 more threads\n",
      "2019-05-21 09:06:08,427 : INFO : worker thread finished; awaiting finish of 4 more threads\n",
      "2019-05-21 09:06:08,432 : INFO : worker thread finished; awaiting finish of 3 more threads\n",
      "2019-05-21 09:06:08,436 : INFO : worker thread finished; awaiting finish of 2 more threads\n",
      "2019-05-21 09:06:08,447 : INFO : worker thread finished; awaiting finish of 1 more threads\n"
     ]
    },
    {
     "name": "stderr",
     "output_type": "stream",
     "text": [
      "2019-05-21 09:06:08,453 : INFO : worker thread finished; awaiting finish of 0 more threads\n",
      "2019-05-21 09:06:08,454 : INFO : EPOCH - 2 : training on 41519355 raw words (30346660 effective words) took 48.7s, 622921 effective words/s\n",
      "2019-05-21 09:06:09,465 : INFO : EPOCH 3 - PROGRESS: at 2.00% examples, 625457 words/s, in_qsize 19, out_qsize 0\n",
      "2019-05-21 09:06:10,484 : INFO : EPOCH 3 - PROGRESS: at 4.15% examples, 631103 words/s, in_qsize 19, out_qsize 0\n",
      "2019-05-21 09:06:11,504 : INFO : EPOCH 3 - PROGRESS: at 6.38% examples, 646614 words/s, in_qsize 18, out_qsize 1\n",
      "2019-05-21 09:06:12,504 : INFO : EPOCH 3 - PROGRESS: at 8.57% examples, 655624 words/s, in_qsize 18, out_qsize 1\n",
      "2019-05-21 09:06:13,511 : INFO : EPOCH 3 - PROGRESS: at 10.53% examples, 667255 words/s, in_qsize 19, out_qsize 0\n",
      "2019-05-21 09:06:14,516 : INFO : EPOCH 3 - PROGRESS: at 12.28% examples, 667993 words/s, in_qsize 16, out_qsize 3\n",
      "2019-05-21 09:06:15,528 : INFO : EPOCH 3 - PROGRESS: at 14.46% examples, 676151 words/s, in_qsize 19, out_qsize 0\n",
      "2019-05-21 09:06:16,544 : INFO : EPOCH 3 - PROGRESS: at 16.48% examples, 677765 words/s, in_qsize 19, out_qsize 0\n",
      "2019-05-21 09:06:17,549 : INFO : EPOCH 3 - PROGRESS: at 18.36% examples, 679682 words/s, in_qsize 19, out_qsize 0\n",
      "2019-05-21 09:06:18,555 : INFO : EPOCH 3 - PROGRESS: at 20.20% examples, 682808 words/s, in_qsize 20, out_qsize 1\n",
      "2019-05-21 09:06:19,557 : INFO : EPOCH 3 - PROGRESS: at 22.35% examples, 685137 words/s, in_qsize 19, out_qsize 0\n",
      "2019-05-21 09:06:20,571 : INFO : EPOCH 3 - PROGRESS: at 24.18% examples, 687083 words/s, in_qsize 20, out_qsize 0\n",
      "2019-05-21 09:06:21,583 : INFO : EPOCH 3 - PROGRESS: at 26.59% examples, 686349 words/s, in_qsize 16, out_qsize 3\n",
      "2019-05-21 09:06:22,600 : INFO : EPOCH 3 - PROGRESS: at 29.21% examples, 688012 words/s, in_qsize 19, out_qsize 0\n",
      "2019-05-21 09:06:23,611 : INFO : EPOCH 3 - PROGRESS: at 31.87% examples, 689770 words/s, in_qsize 19, out_qsize 0\n",
      "2019-05-21 09:06:24,616 : INFO : EPOCH 3 - PROGRESS: at 34.19% examples, 689707 words/s, in_qsize 18, out_qsize 1\n",
      "2019-05-21 09:06:25,627 : INFO : EPOCH 3 - PROGRESS: at 36.61% examples, 689029 words/s, in_qsize 19, out_qsize 0\n",
      "2019-05-21 09:06:26,639 : INFO : EPOCH 3 - PROGRESS: at 39.02% examples, 688313 words/s, in_qsize 19, out_qsize 0\n",
      "2019-05-21 09:06:27,642 : INFO : EPOCH 3 - PROGRESS: at 41.47% examples, 687327 words/s, in_qsize 19, out_qsize 0\n",
      "2019-05-21 09:06:28,661 : INFO : EPOCH 3 - PROGRESS: at 43.75% examples, 684401 words/s, in_qsize 18, out_qsize 1\n",
      "2019-05-21 09:06:29,663 : INFO : EPOCH 3 - PROGRESS: at 46.28% examples, 684385 words/s, in_qsize 19, out_qsize 0\n",
      "2019-05-21 09:06:30,671 : INFO : EPOCH 3 - PROGRESS: at 48.54% examples, 683440 words/s, in_qsize 19, out_qsize 0\n",
      "2019-05-21 09:06:31,690 : INFO : EPOCH 3 - PROGRESS: at 50.74% examples, 680424 words/s, in_qsize 19, out_qsize 0\n",
      "2019-05-21 09:06:32,691 : INFO : EPOCH 3 - PROGRESS: at 52.89% examples, 679586 words/s, in_qsize 20, out_qsize 1\n",
      "2019-05-21 09:06:33,703 : INFO : EPOCH 3 - PROGRESS: at 55.37% examples, 680675 words/s, in_qsize 20, out_qsize 0\n",
      "2019-05-21 09:06:34,704 : INFO : EPOCH 3 - PROGRESS: at 57.79% examples, 681413 words/s, in_qsize 18, out_qsize 1\n",
      "2019-05-21 09:06:35,708 : INFO : EPOCH 3 - PROGRESS: at 60.15% examples, 681514 words/s, in_qsize 18, out_qsize 1\n",
      "2019-05-21 09:06:36,710 : INFO : EPOCH 3 - PROGRESS: at 62.58% examples, 682192 words/s, in_qsize 19, out_qsize 0\n",
      "2019-05-21 09:06:37,721 : INFO : EPOCH 3 - PROGRESS: at 65.13% examples, 682050 words/s, in_qsize 16, out_qsize 3\n",
      "2019-05-21 09:06:38,723 : INFO : EPOCH 3 - PROGRESS: at 67.34% examples, 681722 words/s, in_qsize 20, out_qsize 1\n",
      "2019-05-21 09:06:39,747 : INFO : EPOCH 3 - PROGRESS: at 69.67% examples, 681964 words/s, in_qsize 17, out_qsize 2\n",
      "2019-05-21 09:06:40,753 : INFO : EPOCH 3 - PROGRESS: at 71.97% examples, 682836 words/s, in_qsize 18, out_qsize 1\n",
      "2019-05-21 09:06:41,761 : INFO : EPOCH 3 - PROGRESS: at 74.43% examples, 682929 words/s, in_qsize 19, out_qsize 0\n",
      "2019-05-21 09:06:42,788 : INFO : EPOCH 3 - PROGRESS: at 76.61% examples, 682954 words/s, in_qsize 19, out_qsize 4\n",
      "2019-05-21 09:06:43,785 : INFO : EPOCH 3 - PROGRESS: at 78.91% examples, 684128 words/s, in_qsize 19, out_qsize 0\n",
      "2019-05-21 09:06:44,820 : INFO : EPOCH 3 - PROGRESS: at 81.23% examples, 684273 words/s, in_qsize 18, out_qsize 1\n",
      "2019-05-21 09:06:45,827 : INFO : EPOCH 3 - PROGRESS: at 83.65% examples, 685100 words/s, in_qsize 19, out_qsize 0\n",
      "2019-05-21 09:06:46,845 : INFO : EPOCH 3 - PROGRESS: at 85.08% examples, 679310 words/s, in_qsize 19, out_qsize 5\n",
      "2019-05-21 09:06:47,859 : INFO : EPOCH 3 - PROGRESS: at 87.28% examples, 677331 words/s, in_qsize 20, out_qsize 0\n",
      "2019-05-21 09:06:48,869 : INFO : EPOCH 3 - PROGRESS: at 89.26% examples, 674005 words/s, in_qsize 18, out_qsize 1\n",
      "2019-05-21 09:06:49,877 : INFO : EPOCH 3 - PROGRESS: at 91.21% examples, 671017 words/s, in_qsize 19, out_qsize 0\n",
      "2019-05-21 09:06:50,908 : INFO : EPOCH 3 - PROGRESS: at 93.27% examples, 669338 words/s, in_qsize 19, out_qsize 0\n",
      "2019-05-21 09:06:51,917 : INFO : EPOCH 3 - PROGRESS: at 95.49% examples, 668253 words/s, in_qsize 18, out_qsize 1\n",
      "2019-05-21 09:06:52,935 : INFO : EPOCH 3 - PROGRESS: at 97.55% examples, 666535 words/s, in_qsize 18, out_qsize 1\n",
      "2019-05-21 09:06:53,867 : INFO : worker thread finished; awaiting finish of 9 more threads\n",
      "2019-05-21 09:06:53,871 : INFO : worker thread finished; awaiting finish of 8 more threads\n",
      "2019-05-21 09:06:53,875 : INFO : worker thread finished; awaiting finish of 7 more threads\n",
      "2019-05-21 09:06:53,878 : INFO : worker thread finished; awaiting finish of 6 more threads\n",
      "2019-05-21 09:06:53,879 : INFO : worker thread finished; awaiting finish of 5 more threads\n",
      "2019-05-21 09:06:53,884 : INFO : worker thread finished; awaiting finish of 4 more threads\n",
      "2019-05-21 09:06:53,897 : INFO : worker thread finished; awaiting finish of 3 more threads\n",
      "2019-05-21 09:06:53,899 : INFO : worker thread finished; awaiting finish of 2 more threads\n",
      "2019-05-21 09:06:53,908 : INFO : worker thread finished; awaiting finish of 1 more threads\n",
      "2019-05-21 09:06:53,916 : INFO : worker thread finished; awaiting finish of 0 more threads\n",
      "2019-05-21 09:06:53,916 : INFO : EPOCH - 3 : training on 41519355 raw words (30347991 effective words) took 45.5s, 667637 effective words/s\n",
      "2019-05-21 09:06:54,964 : INFO : EPOCH 4 - PROGRESS: at 1.65% examples, 499518 words/s, in_qsize 18, out_qsize 1\n",
      "2019-05-21 09:06:55,969 : INFO : EPOCH 4 - PROGRESS: at 3.99% examples, 602451 words/s, in_qsize 19, out_qsize 0\n",
      "2019-05-21 09:06:56,974 : INFO : EPOCH 4 - PROGRESS: at 6.26% examples, 632931 words/s, in_qsize 19, out_qsize 0\n",
      "2019-05-21 09:06:57,975 : INFO : EPOCH 4 - PROGRESS: at 7.93% examples, 606153 words/s, in_qsize 18, out_qsize 1\n",
      "2019-05-21 09:06:59,009 : INFO : EPOCH 4 - PROGRESS: at 9.79% examples, 608507 words/s, in_qsize 19, out_qsize 0\n",
      "2019-05-21 09:07:00,028 : INFO : EPOCH 4 - PROGRESS: at 11.13% examples, 589374 words/s, in_qsize 19, out_qsize 0\n",
      "2019-05-21 09:07:01,029 : INFO : EPOCH 4 - PROGRESS: at 12.98% examples, 602517 words/s, in_qsize 19, out_qsize 0\n",
      "2019-05-21 09:07:02,029 : INFO : EPOCH 4 - PROGRESS: at 14.75% examples, 601887 words/s, in_qsize 19, out_qsize 0\n",
      "2019-05-21 09:07:03,077 : INFO : EPOCH 4 - PROGRESS: at 16.49% examples, 599187 words/s, in_qsize 18, out_qsize 1\n",
      "2019-05-21 09:07:04,079 : INFO : EPOCH 4 - PROGRESS: at 18.26% examples, 604588 words/s, in_qsize 19, out_qsize 0\n",
      "2019-05-21 09:07:05,118 : INFO : EPOCH 4 - PROGRESS: at 19.68% examples, 597071 words/s, in_qsize 19, out_qsize 0\n",
      "2019-05-21 09:07:06,123 : INFO : EPOCH 4 - PROGRESS: at 21.02% examples, 592074 words/s, in_qsize 18, out_qsize 1\n",
      "2019-05-21 09:07:07,175 : INFO : EPOCH 4 - PROGRESS: at 22.98% examples, 591533 words/s, in_qsize 16, out_qsize 3\n",
      "2019-05-21 09:07:08,195 : INFO : EPOCH 4 - PROGRESS: at 24.50% examples, 591563 words/s, in_qsize 19, out_qsize 0\n",
      "2019-05-21 09:07:09,205 : INFO : EPOCH 4 - PROGRESS: at 26.97% examples, 596888 words/s, in_qsize 19, out_qsize 0\n",
      "2019-05-21 09:07:10,226 : INFO : EPOCH 4 - PROGRESS: at 29.50% examples, 601964 words/s, in_qsize 19, out_qsize 0\n",
      "2019-05-21 09:07:11,227 : INFO : EPOCH 4 - PROGRESS: at 32.12% examples, 608432 words/s, in_qsize 18, out_qsize 1\n"
     ]
    },
    {
     "name": "stderr",
     "output_type": "stream",
     "text": [
      "2019-05-21 09:07:12,228 : INFO : EPOCH 4 - PROGRESS: at 34.53% examples, 613865 words/s, in_qsize 20, out_qsize 0\n",
      "2019-05-21 09:07:13,238 : INFO : EPOCH 4 - PROGRESS: at 36.53% examples, 611231 words/s, in_qsize 16, out_qsize 3\n",
      "2019-05-21 09:07:14,253 : INFO : EPOCH 4 - PROGRESS: at 39.03% examples, 615444 words/s, in_qsize 18, out_qsize 1\n",
      "2019-05-21 09:07:15,301 : INFO : EPOCH 4 - PROGRESS: at 41.44% examples, 616559 words/s, in_qsize 18, out_qsize 4\n",
      "2019-05-21 09:07:16,293 : INFO : EPOCH 4 - PROGRESS: at 43.79% examples, 618302 words/s, in_qsize 19, out_qsize 0\n",
      "2019-05-21 09:07:17,302 : INFO : EPOCH 4 - PROGRESS: at 46.14% examples, 618752 words/s, in_qsize 19, out_qsize 0\n",
      "2019-05-21 09:07:18,369 : INFO : EPOCH 4 - PROGRESS: at 48.31% examples, 618400 words/s, in_qsize 20, out_qsize 1\n",
      "2019-05-21 09:07:19,366 : INFO : EPOCH 4 - PROGRESS: at 50.64% examples, 620052 words/s, in_qsize 19, out_qsize 0\n",
      "2019-05-21 09:07:20,390 : INFO : EPOCH 4 - PROGRESS: at 52.55% examples, 617792 words/s, in_qsize 19, out_qsize 0\n",
      "2019-05-21 09:07:21,391 : INFO : EPOCH 4 - PROGRESS: at 53.91% examples, 610740 words/s, in_qsize 19, out_qsize 1\n",
      "2019-05-21 09:07:22,410 : INFO : EPOCH 4 - PROGRESS: at 55.67% examples, 606152 words/s, in_qsize 18, out_qsize 1\n",
      "2019-05-21 09:07:23,423 : INFO : EPOCH 4 - PROGRESS: at 57.58% examples, 603979 words/s, in_qsize 18, out_qsize 1\n",
      "2019-05-21 09:07:24,459 : INFO : EPOCH 4 - PROGRESS: at 59.86% examples, 605256 words/s, in_qsize 20, out_qsize 0\n",
      "2019-05-21 09:07:25,476 : INFO : EPOCH 4 - PROGRESS: at 61.96% examples, 605278 words/s, in_qsize 19, out_qsize 0\n",
      "2019-05-21 09:07:26,490 : INFO : EPOCH 4 - PROGRESS: at 64.48% examples, 606836 words/s, in_qsize 19, out_qsize 0\n",
      "2019-05-21 09:07:27,537 : INFO : EPOCH 4 - PROGRESS: at 66.80% examples, 609445 words/s, in_qsize 18, out_qsize 1\n",
      "2019-05-21 09:07:28,562 : INFO : EPOCH 4 - PROGRESS: at 69.28% examples, 612396 words/s, in_qsize 19, out_qsize 0\n",
      "2019-05-21 09:07:29,563 : INFO : EPOCH 4 - PROGRESS: at 71.29% examples, 612809 words/s, in_qsize 19, out_qsize 0\n",
      "2019-05-21 09:07:30,567 : INFO : EPOCH 4 - PROGRESS: at 73.82% examples, 615471 words/s, in_qsize 19, out_qsize 0\n",
      "2019-05-21 09:07:31,572 : INFO : EPOCH 4 - PROGRESS: at 76.03% examples, 617606 words/s, in_qsize 18, out_qsize 1\n",
      "2019-05-21 09:07:32,577 : INFO : EPOCH 4 - PROGRESS: at 78.24% examples, 619773 words/s, in_qsize 20, out_qsize 1\n",
      "2019-05-21 09:07:33,610 : INFO : EPOCH 4 - PROGRESS: at 80.58% examples, 621784 words/s, in_qsize 19, out_qsize 0\n",
      "2019-05-21 09:07:34,612 : INFO : EPOCH 4 - PROGRESS: at 83.02% examples, 624360 words/s, in_qsize 19, out_qsize 0\n",
      "2019-05-21 09:07:35,633 : INFO : EPOCH 4 - PROGRESS: at 85.19% examples, 625591 words/s, in_qsize 18, out_qsize 1\n",
      "2019-05-21 09:07:36,643 : INFO : EPOCH 4 - PROGRESS: at 87.57% examples, 626342 words/s, in_qsize 19, out_qsize 0\n",
      "2019-05-21 09:07:37,659 : INFO : EPOCH 4 - PROGRESS: at 89.37% examples, 623507 words/s, in_qsize 19, out_qsize 0\n",
      "2019-05-21 09:07:38,664 : INFO : EPOCH 4 - PROGRESS: at 91.65% examples, 624029 words/s, in_qsize 19, out_qsize 0\n",
      "2019-05-21 09:07:39,679 : INFO : EPOCH 4 - PROGRESS: at 94.02% examples, 625472 words/s, in_qsize 19, out_qsize 0\n",
      "2019-05-21 09:07:40,690 : INFO : EPOCH 4 - PROGRESS: at 96.38% examples, 626640 words/s, in_qsize 19, out_qsize 0\n",
      "2019-05-21 09:07:41,692 : INFO : EPOCH 4 - PROGRESS: at 98.83% examples, 628256 words/s, in_qsize 18, out_qsize 1\n",
      "2019-05-21 09:07:42,049 : INFO : worker thread finished; awaiting finish of 9 more threads\n",
      "2019-05-21 09:07:42,065 : INFO : worker thread finished; awaiting finish of 8 more threads\n",
      "2019-05-21 09:07:42,068 : INFO : worker thread finished; awaiting finish of 7 more threads\n",
      "2019-05-21 09:07:42,075 : INFO : worker thread finished; awaiting finish of 6 more threads\n",
      "2019-05-21 09:07:42,093 : INFO : worker thread finished; awaiting finish of 5 more threads\n",
      "2019-05-21 09:07:42,101 : INFO : worker thread finished; awaiting finish of 4 more threads\n",
      "2019-05-21 09:07:42,104 : INFO : worker thread finished; awaiting finish of 3 more threads\n",
      "2019-05-21 09:07:42,108 : INFO : worker thread finished; awaiting finish of 2 more threads\n",
      "2019-05-21 09:07:42,116 : INFO : worker thread finished; awaiting finish of 1 more threads\n",
      "2019-05-21 09:07:42,120 : INFO : worker thread finished; awaiting finish of 0 more threads\n",
      "2019-05-21 09:07:42,120 : INFO : EPOCH - 4 : training on 41519355 raw words (30347151 effective words) took 48.2s, 629623 effective words/s\n",
      "2019-05-21 09:07:43,131 : INFO : EPOCH 5 - PROGRESS: at 2.13% examples, 667658 words/s, in_qsize 19, out_qsize 0\n",
      "2019-05-21 09:07:44,132 : INFO : EPOCH 5 - PROGRESS: at 4.40% examples, 675818 words/s, in_qsize 19, out_qsize 0\n",
      "2019-05-21 09:07:45,172 : INFO : EPOCH 5 - PROGRESS: at 6.75% examples, 681474 words/s, in_qsize 18, out_qsize 1\n",
      "2019-05-21 09:07:46,175 : INFO : EPOCH 5 - PROGRESS: at 8.97% examples, 690272 words/s, in_qsize 19, out_qsize 0\n",
      "2019-05-21 09:07:47,189 : INFO : EPOCH 5 - PROGRESS: at 10.85% examples, 689795 words/s, in_qsize 18, out_qsize 1\n",
      "2019-05-21 09:07:48,194 : INFO : EPOCH 5 - PROGRESS: at 12.72% examples, 692835 words/s, in_qsize 19, out_qsize 0\n",
      "2019-05-21 09:07:49,201 : INFO : EPOCH 5 - PROGRESS: at 14.87% examples, 697060 words/s, in_qsize 20, out_qsize 0\n",
      "2019-05-21 09:07:50,230 : INFO : EPOCH 5 - PROGRESS: at 16.84% examples, 692133 words/s, in_qsize 18, out_qsize 1\n",
      "2019-05-21 09:07:51,239 : INFO : EPOCH 5 - PROGRESS: at 18.68% examples, 690615 words/s, in_qsize 18, out_qsize 1\n",
      "2019-05-21 09:07:52,251 : INFO : EPOCH 5 - PROGRESS: at 20.43% examples, 688702 words/s, in_qsize 19, out_qsize 0\n",
      "2019-05-21 09:07:53,269 : INFO : EPOCH 5 - PROGRESS: at 22.28% examples, 679768 words/s, in_qsize 19, out_qsize 0\n",
      "2019-05-21 09:07:54,278 : INFO : EPOCH 5 - PROGRESS: at 23.73% examples, 670075 words/s, in_qsize 19, out_qsize 0\n",
      "2019-05-21 09:07:55,309 : INFO : EPOCH 5 - PROGRESS: at 25.64% examples, 664617 words/s, in_qsize 17, out_qsize 2\n",
      "2019-05-21 09:07:56,321 : INFO : EPOCH 5 - PROGRESS: at 28.31% examples, 667659 words/s, in_qsize 20, out_qsize 0\n",
      "2019-05-21 09:07:57,329 : INFO : EPOCH 5 - PROGRESS: at 30.62% examples, 666518 words/s, in_qsize 18, out_qsize 1\n",
      "2019-05-21 09:07:58,338 : INFO : EPOCH 5 - PROGRESS: at 33.17% examples, 668148 words/s, in_qsize 18, out_qsize 1\n",
      "2019-05-21 09:07:59,347 : INFO : EPOCH 5 - PROGRESS: at 35.51% examples, 669358 words/s, in_qsize 20, out_qsize 1\n",
      "2019-05-21 09:08:00,362 : INFO : EPOCH 5 - PROGRESS: at 37.81% examples, 668045 words/s, in_qsize 19, out_qsize 0\n",
      "2019-05-21 09:08:01,371 : INFO : EPOCH 5 - PROGRESS: at 40.20% examples, 667449 words/s, in_qsize 19, out_qsize 0\n",
      "2019-05-21 09:08:02,403 : INFO : EPOCH 5 - PROGRESS: at 42.75% examples, 668648 words/s, in_qsize 20, out_qsize 0\n",
      "2019-05-21 09:08:03,429 : INFO : EPOCH 5 - PROGRESS: at 45.33% examples, 668625 words/s, in_qsize 18, out_qsize 1\n",
      "2019-05-21 09:08:04,444 : INFO : EPOCH 5 - PROGRESS: at 47.33% examples, 664667 words/s, in_qsize 16, out_qsize 3\n",
      "2019-05-21 09:08:05,478 : INFO : EPOCH 5 - PROGRESS: at 49.53% examples, 661788 words/s, in_qsize 18, out_qsize 1\n",
      "2019-05-21 09:08:06,486 : INFO : EPOCH 5 - PROGRESS: at 51.89% examples, 663002 words/s, in_qsize 19, out_qsize 0\n",
      "2019-05-21 09:08:07,505 : INFO : EPOCH 5 - PROGRESS: at 54.10% examples, 663354 words/s, in_qsize 19, out_qsize 0\n",
      "2019-05-21 09:08:08,524 : INFO : EPOCH 5 - PROGRESS: at 56.57% examples, 664071 words/s, in_qsize 19, out_qsize 0\n",
      "2019-05-21 09:08:09,542 : INFO : EPOCH 5 - PROGRESS: at 58.99% examples, 664980 words/s, in_qsize 19, out_qsize 0\n",
      "2019-05-21 09:08:10,554 : INFO : EPOCH 5 - PROGRESS: at 61.27% examples, 664519 words/s, in_qsize 19, out_qsize 0\n",
      "2019-05-21 09:08:11,557 : INFO : EPOCH 5 - PROGRESS: at 63.75% examples, 665457 words/s, in_qsize 19, out_qsize 0\n",
      "2019-05-21 09:08:12,570 : INFO : EPOCH 5 - PROGRESS: at 65.99% examples, 664787 words/s, in_qsize 19, out_qsize 0\n",
      "2019-05-21 09:08:13,596 : INFO : EPOCH 5 - PROGRESS: at 68.30% examples, 664573 words/s, in_qsize 19, out_qsize 0\n",
      "2019-05-21 09:08:14,603 : INFO : EPOCH 5 - PROGRESS: at 70.41% examples, 664328 words/s, in_qsize 19, out_qsize 0\n",
      "2019-05-21 09:08:15,604 : INFO : EPOCH 5 - PROGRESS: at 72.72% examples, 664955 words/s, in_qsize 19, out_qsize 0\n"
     ]
    },
    {
     "name": "stderr",
     "output_type": "stream",
     "text": [
      "2019-05-21 09:08:16,614 : INFO : EPOCH 5 - PROGRESS: at 75.07% examples, 665268 words/s, in_qsize 19, out_qsize 0\n",
      "2019-05-21 09:08:17,650 : INFO : EPOCH 5 - PROGRESS: at 77.31% examples, 666142 words/s, in_qsize 20, out_qsize 0\n",
      "2019-05-21 09:08:18,655 : INFO : EPOCH 5 - PROGRESS: at 79.54% examples, 666723 words/s, in_qsize 17, out_qsize 2\n",
      "2019-05-21 09:08:19,693 : INFO : EPOCH 5 - PROGRESS: at 81.85% examples, 667090 words/s, in_qsize 18, out_qsize 1\n",
      "2019-05-21 09:08:20,709 : INFO : EPOCH 5 - PROGRESS: at 84.19% examples, 667814 words/s, in_qsize 19, out_qsize 0\n",
      "2019-05-21 09:08:21,720 : INFO : EPOCH 5 - PROGRESS: at 86.39% examples, 667816 words/s, in_qsize 19, out_qsize 0\n",
      "2019-05-21 09:08:22,726 : INFO : EPOCH 5 - PROGRESS: at 88.84% examples, 667819 words/s, in_qsize 19, out_qsize 0\n",
      "2019-05-21 09:08:23,729 : INFO : EPOCH 5 - PROGRESS: at 91.26% examples, 668399 words/s, in_qsize 19, out_qsize 0\n",
      "2019-05-21 09:08:24,730 : INFO : EPOCH 5 - PROGRESS: at 93.45% examples, 668083 words/s, in_qsize 17, out_qsize 2\n",
      "2019-05-21 09:08:25,755 : INFO : EPOCH 5 - PROGRESS: at 95.79% examples, 667930 words/s, in_qsize 19, out_qsize 1\n",
      "2019-05-21 09:08:26,750 : INFO : EPOCH 5 - PROGRESS: at 97.91% examples, 666768 words/s, in_qsize 19, out_qsize 0\n",
      "2019-05-21 09:08:27,597 : INFO : worker thread finished; awaiting finish of 9 more threads\n",
      "2019-05-21 09:08:27,620 : INFO : worker thread finished; awaiting finish of 8 more threads\n",
      "2019-05-21 09:08:27,628 : INFO : worker thread finished; awaiting finish of 7 more threads\n",
      "2019-05-21 09:08:27,647 : INFO : worker thread finished; awaiting finish of 6 more threads\n",
      "2019-05-21 09:08:27,648 : INFO : worker thread finished; awaiting finish of 5 more threads\n",
      "2019-05-21 09:08:27,658 : INFO : worker thread finished; awaiting finish of 4 more threads\n",
      "2019-05-21 09:08:27,665 : INFO : worker thread finished; awaiting finish of 3 more threads\n",
      "2019-05-21 09:08:27,669 : INFO : worker thread finished; awaiting finish of 2 more threads\n",
      "2019-05-21 09:08:27,672 : INFO : worker thread finished; awaiting finish of 1 more threads\n",
      "2019-05-21 09:08:27,677 : INFO : worker thread finished; awaiting finish of 0 more threads\n",
      "2019-05-21 09:08:27,678 : INFO : EPOCH - 5 : training on 41519355 raw words (30349914 effective words) took 45.6s, 666251 effective words/s\n",
      "2019-05-21 09:08:27,681 : INFO : training on a 207596775 raw words (151741451 effective words) took 233.6s, 649610 effective words/s\n",
      "2019-05-21 09:08:27,682 : WARNING : Effective 'alpha' higher than previous training cycles\n",
      "2019-05-21 09:08:27,685 : INFO : training model with 10 workers on 70538 vocabulary and 150 features, using sg=0 hs=0 sample=0.001 negative=5 window=10\n",
      "2019-05-21 09:08:28,694 : INFO : EPOCH 1 - PROGRESS: at 2.14% examples, 676731 words/s, in_qsize 19, out_qsize 0\n",
      "2019-05-21 09:08:29,710 : INFO : EPOCH 1 - PROGRESS: at 4.29% examples, 654102 words/s, in_qsize 18, out_qsize 1\n",
      "2019-05-21 09:08:30,713 : INFO : EPOCH 1 - PROGRESS: at 6.38% examples, 651356 words/s, in_qsize 18, out_qsize 1\n",
      "2019-05-21 09:08:31,749 : INFO : EPOCH 1 - PROGRESS: at 8.45% examples, 644615 words/s, in_qsize 20, out_qsize 0\n",
      "2019-05-21 09:08:32,752 : INFO : EPOCH 1 - PROGRESS: at 10.42% examples, 659027 words/s, in_qsize 18, out_qsize 1\n",
      "2019-05-21 09:08:33,784 : INFO : EPOCH 1 - PROGRESS: at 12.30% examples, 665166 words/s, in_qsize 19, out_qsize 0\n",
      "2019-05-21 09:08:34,794 : INFO : EPOCH 1 - PROGRESS: at 14.32% examples, 666973 words/s, in_qsize 19, out_qsize 0\n",
      "2019-05-21 09:08:35,803 : INFO : EPOCH 1 - PROGRESS: at 16.43% examples, 673769 words/s, in_qsize 18, out_qsize 1\n",
      "2019-05-21 09:08:36,807 : INFO : EPOCH 1 - PROGRESS: at 18.35% examples, 676972 words/s, in_qsize 19, out_qsize 0\n",
      "2019-05-21 09:08:37,821 : INFO : EPOCH 1 - PROGRESS: at 20.13% examples, 677690 words/s, in_qsize 16, out_qsize 3\n",
      "2019-05-21 09:08:38,843 : INFO : EPOCH 1 - PROGRESS: at 22.33% examples, 681162 words/s, in_qsize 20, out_qsize 1\n",
      "2019-05-21 09:08:39,843 : INFO : EPOCH 1 - PROGRESS: at 24.00% examples, 679508 words/s, in_qsize 19, out_qsize 0\n",
      "2019-05-21 09:08:40,849 : INFO : EPOCH 1 - PROGRESS: at 26.39% examples, 680753 words/s, in_qsize 19, out_qsize 0\n",
      "2019-05-21 09:08:41,859 : INFO : EPOCH 1 - PROGRESS: at 29.02% examples, 682687 words/s, in_qsize 20, out_qsize 1\n",
      "2019-05-21 09:08:42,883 : INFO : EPOCH 1 - PROGRESS: at 31.64% examples, 684153 words/s, in_qsize 18, out_qsize 1\n",
      "2019-05-21 09:08:43,889 : INFO : EPOCH 1 - PROGRESS: at 34.04% examples, 685699 words/s, in_qsize 18, out_qsize 1\n",
      "2019-05-21 09:08:44,914 : INFO : EPOCH 1 - PROGRESS: at 36.42% examples, 683542 words/s, in_qsize 19, out_qsize 0\n",
      "2019-05-21 09:08:45,914 : INFO : EPOCH 1 - PROGRESS: at 38.85% examples, 683915 words/s, in_qsize 19, out_qsize 0\n",
      "2019-05-21 09:08:46,919 : INFO : EPOCH 1 - PROGRESS: at 41.33% examples, 683851 words/s, in_qsize 19, out_qsize 0\n",
      "2019-05-21 09:08:47,934 : INFO : EPOCH 1 - PROGRESS: at 43.86% examples, 684104 words/s, in_qsize 19, out_qsize 0\n",
      "2019-05-21 09:08:48,955 : INFO : EPOCH 1 - PROGRESS: at 46.46% examples, 685463 words/s, in_qsize 19, out_qsize 0\n",
      "2019-05-21 09:08:49,958 : INFO : EPOCH 1 - PROGRESS: at 48.94% examples, 686618 words/s, in_qsize 19, out_qsize 0\n",
      "2019-05-21 09:08:50,970 : INFO : EPOCH 1 - PROGRESS: at 51.36% examples, 687044 words/s, in_qsize 19, out_qsize 0\n",
      "2019-05-21 09:08:51,989 : INFO : EPOCH 1 - PROGRESS: at 53.68% examples, 687808 words/s, in_qsize 19, out_qsize 0\n",
      "2019-05-21 09:08:53,017 : INFO : EPOCH 1 - PROGRESS: at 56.20% examples, 687880 words/s, in_qsize 18, out_qsize 1\n",
      "2019-05-21 09:08:54,031 : INFO : EPOCH 1 - PROGRESS: at 58.60% examples, 688033 words/s, in_qsize 20, out_qsize 7\n",
      "2019-05-21 09:08:55,036 : INFO : EPOCH 1 - PROGRESS: at 61.22% examples, 690237 words/s, in_qsize 19, out_qsize 0\n",
      "2019-05-21 09:08:56,039 : INFO : EPOCH 1 - PROGRESS: at 63.67% examples, 690074 words/s, in_qsize 18, out_qsize 1\n",
      "2019-05-21 09:08:57,049 : INFO : EPOCH 1 - PROGRESS: at 66.06% examples, 690087 words/s, in_qsize 18, out_qsize 1\n",
      "2019-05-21 09:08:58,076 : INFO : EPOCH 1 - PROGRESS: at 68.27% examples, 687989 words/s, in_qsize 19, out_qsize 0\n",
      "2019-05-21 09:08:59,081 : INFO : EPOCH 1 - PROGRESS: at 70.30% examples, 686360 words/s, in_qsize 15, out_qsize 4\n",
      "2019-05-21 09:09:00,082 : INFO : EPOCH 1 - PROGRESS: at 72.62% examples, 686342 words/s, in_qsize 19, out_qsize 0\n",
      "2019-05-21 09:09:01,093 : INFO : EPOCH 1 - PROGRESS: at 74.90% examples, 685134 words/s, in_qsize 19, out_qsize 0\n",
      "2019-05-21 09:09:02,101 : INFO : EPOCH 1 - PROGRESS: at 77.09% examples, 685622 words/s, in_qsize 19, out_qsize 0\n",
      "2019-05-21 09:09:03,128 : INFO : EPOCH 1 - PROGRESS: at 79.41% examples, 686231 words/s, in_qsize 18, out_qsize 1\n",
      "2019-05-21 09:09:04,136 : INFO : EPOCH 1 - PROGRESS: at 81.73% examples, 686816 words/s, in_qsize 16, out_qsize 3\n",
      "2019-05-21 09:09:05,140 : INFO : EPOCH 1 - PROGRESS: at 84.10% examples, 687248 words/s, in_qsize 19, out_qsize 0\n",
      "2019-05-21 09:09:06,145 : INFO : EPOCH 1 - PROGRESS: at 86.37% examples, 687375 words/s, in_qsize 20, out_qsize 1\n",
      "2019-05-21 09:09:07,155 : INFO : EPOCH 1 - PROGRESS: at 88.86% examples, 687199 words/s, in_qsize 19, out_qsize 0\n",
      "2019-05-21 09:09:08,167 : INFO : EPOCH 1 - PROGRESS: at 91.20% examples, 686600 words/s, in_qsize 19, out_qsize 0\n",
      "2019-05-21 09:09:09,198 : INFO : EPOCH 1 - PROGRESS: at 93.62% examples, 686746 words/s, in_qsize 19, out_qsize 0\n",
      "2019-05-21 09:09:10,206 : INFO : EPOCH 1 - PROGRESS: at 96.07% examples, 687290 words/s, in_qsize 20, out_qsize 0\n",
      "2019-05-21 09:09:11,230 : INFO : EPOCH 1 - PROGRESS: at 98.47% examples, 687155 words/s, in_qsize 19, out_qsize 0\n",
      "2019-05-21 09:09:11,755 : INFO : worker thread finished; awaiting finish of 9 more threads\n",
      "2019-05-21 09:09:11,761 : INFO : worker thread finished; awaiting finish of 8 more threads\n",
      "2019-05-21 09:09:11,763 : INFO : worker thread finished; awaiting finish of 7 more threads\n",
      "2019-05-21 09:09:11,784 : INFO : worker thread finished; awaiting finish of 6 more threads\n",
      "2019-05-21 09:09:11,801 : INFO : worker thread finished; awaiting finish of 5 more threads\n",
      "2019-05-21 09:09:11,802 : INFO : worker thread finished; awaiting finish of 4 more threads\n",
      "2019-05-21 09:09:11,804 : INFO : worker thread finished; awaiting finish of 3 more threads\n"
     ]
    },
    {
     "name": "stderr",
     "output_type": "stream",
     "text": [
      "2019-05-21 09:09:11,816 : INFO : worker thread finished; awaiting finish of 2 more threads\n",
      "2019-05-21 09:09:11,817 : INFO : worker thread finished; awaiting finish of 1 more threads\n",
      "2019-05-21 09:09:11,820 : INFO : worker thread finished; awaiting finish of 0 more threads\n",
      "2019-05-21 09:09:11,821 : INFO : EPOCH - 1 : training on 41519355 raw words (30347953 effective words) took 44.1s, 687693 effective words/s\n",
      "2019-05-21 09:09:12,828 : INFO : EPOCH 2 - PROGRESS: at 2.08% examples, 656926 words/s, in_qsize 19, out_qsize 0\n",
      "2019-05-21 09:09:13,833 : INFO : EPOCH 2 - PROGRESS: at 4.36% examples, 669602 words/s, in_qsize 17, out_qsize 2\n",
      "2019-05-21 09:09:14,844 : INFO : EPOCH 2 - PROGRESS: at 6.59% examples, 674082 words/s, in_qsize 18, out_qsize 1\n",
      "2019-05-21 09:09:15,854 : INFO : EPOCH 2 - PROGRESS: at 8.83% examples, 679934 words/s, in_qsize 19, out_qsize 0\n",
      "2019-05-21 09:09:16,860 : INFO : EPOCH 2 - PROGRESS: at 10.71% examples, 681389 words/s, in_qsize 19, out_qsize 3\n",
      "2019-05-21 09:09:17,882 : INFO : EPOCH 2 - PROGRESS: at 12.48% examples, 681267 words/s, in_qsize 17, out_qsize 2\n",
      "2019-05-21 09:09:18,884 : INFO : EPOCH 2 - PROGRESS: at 14.70% examples, 688599 words/s, in_qsize 19, out_qsize 0\n",
      "2019-05-21 09:09:19,891 : INFO : EPOCH 2 - PROGRESS: at 16.66% examples, 688528 words/s, in_qsize 20, out_qsize 1\n",
      "2019-05-21 09:09:20,901 : INFO : EPOCH 2 - PROGRESS: at 18.64% examples, 692096 words/s, in_qsize 19, out_qsize 0\n",
      "2019-05-21 09:09:21,912 : INFO : EPOCH 2 - PROGRESS: at 20.32% examples, 687829 words/s, in_qsize 16, out_qsize 3\n",
      "2019-05-21 09:09:22,932 : INFO : EPOCH 2 - PROGRESS: at 22.43% examples, 687224 words/s, in_qsize 19, out_qsize 0\n",
      "2019-05-21 09:09:23,938 : INFO : EPOCH 2 - PROGRESS: at 23.98% examples, 681218 words/s, in_qsize 18, out_qsize 1\n",
      "2019-05-21 09:09:24,939 : INFO : EPOCH 2 - PROGRESS: at 26.35% examples, 682005 words/s, in_qsize 19, out_qsize 0\n",
      "2019-05-21 09:09:25,941 : INFO : EPOCH 2 - PROGRESS: at 28.83% examples, 681684 words/s, in_qsize 19, out_qsize 0\n",
      "2019-05-21 09:09:26,954 : INFO : EPOCH 2 - PROGRESS: at 31.17% examples, 678958 words/s, in_qsize 19, out_qsize 0\n",
      "2019-05-21 09:09:27,955 : INFO : EPOCH 2 - PROGRESS: at 33.56% examples, 678764 words/s, in_qsize 18, out_qsize 1\n",
      "2019-05-21 09:09:28,969 : INFO : EPOCH 2 - PROGRESS: at 35.96% examples, 679963 words/s, in_qsize 19, out_qsize 0\n",
      "2019-05-21 09:09:29,992 : INFO : EPOCH 2 - PROGRESS: at 38.31% examples, 678055 words/s, in_qsize 19, out_qsize 0\n",
      "2019-05-21 09:09:30,994 : INFO : EPOCH 2 - PROGRESS: at 40.87% examples, 680240 words/s, in_qsize 19, out_qsize 0\n",
      "2019-05-21 09:09:32,000 : INFO : EPOCH 2 - PROGRESS: at 43.21% examples, 677732 words/s, in_qsize 19, out_qsize 2\n",
      "2019-05-21 09:09:33,007 : INFO : EPOCH 2 - PROGRESS: at 45.85% examples, 679194 words/s, in_qsize 20, out_qsize 2\n",
      "2019-05-21 09:09:34,023 : INFO : EPOCH 2 - PROGRESS: at 48.24% examples, 679947 words/s, in_qsize 19, out_qsize 0\n",
      "2019-05-21 09:09:35,023 : INFO : EPOCH 2 - PROGRESS: at 50.57% examples, 679150 words/s, in_qsize 19, out_qsize 1\n",
      "2019-05-21 09:09:36,051 : INFO : EPOCH 2 - PROGRESS: at 52.85% examples, 679150 words/s, in_qsize 18, out_qsize 1\n",
      "2019-05-21 09:09:37,063 : INFO : EPOCH 2 - PROGRESS: at 55.28% examples, 679935 words/s, in_qsize 19, out_qsize 0\n",
      "2019-05-21 09:09:38,067 : INFO : EPOCH 2 - PROGRESS: at 57.65% examples, 679840 words/s, in_qsize 19, out_qsize 0\n",
      "2019-05-21 09:09:39,087 : INFO : EPOCH 2 - PROGRESS: at 60.03% examples, 679867 words/s, in_qsize 19, out_qsize 0\n",
      "2019-05-21 09:09:40,093 : INFO : EPOCH 2 - PROGRESS: at 62.47% examples, 680794 words/s, in_qsize 19, out_qsize 0\n",
      "2019-05-21 09:09:41,116 : INFO : EPOCH 2 - PROGRESS: at 65.07% examples, 680619 words/s, in_qsize 19, out_qsize 0\n",
      "2019-05-21 09:09:42,142 : INFO : EPOCH 2 - PROGRESS: at 67.43% examples, 681466 words/s, in_qsize 19, out_qsize 0\n",
      "2019-05-21 09:09:43,158 : INFO : EPOCH 2 - PROGRESS: at 69.73% examples, 681641 words/s, in_qsize 18, out_qsize 1\n",
      "2019-05-21 09:09:44,173 : INFO : EPOCH 2 - PROGRESS: at 71.88% examples, 681003 words/s, in_qsize 20, out_qsize 3\n",
      "2019-05-21 09:09:45,256 : INFO : EPOCH 2 - PROGRESS: at 74.44% examples, 680508 words/s, in_qsize 18, out_qsize 1\n",
      "2019-05-21 09:09:46,274 : INFO : EPOCH 2 - PROGRESS: at 76.46% examples, 679402 words/s, in_qsize 19, out_qsize 0\n",
      "2019-05-21 09:09:47,285 : INFO : EPOCH 2 - PROGRESS: at 78.60% examples, 678907 words/s, in_qsize 19, out_qsize 0\n",
      "2019-05-21 09:09:48,291 : INFO : EPOCH 2 - PROGRESS: at 80.85% examples, 679136 words/s, in_qsize 19, out_qsize 0\n",
      "2019-05-21 09:09:49,326 : INFO : EPOCH 2 - PROGRESS: at 82.94% examples, 676923 words/s, in_qsize 18, out_qsize 1\n",
      "2019-05-21 09:09:50,350 : INFO : EPOCH 2 - PROGRESS: at 84.80% examples, 674215 words/s, in_qsize 19, out_qsize 0\n",
      "2019-05-21 09:09:51,354 : INFO : EPOCH 2 - PROGRESS: at 87.33% examples, 675487 words/s, in_qsize 20, out_qsize 0\n",
      "2019-05-21 09:09:52,363 : INFO : EPOCH 2 - PROGRESS: at 89.38% examples, 672768 words/s, in_qsize 19, out_qsize 2\n",
      "2019-05-21 09:09:53,371 : INFO : EPOCH 2 - PROGRESS: at 91.91% examples, 673823 words/s, in_qsize 20, out_qsize 0\n",
      "2019-05-21 09:09:54,393 : INFO : EPOCH 2 - PROGRESS: at 94.14% examples, 673223 words/s, in_qsize 19, out_qsize 0\n",
      "2019-05-21 09:09:55,399 : INFO : EPOCH 2 - PROGRESS: at 96.56% examples, 673912 words/s, in_qsize 19, out_qsize 0\n",
      "2019-05-21 09:09:56,407 : INFO : EPOCH 2 - PROGRESS: at 99.14% examples, 675316 words/s, in_qsize 19, out_qsize 0\n",
      "2019-05-21 09:09:56,665 : INFO : worker thread finished; awaiting finish of 9 more threads\n",
      "2019-05-21 09:09:56,670 : INFO : worker thread finished; awaiting finish of 8 more threads\n",
      "2019-05-21 09:09:56,687 : INFO : worker thread finished; awaiting finish of 7 more threads\n",
      "2019-05-21 09:09:56,698 : INFO : worker thread finished; awaiting finish of 6 more threads\n",
      "2019-05-21 09:09:56,722 : INFO : worker thread finished; awaiting finish of 5 more threads\n",
      "2019-05-21 09:09:56,725 : INFO : worker thread finished; awaiting finish of 4 more threads\n",
      "2019-05-21 09:09:56,730 : INFO : worker thread finished; awaiting finish of 3 more threads\n",
      "2019-05-21 09:09:56,739 : INFO : worker thread finished; awaiting finish of 2 more threads\n",
      "2019-05-21 09:09:56,745 : INFO : worker thread finished; awaiting finish of 1 more threads\n",
      "2019-05-21 09:09:56,746 : INFO : worker thread finished; awaiting finish of 0 more threads\n",
      "2019-05-21 09:09:56,748 : INFO : EPOCH - 2 : training on 41519355 raw words (30346670 effective words) took 44.9s, 675555 effective words/s\n",
      "2019-05-21 09:09:57,765 : INFO : EPOCH 3 - PROGRESS: at 2.14% examples, 672103 words/s, in_qsize 19, out_qsize 0\n",
      "2019-05-21 09:09:58,787 : INFO : EPOCH 3 - PROGRESS: at 4.40% examples, 667629 words/s, in_qsize 19, out_qsize 1\n",
      "2019-05-21 09:09:59,801 : INFO : EPOCH 3 - PROGRESS: at 6.62% examples, 669825 words/s, in_qsize 20, out_qsize 0\n",
      "2019-05-21 09:10:00,802 : INFO : EPOCH 3 - PROGRESS: at 8.67% examples, 662268 words/s, in_qsize 19, out_qsize 0\n",
      "2019-05-21 09:10:01,809 : INFO : EPOCH 3 - PROGRESS: at 10.64% examples, 672732 words/s, in_qsize 19, out_qsize 0\n",
      "2019-05-21 09:10:02,817 : INFO : EPOCH 3 - PROGRESS: at 12.32% examples, 669624 words/s, in_qsize 19, out_qsize 3\n",
      "2019-05-21 09:10:03,820 : INFO : EPOCH 3 - PROGRESS: at 14.48% examples, 677522 words/s, in_qsize 19, out_qsize 0\n",
      "2019-05-21 09:10:04,825 : INFO : EPOCH 3 - PROGRESS: at 16.46% examples, 678070 words/s, in_qsize 20, out_qsize 0\n",
      "2019-05-21 09:10:05,826 : INFO : EPOCH 3 - PROGRESS: at 18.30% examples, 678651 words/s, in_qsize 19, out_qsize 0\n",
      "2019-05-21 09:10:06,846 : INFO : EPOCH 3 - PROGRESS: at 19.86% examples, 669646 words/s, in_qsize 20, out_qsize 0\n",
      "2019-05-21 09:10:07,851 : INFO : EPOCH 3 - PROGRESS: at 21.59% examples, 659189 words/s, in_qsize 20, out_qsize 0\n",
      "2019-05-21 09:10:08,856 : INFO : EPOCH 3 - PROGRESS: at 23.23% examples, 656825 words/s, in_qsize 19, out_qsize 0\n",
      "2019-05-21 09:10:09,872 : INFO : EPOCH 3 - PROGRESS: at 24.67% examples, 648106 words/s, in_qsize 19, out_qsize 0\n",
      "2019-05-21 09:10:10,873 : INFO : EPOCH 3 - PROGRESS: at 27.00% examples, 646703 words/s, in_qsize 19, out_qsize 0\n",
      "2019-05-21 09:10:11,903 : INFO : EPOCH 3 - PROGRESS: at 29.24% examples, 642704 words/s, in_qsize 15, out_qsize 4\n",
      "2019-05-21 09:10:12,924 : INFO : EPOCH 3 - PROGRESS: at 31.73% examples, 644085 words/s, in_qsize 19, out_qsize 0\n"
     ]
    },
    {
     "name": "stderr",
     "output_type": "stream",
     "text": [
      "2019-05-21 09:10:13,932 : INFO : EPOCH 3 - PROGRESS: at 34.08% examples, 647039 words/s, in_qsize 19, out_qsize 0\n",
      "2019-05-21 09:10:14,939 : INFO : EPOCH 3 - PROGRESS: at 36.64% examples, 650918 words/s, in_qsize 19, out_qsize 0\n",
      "2019-05-21 09:10:15,943 : INFO : EPOCH 3 - PROGRESS: at 39.11% examples, 653250 words/s, in_qsize 19, out_qsize 0\n",
      "2019-05-21 09:10:16,944 : INFO : EPOCH 3 - PROGRESS: at 41.48% examples, 653063 words/s, in_qsize 19, out_qsize 0\n",
      "2019-05-21 09:10:17,972 : INFO : EPOCH 3 - PROGRESS: at 43.88% examples, 653014 words/s, in_qsize 19, out_qsize 0\n",
      "2019-05-21 09:10:18,974 : INFO : EPOCH 3 - PROGRESS: at 46.20% examples, 652065 words/s, in_qsize 19, out_qsize 0\n",
      "2019-05-21 09:10:19,988 : INFO : EPOCH 3 - PROGRESS: at 48.40% examples, 651497 words/s, in_qsize 18, out_qsize 1\n",
      "2019-05-21 09:10:21,003 : INFO : EPOCH 3 - PROGRESS: at 50.90% examples, 653638 words/s, in_qsize 19, out_qsize 3\n",
      "2019-05-21 09:10:22,040 : INFO : EPOCH 3 - PROGRESS: at 53.21% examples, 655508 words/s, in_qsize 17, out_qsize 2\n",
      "2019-05-21 09:10:23,091 : INFO : EPOCH 3 - PROGRESS: at 55.73% examples, 656928 words/s, in_qsize 20, out_qsize 5\n",
      "2019-05-21 09:10:24,078 : INFO : EPOCH 3 - PROGRESS: at 58.27% examples, 659800 words/s, in_qsize 19, out_qsize 0\n",
      "2019-05-21 09:10:25,078 : INFO : EPOCH 3 - PROGRESS: at 60.63% examples, 660545 words/s, in_qsize 19, out_qsize 0\n",
      "2019-05-21 09:10:26,095 : INFO : EPOCH 3 - PROGRESS: at 63.08% examples, 661814 words/s, in_qsize 19, out_qsize 0\n",
      "2019-05-21 09:10:27,100 : INFO : EPOCH 3 - PROGRESS: at 65.61% examples, 662900 words/s, in_qsize 19, out_qsize 0\n",
      "2019-05-21 09:10:28,111 : INFO : EPOCH 3 - PROGRESS: at 67.69% examples, 661189 words/s, in_qsize 19, out_qsize 3\n",
      "2019-05-21 09:10:29,112 : INFO : EPOCH 3 - PROGRESS: at 69.92% examples, 661872 words/s, in_qsize 19, out_qsize 0\n",
      "2019-05-21 09:10:30,144 : INFO : EPOCH 3 - PROGRESS: at 71.98% examples, 660661 words/s, in_qsize 20, out_qsize 1\n",
      "2019-05-21 09:10:31,156 : INFO : EPOCH 3 - PROGRESS: at 74.55% examples, 662341 words/s, in_qsize 19, out_qsize 0\n",
      "2019-05-21 09:10:32,183 : INFO : EPOCH 3 - PROGRESS: at 76.74% examples, 663310 words/s, in_qsize 17, out_qsize 3\n",
      "2019-05-21 09:10:33,185 : INFO : EPOCH 3 - PROGRESS: at 79.09% examples, 664724 words/s, in_qsize 19, out_qsize 0\n",
      "2019-05-21 09:10:34,190 : INFO : EPOCH 3 - PROGRESS: at 81.32% examples, 665372 words/s, in_qsize 19, out_qsize 0\n",
      "2019-05-21 09:10:35,194 : INFO : EPOCH 3 - PROGRESS: at 83.67% examples, 666145 words/s, in_qsize 19, out_qsize 0\n",
      "2019-05-21 09:10:36,196 : INFO : EPOCH 3 - PROGRESS: at 85.80% examples, 666152 words/s, in_qsize 19, out_qsize 0\n",
      "2019-05-21 09:10:37,210 : INFO : EPOCH 3 - PROGRESS: at 87.84% examples, 663209 words/s, in_qsize 19, out_qsize 0\n",
      "2019-05-21 09:10:38,217 : INFO : EPOCH 3 - PROGRESS: at 89.95% examples, 661701 words/s, in_qsize 18, out_qsize 1\n",
      "2019-05-21 09:10:39,232 : INFO : EPOCH 3 - PROGRESS: at 92.38% examples, 662042 words/s, in_qsize 19, out_qsize 0\n",
      "2019-05-21 09:10:40,243 : INFO : EPOCH 3 - PROGRESS: at 94.64% examples, 662233 words/s, in_qsize 19, out_qsize 0\n",
      "2019-05-21 09:10:41,271 : INFO : EPOCH 3 - PROGRESS: at 97.07% examples, 662808 words/s, in_qsize 20, out_qsize 1\n",
      "2019-05-21 09:10:42,297 : INFO : EPOCH 3 - PROGRESS: at 99.45% examples, 662913 words/s, in_qsize 19, out_qsize 0\n",
      "2019-05-21 09:10:42,424 : INFO : worker thread finished; awaiting finish of 9 more threads\n",
      "2019-05-21 09:10:42,428 : INFO : worker thread finished; awaiting finish of 8 more threads\n",
      "2019-05-21 09:10:42,432 : INFO : worker thread finished; awaiting finish of 7 more threads\n",
      "2019-05-21 09:10:42,435 : INFO : worker thread finished; awaiting finish of 6 more threads\n",
      "2019-05-21 09:10:42,439 : INFO : worker thread finished; awaiting finish of 5 more threads\n",
      "2019-05-21 09:10:42,452 : INFO : worker thread finished; awaiting finish of 4 more threads\n",
      "2019-05-21 09:10:42,458 : INFO : worker thread finished; awaiting finish of 3 more threads\n",
      "2019-05-21 09:10:42,459 : INFO : worker thread finished; awaiting finish of 2 more threads\n",
      "2019-05-21 09:10:42,463 : INFO : worker thread finished; awaiting finish of 1 more threads\n",
      "2019-05-21 09:10:42,466 : INFO : worker thread finished; awaiting finish of 0 more threads\n",
      "2019-05-21 09:10:42,466 : INFO : EPOCH - 3 : training on 41519355 raw words (30345176 effective words) took 45.7s, 663843 effective words/s\n",
      "2019-05-21 09:10:43,483 : INFO : EPOCH 4 - PROGRESS: at 1.97% examples, 618573 words/s, in_qsize 19, out_qsize 0\n",
      "2019-05-21 09:10:44,491 : INFO : EPOCH 4 - PROGRESS: at 4.32% examples, 659963 words/s, in_qsize 19, out_qsize 0\n",
      "2019-05-21 09:10:45,518 : INFO : EPOCH 4 - PROGRESS: at 6.63% examples, 679019 words/s, in_qsize 17, out_qsize 1\n",
      "2019-05-21 09:10:46,507 : INFO : EPOCH 4 - PROGRESS: at 8.74% examples, 672557 words/s, in_qsize 19, out_qsize 0\n",
      "2019-05-21 09:10:47,516 : INFO : EPOCH 4 - PROGRESS: at 10.65% examples, 676534 words/s, in_qsize 18, out_qsize 1\n",
      "2019-05-21 09:10:48,545 : INFO : EPOCH 4 - PROGRESS: at 12.41% examples, 674151 words/s, in_qsize 19, out_qsize 2\n",
      "2019-05-21 09:10:49,549 : INFO : EPOCH 4 - PROGRESS: at 14.52% examples, 679168 words/s, in_qsize 18, out_qsize 1\n",
      "2019-05-21 09:10:50,553 : INFO : EPOCH 4 - PROGRESS: at 16.51% examples, 680584 words/s, in_qsize 18, out_qsize 1\n",
      "2019-05-21 09:10:51,593 : INFO : EPOCH 4 - PROGRESS: at 18.39% examples, 678689 words/s, in_qsize 18, out_qsize 1\n",
      "2019-05-21 09:10:52,604 : INFO : EPOCH 4 - PROGRESS: at 20.11% examples, 677286 words/s, in_qsize 18, out_qsize 1\n",
      "2019-05-21 09:10:53,615 : INFO : EPOCH 4 - PROGRESS: at 22.27% examples, 679501 words/s, in_qsize 20, out_qsize 0\n",
      "2019-05-21 09:10:54,617 : INFO : EPOCH 4 - PROGRESS: at 24.01% examples, 680337 words/s, in_qsize 18, out_qsize 1\n",
      "2019-05-21 09:10:55,619 : INFO : EPOCH 4 - PROGRESS: at 26.25% examples, 679598 words/s, in_qsize 19, out_qsize 0\n",
      "2019-05-21 09:10:56,630 : INFO : EPOCH 4 - PROGRESS: at 28.83% examples, 680019 words/s, in_qsize 19, out_qsize 0\n",
      "2019-05-21 09:10:57,637 : INFO : EPOCH 4 - PROGRESS: at 31.39% examples, 681550 words/s, in_qsize 20, out_qsize 1\n",
      "2019-05-21 09:10:58,638 : INFO : EPOCH 4 - PROGRESS: at 33.72% examples, 681218 words/s, in_qsize 20, out_qsize 0\n",
      "2019-05-21 09:10:59,659 : INFO : EPOCH 4 - PROGRESS: at 36.14% examples, 681166 words/s, in_qsize 20, out_qsize 1\n",
      "2019-05-21 09:11:00,715 : INFO : EPOCH 4 - PROGRESS: at 38.68% examples, 680775 words/s, in_qsize 20, out_qsize 0\n",
      "2019-05-21 09:11:01,719 : INFO : EPOCH 4 - PROGRESS: at 41.23% examples, 682002 words/s, in_qsize 19, out_qsize 0\n",
      "2019-05-21 09:11:02,728 : INFO : EPOCH 4 - PROGRESS: at 43.64% examples, 681151 words/s, in_qsize 20, out_qsize 3\n",
      "2019-05-21 09:11:03,749 : INFO : EPOCH 4 - PROGRESS: at 46.22% examples, 681655 words/s, in_qsize 19, out_qsize 0\n",
      "2019-05-21 09:11:04,773 : INFO : EPOCH 4 - PROGRESS: at 48.47% examples, 680377 words/s, in_qsize 18, out_qsize 3\n",
      "2019-05-21 09:11:05,794 : INFO : EPOCH 4 - PROGRESS: at 50.99% examples, 681188 words/s, in_qsize 19, out_qsize 0\n",
      "2019-05-21 09:11:06,805 : INFO : EPOCH 4 - PROGRESS: at 53.15% examples, 680595 words/s, in_qsize 19, out_qsize 0\n",
      "2019-05-21 09:11:07,811 : INFO : EPOCH 4 - PROGRESS: at 55.58% examples, 680684 words/s, in_qsize 19, out_qsize 0\n",
      "2019-05-21 09:11:08,816 : INFO : EPOCH 4 - PROGRESS: at 57.88% examples, 680212 words/s, in_qsize 18, out_qsize 1\n",
      "2019-05-21 09:11:09,825 : INFO : EPOCH 4 - PROGRESS: at 60.27% examples, 680549 words/s, in_qsize 19, out_qsize 0\n",
      "2019-05-21 09:11:10,828 : INFO : EPOCH 4 - PROGRESS: at 62.70% examples, 681217 words/s, in_qsize 19, out_qsize 0\n",
      "2019-05-21 09:11:11,835 : INFO : EPOCH 4 - PROGRESS: at 65.21% examples, 680947 words/s, in_qsize 19, out_qsize 0\n",
      "2019-05-21 09:11:12,835 : INFO : EPOCH 4 - PROGRESS: at 67.50% examples, 681379 words/s, in_qsize 18, out_qsize 1\n",
      "2019-05-21 09:11:13,843 : INFO : EPOCH 4 - PROGRESS: at 69.75% examples, 681060 words/s, in_qsize 19, out_qsize 0\n",
      "2019-05-21 09:11:14,849 : INFO : EPOCH 4 - PROGRESS: at 71.90% examples, 680866 words/s, in_qsize 19, out_qsize 0\n",
      "2019-05-21 09:11:15,861 : INFO : EPOCH 4 - PROGRESS: at 74.40% examples, 681166 words/s, in_qsize 18, out_qsize 1\n",
      "2019-05-21 09:11:16,861 : INFO : EPOCH 4 - PROGRESS: at 76.56% examples, 681445 words/s, in_qsize 19, out_qsize 0\n"
     ]
    },
    {
     "name": "stderr",
     "output_type": "stream",
     "text": [
      "2019-05-21 09:11:17,884 : INFO : EPOCH 4 - PROGRESS: at 78.78% examples, 681467 words/s, in_qsize 20, out_qsize 0\n",
      "2019-05-21 09:11:18,902 : INFO : EPOCH 4 - PROGRESS: at 80.98% examples, 681020 words/s, in_qsize 20, out_qsize 0\n",
      "2019-05-21 09:11:19,905 : INFO : EPOCH 4 - PROGRESS: at 83.37% examples, 681821 words/s, in_qsize 19, out_qsize 0\n",
      "2019-05-21 09:11:20,907 : INFO : EPOCH 4 - PROGRESS: at 85.46% examples, 681394 words/s, in_qsize 19, out_qsize 0\n",
      "2019-05-21 09:11:21,913 : INFO : EPOCH 4 - PROGRESS: at 87.99% examples, 681581 words/s, in_qsize 18, out_qsize 1\n",
      "2019-05-21 09:11:22,953 : INFO : EPOCH 4 - PROGRESS: at 90.38% examples, 680876 words/s, in_qsize 19, out_qsize 1\n",
      "2019-05-21 09:11:23,969 : INFO : EPOCH 4 - PROGRESS: at 92.64% examples, 680030 words/s, in_qsize 19, out_qsize 0\n",
      "2019-05-21 09:11:24,978 : INFO : EPOCH 4 - PROGRESS: at 95.12% examples, 681037 words/s, in_qsize 19, out_qsize 0\n",
      "2019-05-21 09:11:25,988 : INFO : EPOCH 4 - PROGRESS: at 97.48% examples, 680942 words/s, in_qsize 19, out_qsize 0\n",
      "2019-05-21 09:11:26,943 : INFO : worker thread finished; awaiting finish of 9 more threads\n",
      "2019-05-21 09:11:26,950 : INFO : worker thread finished; awaiting finish of 8 more threads\n",
      "2019-05-21 09:11:26,965 : INFO : worker thread finished; awaiting finish of 7 more threads\n",
      "2019-05-21 09:11:26,984 : INFO : worker thread finished; awaiting finish of 6 more threads\n",
      "2019-05-21 09:11:26,988 : INFO : worker thread finished; awaiting finish of 5 more threads\n",
      "2019-05-21 09:11:26,993 : INFO : EPOCH 4 - PROGRESS: at 99.89% examples, 681219 words/s, in_qsize 4, out_qsize 1\n",
      "2019-05-21 09:11:26,996 : INFO : worker thread finished; awaiting finish of 4 more threads\n",
      "2019-05-21 09:11:26,997 : INFO : worker thread finished; awaiting finish of 3 more threads\n",
      "2019-05-21 09:11:26,999 : INFO : worker thread finished; awaiting finish of 2 more threads\n",
      "2019-05-21 09:11:27,000 : INFO : worker thread finished; awaiting finish of 1 more threads\n",
      "2019-05-21 09:11:27,006 : INFO : worker thread finished; awaiting finish of 0 more threads\n",
      "2019-05-21 09:11:27,007 : INFO : EPOCH - 4 : training on 41519355 raw words (30351707 effective words) took 44.5s, 681644 effective words/s\n",
      "2019-05-21 09:11:28,030 : INFO : EPOCH 5 - PROGRESS: at 2.09% examples, 645883 words/s, in_qsize 16, out_qsize 3\n",
      "2019-05-21 09:11:29,042 : INFO : EPOCH 5 - PROGRESS: at 4.41% examples, 668677 words/s, in_qsize 19, out_qsize 0\n",
      "2019-05-21 09:11:30,057 : INFO : EPOCH 5 - PROGRESS: at 6.65% examples, 672317 words/s, in_qsize 19, out_qsize 0\n",
      "2019-05-21 09:11:31,077 : INFO : EPOCH 5 - PROGRESS: at 8.83% examples, 673482 words/s, in_qsize 19, out_qsize 0\n",
      "2019-05-21 09:11:32,105 : INFO : EPOCH 5 - PROGRESS: at 10.64% examples, 669165 words/s, in_qsize 16, out_qsize 3\n",
      "2019-05-21 09:11:33,113 : INFO : EPOCH 5 - PROGRESS: at 12.48% examples, 676248 words/s, in_qsize 19, out_qsize 0\n",
      "2019-05-21 09:11:34,126 : INFO : EPOCH 5 - PROGRESS: at 14.48% examples, 673075 words/s, in_qsize 18, out_qsize 5\n",
      "2019-05-21 09:11:35,140 : INFO : EPOCH 5 - PROGRESS: at 16.50% examples, 675254 words/s, in_qsize 20, out_qsize 1\n",
      "2019-05-21 09:11:36,152 : INFO : EPOCH 5 - PROGRESS: at 18.34% examples, 675290 words/s, in_qsize 19, out_qsize 0\n",
      "2019-05-21 09:11:37,171 : INFO : EPOCH 5 - PROGRESS: at 20.15% examples, 676561 words/s, in_qsize 20, out_qsize 0\n",
      "2019-05-21 09:11:38,183 : INFO : EPOCH 5 - PROGRESS: at 22.20% examples, 675571 words/s, in_qsize 18, out_qsize 1\n",
      "2019-05-21 09:11:39,186 : INFO : EPOCH 5 - PROGRESS: at 23.96% examples, 677285 words/s, in_qsize 19, out_qsize 0\n",
      "2019-05-21 09:11:40,187 : INFO : EPOCH 5 - PROGRESS: at 26.25% examples, 677179 words/s, in_qsize 19, out_qsize 0\n",
      "2019-05-21 09:11:41,189 : INFO : EPOCH 5 - PROGRESS: at 28.74% examples, 677202 words/s, in_qsize 17, out_qsize 2\n",
      "2019-05-21 09:11:42,204 : INFO : EPOCH 5 - PROGRESS: at 31.24% examples, 677075 words/s, in_qsize 18, out_qsize 1\n",
      "2019-05-21 09:11:43,211 : INFO : EPOCH 5 - PROGRESS: at 33.64% examples, 677581 words/s, in_qsize 18, out_qsize 1\n",
      "2019-05-21 09:11:44,220 : INFO : EPOCH 5 - PROGRESS: at 35.90% examples, 676578 words/s, in_qsize 19, out_qsize 0\n",
      "2019-05-21 09:11:45,244 : INFO : EPOCH 5 - PROGRESS: at 38.31% examples, 675632 words/s, in_qsize 20, out_qsize 0\n",
      "2019-05-21 09:11:46,262 : INFO : EPOCH 5 - PROGRESS: at 40.70% examples, 675117 words/s, in_qsize 19, out_qsize 0\n",
      "2019-05-21 09:11:47,272 : INFO : EPOCH 5 - PROGRESS: at 43.36% examples, 677021 words/s, in_qsize 19, out_qsize 0\n",
      "2019-05-21 09:11:48,275 : INFO : EPOCH 5 - PROGRESS: at 45.81% examples, 676269 words/s, in_qsize 19, out_qsize 0\n",
      "2019-05-21 09:11:49,296 : INFO : EPOCH 5 - PROGRESS: at 48.23% examples, 677280 words/s, in_qsize 15, out_qsize 4\n",
      "2019-05-21 09:11:50,317 : INFO : EPOCH 5 - PROGRESS: at 50.77% examples, 678518 words/s, in_qsize 17, out_qsize 2\n",
      "2019-05-21 09:11:51,358 : INFO : EPOCH 5 - PROGRESS: at 53.03% examples, 678421 words/s, in_qsize 20, out_qsize 1\n",
      "2019-05-21 09:11:52,369 : INFO : EPOCH 5 - PROGRESS: at 55.58% examples, 679876 words/s, in_qsize 17, out_qsize 2\n",
      "2019-05-21 09:11:53,403 : INFO : EPOCH 5 - PROGRESS: at 58.01% examples, 680068 words/s, in_qsize 18, out_qsize 1\n",
      "2019-05-21 09:11:54,411 : INFO : EPOCH 5 - PROGRESS: at 60.46% examples, 680979 words/s, in_qsize 19, out_qsize 0\n",
      "2019-05-21 09:11:55,449 : INFO : EPOCH 5 - PROGRESS: at 62.93% examples, 681303 words/s, in_qsize 20, out_qsize 1\n",
      "2019-05-21 09:11:56,463 : INFO : EPOCH 5 - PROGRESS: at 65.30% examples, 679626 words/s, in_qsize 19, out_qsize 0\n",
      "2019-05-21 09:11:57,465 : INFO : EPOCH 5 - PROGRESS: at 67.64% examples, 680557 words/s, in_qsize 19, out_qsize 0\n",
      "2019-05-21 09:11:58,501 : INFO : EPOCH 5 - PROGRESS: at 70.01% examples, 681243 words/s, in_qsize 19, out_qsize 0\n",
      "2019-05-21 09:11:59,510 : INFO : EPOCH 5 - PROGRESS: at 72.39% examples, 682320 words/s, in_qsize 19, out_qsize 0\n",
      "2019-05-21 09:12:00,555 : INFO : EPOCH 5 - PROGRESS: at 74.86% examples, 681860 words/s, in_qsize 19, out_qsize 0\n",
      "2019-05-21 09:12:01,559 : INFO : EPOCH 5 - PROGRESS: at 77.15% examples, 683501 words/s, in_qsize 19, out_qsize 0\n",
      "2019-05-21 09:12:02,567 : INFO : EPOCH 5 - PROGRESS: at 79.32% examples, 682936 words/s, in_qsize 19, out_qsize 0\n",
      "2019-05-21 09:12:03,569 : INFO : EPOCH 5 - PROGRESS: at 81.63% examples, 683923 words/s, in_qsize 19, out_qsize 0\n",
      "2019-05-21 09:12:04,581 : INFO : EPOCH 5 - PROGRESS: at 84.04% examples, 684655 words/s, in_qsize 19, out_qsize 0\n",
      "2019-05-21 09:12:05,596 : INFO : EPOCH 5 - PROGRESS: at 86.34% examples, 684886 words/s, in_qsize 18, out_qsize 1\n",
      "2019-05-21 09:12:06,608 : INFO : EPOCH 5 - PROGRESS: at 88.89% examples, 685071 words/s, in_qsize 18, out_qsize 1\n",
      "2019-05-21 09:12:07,611 : INFO : EPOCH 5 - PROGRESS: at 91.30% examples, 685224 words/s, in_qsize 19, out_qsize 0\n",
      "2019-05-21 09:12:08,618 : INFO : EPOCH 5 - PROGRESS: at 93.60% examples, 684929 words/s, in_qsize 19, out_qsize 0\n",
      "2019-05-21 09:12:09,640 : INFO : EPOCH 5 - PROGRESS: at 95.38% examples, 680542 words/s, in_qsize 20, out_qsize 1\n",
      "2019-05-21 09:12:10,647 : INFO : EPOCH 5 - PROGRESS: at 97.45% examples, 678677 words/s, in_qsize 18, out_qsize 1\n",
      "2019-05-21 09:12:11,659 : INFO : EPOCH 5 - PROGRESS: at 99.28% examples, 675099 words/s, in_qsize 19, out_qsize 6\n",
      "2019-05-21 09:12:11,924 : INFO : worker thread finished; awaiting finish of 9 more threads\n",
      "2019-05-21 09:12:11,972 : INFO : worker thread finished; awaiting finish of 8 more threads\n",
      "2019-05-21 09:12:11,975 : INFO : worker thread finished; awaiting finish of 7 more threads\n",
      "2019-05-21 09:12:11,979 : INFO : worker thread finished; awaiting finish of 6 more threads\n",
      "2019-05-21 09:12:11,986 : INFO : worker thread finished; awaiting finish of 5 more threads\n",
      "2019-05-21 09:12:11,996 : INFO : worker thread finished; awaiting finish of 4 more threads\n",
      "2019-05-21 09:12:12,006 : INFO : worker thread finished; awaiting finish of 3 more threads\n",
      "2019-05-21 09:12:12,017 : INFO : worker thread finished; awaiting finish of 2 more threads\n",
      "2019-05-21 09:12:12,030 : INFO : worker thread finished; awaiting finish of 1 more threads\n",
      "2019-05-21 09:12:12,033 : INFO : worker thread finished; awaiting finish of 0 more threads\n",
      "2019-05-21 09:12:12,035 : INFO : EPOCH - 5 : training on 41519355 raw words (30344949 effective words) took 45.0s, 674018 effective words/s\n"
     ]
    },
    {
     "name": "stderr",
     "output_type": "stream",
     "text": [
      "2019-05-21 09:12:13,042 : INFO : EPOCH 6 - PROGRESS: at 1.93% examples, 605917 words/s, in_qsize 18, out_qsize 1\n",
      "2019-05-21 09:12:14,055 : INFO : EPOCH 6 - PROGRESS: at 4.11% examples, 630606 words/s, in_qsize 18, out_qsize 1\n",
      "2019-05-21 09:12:15,056 : INFO : EPOCH 6 - PROGRESS: at 6.21% examples, 636422 words/s, in_qsize 19, out_qsize 0\n",
      "2019-05-21 09:12:16,060 : INFO : EPOCH 6 - PROGRESS: at 8.08% examples, 624313 words/s, in_qsize 19, out_qsize 0\n",
      "2019-05-21 09:12:17,080 : INFO : EPOCH 6 - PROGRESS: at 9.80% examples, 616162 words/s, in_qsize 18, out_qsize 1\n",
      "2019-05-21 09:12:18,086 : INFO : EPOCH 6 - PROGRESS: at 11.44% examples, 613580 words/s, in_qsize 19, out_qsize 0\n",
      "2019-05-21 09:12:19,095 : INFO : EPOCH 6 - PROGRESS: at 13.17% examples, 614643 words/s, in_qsize 19, out_qsize 0\n",
      "2019-05-21 09:12:20,104 : INFO : EPOCH 6 - PROGRESS: at 14.81% examples, 608153 words/s, in_qsize 19, out_qsize 0\n",
      "2019-05-21 09:12:21,118 : INFO : EPOCH 6 - PROGRESS: at 16.51% examples, 605339 words/s, in_qsize 19, out_qsize 0\n",
      "2019-05-21 09:12:22,121 : INFO : EPOCH 6 - PROGRESS: at 18.15% examples, 605222 words/s, in_qsize 19, out_qsize 0\n",
      "2019-05-21 09:12:23,130 : INFO : EPOCH 6 - PROGRESS: at 19.77% examples, 606337 words/s, in_qsize 19, out_qsize 0\n",
      "2019-05-21 09:12:24,146 : INFO : EPOCH 6 - PROGRESS: at 21.89% examples, 613981 words/s, in_qsize 17, out_qsize 2\n",
      "2019-05-21 09:12:25,156 : INFO : EPOCH 6 - PROGRESS: at 23.73% examples, 621112 words/s, in_qsize 19, out_qsize 0\n",
      "2019-05-21 09:12:26,178 : INFO : EPOCH 6 - PROGRESS: at 25.93% examples, 625621 words/s, in_qsize 18, out_qsize 1\n",
      "2019-05-21 09:12:27,184 : INFO : EPOCH 6 - PROGRESS: at 28.29% examples, 625531 words/s, in_qsize 19, out_qsize 0\n",
      "2019-05-21 09:12:28,199 : INFO : EPOCH 6 - PROGRESS: at 30.45% examples, 624599 words/s, in_qsize 19, out_qsize 0\n",
      "2019-05-21 09:12:29,205 : INFO : EPOCH 6 - PROGRESS: at 32.78% examples, 624534 words/s, in_qsize 18, out_qsize 1\n",
      "2019-05-21 09:12:30,207 : INFO : EPOCH 6 - PROGRESS: at 35.00% examples, 627150 words/s, in_qsize 19, out_qsize 0\n",
      "2019-05-21 09:12:31,208 : INFO : EPOCH 6 - PROGRESS: at 37.37% examples, 629395 words/s, in_qsize 19, out_qsize 0\n",
      "2019-05-21 09:12:32,217 : INFO : EPOCH 6 - PROGRESS: at 39.84% examples, 632524 words/s, in_qsize 19, out_qsize 0\n",
      "2019-05-21 09:12:33,233 : INFO : EPOCH 6 - PROGRESS: at 42.52% examples, 636487 words/s, in_qsize 19, out_qsize 0\n",
      "2019-05-21 09:12:34,244 : INFO : EPOCH 6 - PROGRESS: at 45.12% examples, 639033 words/s, in_qsize 19, out_qsize 0\n",
      "2019-05-21 09:12:35,248 : INFO : EPOCH 6 - PROGRESS: at 47.51% examples, 641509 words/s, in_qsize 17, out_qsize 2\n",
      "2019-05-21 09:12:36,257 : INFO : EPOCH 6 - PROGRESS: at 50.00% examples, 643923 words/s, in_qsize 19, out_qsize 0\n",
      "2019-05-21 09:12:37,260 : INFO : EPOCH 6 - PROGRESS: at 52.07% examples, 642812 words/s, in_qsize 16, out_qsize 3\n",
      "2019-05-21 09:12:38,260 : INFO : EPOCH 6 - PROGRESS: at 54.34% examples, 644973 words/s, in_qsize 19, out_qsize 0\n",
      "2019-05-21 09:12:39,275 : INFO : EPOCH 6 - PROGRESS: at 56.88% examples, 646989 words/s, in_qsize 20, out_qsize 0\n",
      "2019-05-21 09:12:40,285 : INFO : EPOCH 6 - PROGRESS: at 59.25% examples, 648349 words/s, in_qsize 18, out_qsize 1\n",
      "2019-05-21 09:12:41,308 : INFO : EPOCH 6 - PROGRESS: at 61.68% examples, 649989 words/s, in_qsize 19, out_qsize 0\n",
      "2019-05-21 09:12:42,311 : INFO : EPOCH 6 - PROGRESS: at 64.25% examples, 651102 words/s, in_qsize 20, out_qsize 1\n",
      "2019-05-21 09:12:43,334 : INFO : EPOCH 6 - PROGRESS: at 66.57% examples, 652302 words/s, in_qsize 19, out_qsize 0\n",
      "2019-05-21 09:12:44,354 : INFO : EPOCH 6 - PROGRESS: at 68.74% examples, 651502 words/s, in_qsize 19, out_qsize 0\n",
      "2019-05-21 09:12:45,369 : INFO : EPOCH 6 - PROGRESS: at 70.85% examples, 651742 words/s, in_qsize 18, out_qsize 1\n",
      "2019-05-21 09:12:46,398 : INFO : EPOCH 6 - PROGRESS: at 73.14% examples, 651342 words/s, in_qsize 17, out_qsize 2\n",
      "2019-05-21 09:12:47,404 : INFO : EPOCH 6 - PROGRESS: at 75.54% examples, 653195 words/s, in_qsize 19, out_qsize 0\n",
      "2019-05-21 09:12:48,420 : INFO : EPOCH 6 - PROGRESS: at 77.70% examples, 654118 words/s, in_qsize 18, out_qsize 1\n",
      "2019-05-21 09:12:49,423 : INFO : EPOCH 6 - PROGRESS: at 80.06% examples, 655829 words/s, in_qsize 19, out_qsize 0\n",
      "2019-05-21 09:12:50,452 : INFO : EPOCH 6 - PROGRESS: at 82.33% examples, 656221 words/s, in_qsize 19, out_qsize 0\n",
      "2019-05-21 09:12:51,473 : INFO : EPOCH 6 - PROGRESS: at 84.61% examples, 657268 words/s, in_qsize 19, out_qsize 0\n",
      "2019-05-21 09:12:52,481 : INFO : EPOCH 6 - PROGRESS: at 87.12% examples, 658684 words/s, in_qsize 20, out_qsize 1\n",
      "2019-05-21 09:12:53,485 : INFO : EPOCH 6 - PROGRESS: at 89.56% examples, 659279 words/s, in_qsize 19, out_qsize 0\n",
      "2019-05-21 09:12:54,488 : INFO : EPOCH 6 - PROGRESS: at 92.10% examples, 660731 words/s, in_qsize 19, out_qsize 0\n",
      "2019-05-21 09:12:55,497 : INFO : EPOCH 6 - PROGRESS: at 94.46% examples, 661642 words/s, in_qsize 19, out_qsize 0\n",
      "2019-05-21 09:12:56,498 : INFO : EPOCH 6 - PROGRESS: at 96.85% examples, 662332 words/s, in_qsize 19, out_qsize 0\n",
      "2019-05-21 09:12:57,522 : INFO : EPOCH 6 - PROGRESS: at 99.25% examples, 662647 words/s, in_qsize 19, out_qsize 4\n",
      "2019-05-21 09:12:57,754 : INFO : worker thread finished; awaiting finish of 9 more threads\n",
      "2019-05-21 09:12:57,767 : INFO : worker thread finished; awaiting finish of 8 more threads\n",
      "2019-05-21 09:12:57,777 : INFO : worker thread finished; awaiting finish of 7 more threads\n",
      "2019-05-21 09:12:57,779 : INFO : worker thread finished; awaiting finish of 6 more threads\n",
      "2019-05-21 09:12:57,780 : INFO : worker thread finished; awaiting finish of 5 more threads\n",
      "2019-05-21 09:12:57,802 : INFO : worker thread finished; awaiting finish of 4 more threads\n",
      "2019-05-21 09:12:57,813 : INFO : worker thread finished; awaiting finish of 3 more threads\n",
      "2019-05-21 09:12:57,815 : INFO : worker thread finished; awaiting finish of 2 more threads\n",
      "2019-05-21 09:12:57,816 : INFO : worker thread finished; awaiting finish of 1 more threads\n",
      "2019-05-21 09:12:57,819 : INFO : worker thread finished; awaiting finish of 0 more threads\n",
      "2019-05-21 09:12:57,820 : INFO : EPOCH - 6 : training on 41519355 raw words (30350504 effective words) took 45.8s, 662965 effective words/s\n",
      "2019-05-21 09:12:58,827 : INFO : EPOCH 7 - PROGRESS: at 2.02% examples, 635546 words/s, in_qsize 19, out_qsize 0\n",
      "2019-05-21 09:12:59,856 : INFO : EPOCH 7 - PROGRESS: at 4.14% examples, 629546 words/s, in_qsize 19, out_qsize 3\n",
      "2019-05-21 09:13:00,873 : INFO : EPOCH 7 - PROGRESS: at 6.46% examples, 653206 words/s, in_qsize 19, out_qsize 0\n",
      "2019-05-21 09:13:01,882 : INFO : EPOCH 7 - PROGRESS: at 8.66% examples, 661009 words/s, in_qsize 19, out_qsize 0\n",
      "2019-05-21 09:13:02,902 : INFO : EPOCH 7 - PROGRESS: at 10.24% examples, 647228 words/s, in_qsize 20, out_qsize 0\n",
      "2019-05-21 09:13:03,906 : INFO : EPOCH 7 - PROGRESS: at 11.94% examples, 643167 words/s, in_qsize 19, out_qsize 0\n",
      "2019-05-21 09:13:04,917 : INFO : EPOCH 7 - PROGRESS: at 13.71% examples, 637790 words/s, in_qsize 19, out_qsize 0\n",
      "2019-05-21 09:13:05,931 : INFO : EPOCH 7 - PROGRESS: at 15.77% examples, 644371 words/s, in_qsize 18, out_qsize 1\n",
      "2019-05-21 09:13:06,942 : INFO : EPOCH 7 - PROGRESS: at 17.39% examples, 639360 words/s, in_qsize 17, out_qsize 2\n",
      "2019-05-21 09:13:07,957 : INFO : EPOCH 7 - PROGRESS: at 19.09% examples, 636804 words/s, in_qsize 18, out_qsize 1\n",
      "2019-05-21 09:13:08,960 : INFO : EPOCH 7 - PROGRESS: at 20.84% examples, 641966 words/s, in_qsize 19, out_qsize 0\n",
      "2019-05-21 09:13:09,970 : INFO : EPOCH 7 - PROGRESS: at 22.87% examples, 641736 words/s, in_qsize 19, out_qsize 0\n",
      "2019-05-21 09:13:10,978 : INFO : EPOCH 7 - PROGRESS: at 24.66% examples, 646134 words/s, in_qsize 18, out_qsize 1\n",
      "2019-05-21 09:13:11,981 : INFO : EPOCH 7 - PROGRESS: at 27.05% examples, 645747 words/s, in_qsize 18, out_qsize 1\n",
      "2019-05-21 09:13:12,997 : INFO : EPOCH 7 - PROGRESS: at 29.63% examples, 649544 words/s, in_qsize 18, out_qsize 1\n",
      "2019-05-21 09:13:14,012 : INFO : EPOCH 7 - PROGRESS: at 32.22% examples, 652530 words/s, in_qsize 20, out_qsize 1\n",
      "2019-05-21 09:13:15,049 : INFO : EPOCH 7 - PROGRESS: at 34.58% examples, 653489 words/s, in_qsize 19, out_qsize 0\n",
      "2019-05-21 09:13:16,052 : INFO : EPOCH 7 - PROGRESS: at 37.03% examples, 656307 words/s, in_qsize 19, out_qsize 0\n"
     ]
    },
    {
     "name": "stderr",
     "output_type": "stream",
     "text": [
      "2019-05-21 09:13:17,064 : INFO : EPOCH 7 - PROGRESS: at 39.44% examples, 657002 words/s, in_qsize 18, out_qsize 1\n",
      "2019-05-21 09:13:18,072 : INFO : EPOCH 7 - PROGRESS: at 42.14% examples, 660250 words/s, in_qsize 20, out_qsize 1\n",
      "2019-05-21 09:13:19,098 : INFO : EPOCH 7 - PROGRESS: at 44.70% examples, 661620 words/s, in_qsize 19, out_qsize 0\n",
      "2019-05-21 09:13:20,110 : INFO : EPOCH 7 - PROGRESS: at 46.99% examples, 661308 words/s, in_qsize 19, out_qsize 0\n",
      "2019-05-21 09:13:21,127 : INFO : EPOCH 7 - PROGRESS: at 49.47% examples, 662448 words/s, in_qsize 18, out_qsize 1\n",
      "2019-05-21 09:13:22,131 : INFO : EPOCH 7 - PROGRESS: at 51.42% examples, 658725 words/s, in_qsize 18, out_qsize 1\n",
      "2019-05-21 09:13:23,153 : INFO : EPOCH 7 - PROGRESS: at 53.49% examples, 658016 words/s, in_qsize 19, out_qsize 1\n",
      "2019-05-21 09:13:24,153 : INFO : EPOCH 7 - PROGRESS: at 55.91% examples, 658590 words/s, in_qsize 18, out_qsize 1\n",
      "2019-05-21 09:13:25,182 : INFO : EPOCH 7 - PROGRESS: at 58.38% examples, 660229 words/s, in_qsize 19, out_qsize 0\n",
      "2019-05-21 09:13:26,194 : INFO : EPOCH 7 - PROGRESS: at 60.78% examples, 660976 words/s, in_qsize 19, out_qsize 0\n",
      "2019-05-21 09:13:27,205 : INFO : EPOCH 7 - PROGRESS: at 63.21% examples, 662103 words/s, in_qsize 17, out_qsize 2\n",
      "2019-05-21 09:13:28,215 : INFO : EPOCH 7 - PROGRESS: at 65.59% examples, 661852 words/s, in_qsize 17, out_qsize 2\n",
      "2019-05-21 09:13:29,237 : INFO : EPOCH 7 - PROGRESS: at 67.88% examples, 662007 words/s, in_qsize 17, out_qsize 2\n",
      "2019-05-21 09:13:30,241 : INFO : EPOCH 7 - PROGRESS: at 69.95% examples, 661276 words/s, in_qsize 19, out_qsize 0\n",
      "2019-05-21 09:13:31,277 : INFO : EPOCH 7 - PROGRESS: at 72.17% examples, 661105 words/s, in_qsize 18, out_qsize 1\n",
      "2019-05-21 09:13:32,298 : INFO : EPOCH 7 - PROGRESS: at 74.68% examples, 662176 words/s, in_qsize 19, out_qsize 0\n",
      "2019-05-21 09:13:33,306 : INFO : EPOCH 7 - PROGRESS: at 76.87% examples, 663081 words/s, in_qsize 19, out_qsize 0\n",
      "2019-05-21 09:13:34,313 : INFO : EPOCH 7 - PROGRESS: at 79.10% examples, 664097 words/s, in_qsize 19, out_qsize 0\n",
      "2019-05-21 09:13:35,321 : INFO : EPOCH 7 - PROGRESS: at 81.09% examples, 662760 words/s, in_qsize 19, out_qsize 0\n",
      "2019-05-21 09:13:36,331 : INFO : EPOCH 7 - PROGRESS: at 83.47% examples, 663515 words/s, in_qsize 16, out_qsize 3\n",
      "2019-05-21 09:13:37,336 : INFO : EPOCH 7 - PROGRESS: at 85.67% examples, 664281 words/s, in_qsize 20, out_qsize 0\n",
      "2019-05-21 09:13:38,338 : INFO : EPOCH 7 - PROGRESS: at 88.03% examples, 663864 words/s, in_qsize 18, out_qsize 1\n",
      "2019-05-21 09:13:39,367 : INFO : EPOCH 7 - PROGRESS: at 90.37% examples, 663437 words/s, in_qsize 18, out_qsize 1\n",
      "2019-05-21 09:13:40,385 : INFO : EPOCH 7 - PROGRESS: at 92.74% examples, 663683 words/s, in_qsize 18, out_qsize 1\n",
      "2019-05-21 09:13:41,391 : INFO : EPOCH 7 - PROGRESS: at 95.12% examples, 664420 words/s, in_qsize 19, out_qsize 0\n",
      "2019-05-21 09:13:42,400 : INFO : EPOCH 7 - PROGRESS: at 97.51% examples, 664894 words/s, in_qsize 19, out_qsize 0\n",
      "2019-05-21 09:13:43,415 : INFO : EPOCH 7 - PROGRESS: at 99.38% examples, 661995 words/s, in_qsize 19, out_qsize 0\n",
      "2019-05-21 09:13:43,690 : INFO : worker thread finished; awaiting finish of 9 more threads\n",
      "2019-05-21 09:13:43,734 : INFO : worker thread finished; awaiting finish of 8 more threads\n",
      "2019-05-21 09:13:43,739 : INFO : worker thread finished; awaiting finish of 7 more threads\n",
      "2019-05-21 09:13:43,743 : INFO : worker thread finished; awaiting finish of 6 more threads\n",
      "2019-05-21 09:13:43,754 : INFO : worker thread finished; awaiting finish of 5 more threads\n",
      "2019-05-21 09:13:43,759 : INFO : worker thread finished; awaiting finish of 4 more threads\n",
      "2019-05-21 09:13:43,764 : INFO : worker thread finished; awaiting finish of 3 more threads\n",
      "2019-05-21 09:13:43,769 : INFO : worker thread finished; awaiting finish of 2 more threads\n",
      "2019-05-21 09:13:43,779 : INFO : worker thread finished; awaiting finish of 1 more threads\n",
      "2019-05-21 09:13:43,791 : INFO : worker thread finished; awaiting finish of 0 more threads\n",
      "2019-05-21 09:13:43,792 : INFO : EPOCH - 7 : training on 41519355 raw words (30354987 effective words) took 46.0s, 660382 effective words/s\n",
      "2019-05-21 09:13:44,813 : INFO : EPOCH 8 - PROGRESS: at 1.65% examples, 514828 words/s, in_qsize 19, out_qsize 0\n",
      "2019-05-21 09:13:45,833 : INFO : EPOCH 8 - PROGRESS: at 3.63% examples, 554308 words/s, in_qsize 18, out_qsize 1\n",
      "2019-05-21 09:13:46,843 : INFO : EPOCH 8 - PROGRESS: at 5.84% examples, 592785 words/s, in_qsize 17, out_qsize 2\n",
      "2019-05-21 09:13:47,860 : INFO : EPOCH 8 - PROGRESS: at 7.97% examples, 609298 words/s, in_qsize 19, out_qsize 0\n",
      "2019-05-21 09:13:48,900 : INFO : EPOCH 8 - PROGRESS: at 9.35% examples, 572486 words/s, in_qsize 19, out_qsize 0\n",
      "2019-05-21 09:13:49,904 : INFO : EPOCH 8 - PROGRESS: at 11.13% examples, 590026 words/s, in_qsize 19, out_qsize 0\n",
      "2019-05-21 09:13:50,905 : INFO : EPOCH 8 - PROGRESS: at 12.96% examples, 602025 words/s, in_qsize 20, out_qsize 1\n",
      "2019-05-21 09:13:51,912 : INFO : EPOCH 8 - PROGRESS: at 15.05% examples, 615112 words/s, in_qsize 19, out_qsize 0\n",
      "2019-05-21 09:13:52,912 : INFO : EPOCH 8 - PROGRESS: at 17.03% examples, 623608 words/s, in_qsize 19, out_qsize 0\n",
      "2019-05-21 09:13:53,920 : INFO : EPOCH 8 - PROGRESS: at 18.89% examples, 629072 words/s, in_qsize 20, out_qsize 0\n",
      "2019-05-21 09:13:54,927 : INFO : EPOCH 8 - PROGRESS: at 20.58% examples, 633309 words/s, in_qsize 19, out_qsize 0\n",
      "2019-05-21 09:13:55,928 : INFO : EPOCH 8 - PROGRESS: at 22.65% examples, 636612 words/s, in_qsize 18, out_qsize 1\n",
      "2019-05-21 09:13:56,969 : INFO : EPOCH 8 - PROGRESS: at 24.38% examples, 637668 words/s, in_qsize 19, out_qsize 7\n",
      "2019-05-21 09:13:57,990 : INFO : EPOCH 8 - PROGRESS: at 27.07% examples, 644626 words/s, in_qsize 17, out_qsize 2\n",
      "2019-05-21 09:13:59,006 : INFO : EPOCH 8 - PROGRESS: at 29.60% examples, 647525 words/s, in_qsize 19, out_qsize 0\n",
      "2019-05-21 09:14:00,015 : INFO : EPOCH 8 - PROGRESS: at 32.10% examples, 649518 words/s, in_qsize 18, out_qsize 1\n",
      "2019-05-21 09:14:01,038 : INFO : EPOCH 8 - PROGRESS: at 34.58% examples, 652892 words/s, in_qsize 19, out_qsize 0\n",
      "2019-05-21 09:14:02,069 : INFO : EPOCH 8 - PROGRESS: at 37.03% examples, 654780 words/s, in_qsize 18, out_qsize 1\n",
      "2019-05-21 09:14:03,078 : INFO : EPOCH 8 - PROGRESS: at 39.44% examples, 655223 words/s, in_qsize 18, out_qsize 1\n",
      "2019-05-21 09:14:04,082 : INFO : EPOCH 8 - PROGRESS: at 41.98% examples, 656538 words/s, in_qsize 19, out_qsize 0\n",
      "2019-05-21 09:14:05,123 : INFO : EPOCH 8 - PROGRESS: at 44.56% examples, 658313 words/s, in_qsize 20, out_qsize 0\n",
      "2019-05-21 09:14:06,134 : INFO : EPOCH 8 - PROGRESS: at 46.96% examples, 659430 words/s, in_qsize 19, out_qsize 0\n",
      "2019-05-21 09:14:07,139 : INFO : EPOCH 8 - PROGRESS: at 49.34% examples, 659771 words/s, in_qsize 19, out_qsize 0\n",
      "2019-05-21 09:14:08,146 : INFO : EPOCH 8 - PROGRESS: at 51.62% examples, 659930 words/s, in_qsize 18, out_qsize 1\n",
      "2019-05-21 09:14:09,171 : INFO : EPOCH 8 - PROGRESS: at 53.79% examples, 660249 words/s, in_qsize 18, out_qsize 1\n",
      "2019-05-21 09:14:10,191 : INFO : EPOCH 8 - PROGRESS: at 56.20% examples, 660219 words/s, in_qsize 18, out_qsize 1\n",
      "2019-05-21 09:14:11,191 : INFO : EPOCH 8 - PROGRESS: at 58.59% examples, 661668 words/s, in_qsize 20, out_qsize 1\n",
      "2019-05-21 09:14:12,203 : INFO : EPOCH 8 - PROGRESS: at 60.81% examples, 660333 words/s, in_qsize 18, out_qsize 1\n",
      "2019-05-21 09:14:13,236 : INFO : EPOCH 8 - PROGRESS: at 63.07% examples, 659480 words/s, in_qsize 17, out_qsize 2\n",
      "2019-05-21 09:14:14,264 : INFO : EPOCH 8 - PROGRESS: at 65.59% examples, 660139 words/s, in_qsize 19, out_qsize 0\n",
      "2019-05-21 09:14:15,292 : INFO : EPOCH 8 - PROGRESS: at 67.74% examples, 658875 words/s, in_qsize 19, out_qsize 0\n",
      "2019-05-21 09:14:16,315 : INFO : EPOCH 8 - PROGRESS: at 70.04% examples, 660244 words/s, in_qsize 19, out_qsize 0\n",
      "2019-05-21 09:14:17,320 : INFO : EPOCH 8 - PROGRESS: at 72.37% examples, 661356 words/s, in_qsize 19, out_qsize 0\n",
      "2019-05-21 09:14:18,330 : INFO : EPOCH 8 - PROGRESS: at 74.79% examples, 661774 words/s, in_qsize 19, out_qsize 0\n",
      "2019-05-21 09:14:19,355 : INFO : EPOCH 8 - PROGRESS: at 76.98% examples, 662578 words/s, in_qsize 17, out_qsize 2\n",
      "2019-05-21 09:14:20,364 : INFO : EPOCH 8 - PROGRESS: at 79.09% examples, 662576 words/s, in_qsize 19, out_qsize 0\n"
     ]
    },
    {
     "name": "stderr",
     "output_type": "stream",
     "text": [
      "2019-05-21 09:14:21,379 : INFO : EPOCH 8 - PROGRESS: at 81.43% examples, 663859 words/s, in_qsize 18, out_qsize 1\n",
      "2019-05-21 09:14:22,380 : INFO : EPOCH 8 - PROGRESS: at 83.76% examples, 664546 words/s, in_qsize 19, out_qsize 0\n",
      "2019-05-21 09:14:23,388 : INFO : EPOCH 8 - PROGRESS: at 85.96% examples, 664856 words/s, in_qsize 19, out_qsize 0\n",
      "2019-05-21 09:14:24,407 : INFO : EPOCH 8 - PROGRESS: at 88.51% examples, 665605 words/s, in_qsize 19, out_qsize 0\n",
      "2019-05-21 09:14:25,455 : INFO : EPOCH 8 - PROGRESS: at 90.95% examples, 665516 words/s, in_qsize 18, out_qsize 1\n",
      "2019-05-21 09:14:26,467 : INFO : EPOCH 8 - PROGRESS: at 93.28% examples, 665946 words/s, in_qsize 19, out_qsize 0\n",
      "2019-05-21 09:14:27,484 : INFO : EPOCH 8 - PROGRESS: at 95.32% examples, 663659 words/s, in_qsize 18, out_qsize 1\n",
      "2019-05-21 09:14:28,527 : INFO : EPOCH 8 - PROGRESS: at 97.68% examples, 663954 words/s, in_qsize 19, out_qsize 3\n",
      "2019-05-21 09:14:29,367 : INFO : worker thread finished; awaiting finish of 9 more threads\n",
      "2019-05-21 09:14:29,375 : INFO : worker thread finished; awaiting finish of 8 more threads\n",
      "2019-05-21 09:14:29,399 : INFO : worker thread finished; awaiting finish of 7 more threads\n",
      "2019-05-21 09:14:29,419 : INFO : worker thread finished; awaiting finish of 6 more threads\n",
      "2019-05-21 09:14:29,420 : INFO : worker thread finished; awaiting finish of 5 more threads\n",
      "2019-05-21 09:14:29,421 : INFO : worker thread finished; awaiting finish of 4 more threads\n",
      "2019-05-21 09:14:29,423 : INFO : worker thread finished; awaiting finish of 3 more threads\n",
      "2019-05-21 09:14:29,424 : INFO : worker thread finished; awaiting finish of 2 more threads\n",
      "2019-05-21 09:14:29,428 : INFO : worker thread finished; awaiting finish of 1 more threads\n",
      "2019-05-21 09:14:29,437 : INFO : worker thread finished; awaiting finish of 0 more threads\n",
      "2019-05-21 09:14:29,438 : INFO : EPOCH - 8 : training on 41519355 raw words (30349473 effective words) took 45.6s, 665022 effective words/s\n",
      "2019-05-21 09:14:30,446 : INFO : EPOCH 9 - PROGRESS: at 1.97% examples, 619372 words/s, in_qsize 19, out_qsize 0\n",
      "2019-05-21 09:14:31,466 : INFO : EPOCH 9 - PROGRESS: at 4.06% examples, 620780 words/s, in_qsize 19, out_qsize 2\n",
      "2019-05-21 09:14:32,483 : INFO : EPOCH 9 - PROGRESS: at 6.19% examples, 628631 words/s, in_qsize 17, out_qsize 2\n",
      "2019-05-21 09:14:33,486 : INFO : EPOCH 9 - PROGRESS: at 8.28% examples, 634483 words/s, in_qsize 20, out_qsize 3\n",
      "2019-05-21 09:14:34,486 : INFO : EPOCH 9 - PROGRESS: at 10.22% examples, 646864 words/s, in_qsize 19, out_qsize 0\n",
      "2019-05-21 09:14:35,505 : INFO : EPOCH 9 - PROGRESS: at 12.05% examples, 651949 words/s, in_qsize 19, out_qsize 0\n",
      "2019-05-21 09:14:36,510 : INFO : EPOCH 9 - PROGRESS: at 14.03% examples, 656009 words/s, in_qsize 19, out_qsize 0\n",
      "2019-05-21 09:14:37,519 : INFO : EPOCH 9 - PROGRESS: at 15.97% examples, 656308 words/s, in_qsize 20, out_qsize 1\n",
      "2019-05-21 09:14:38,531 : INFO : EPOCH 9 - PROGRESS: at 17.79% examples, 657753 words/s, in_qsize 19, out_qsize 0\n",
      "2019-05-21 09:14:39,556 : INFO : EPOCH 9 - PROGRESS: at 19.61% examples, 658416 words/s, in_qsize 19, out_qsize 0\n",
      "2019-05-21 09:14:40,575 : INFO : EPOCH 9 - PROGRESS: at 21.65% examples, 659132 words/s, in_qsize 18, out_qsize 1\n",
      "2019-05-21 09:14:41,596 : INFO : EPOCH 9 - PROGRESS: at 23.49% examples, 662398 words/s, in_qsize 19, out_qsize 0\n",
      "2019-05-21 09:14:42,613 : INFO : EPOCH 9 - PROGRESS: at 25.52% examples, 662578 words/s, in_qsize 19, out_qsize 0\n",
      "2019-05-21 09:14:43,627 : INFO : EPOCH 9 - PROGRESS: at 28.07% examples, 663132 words/s, in_qsize 19, out_qsize 0\n",
      "2019-05-21 09:14:44,646 : INFO : EPOCH 9 - PROGRESS: at 30.44% examples, 663696 words/s, in_qsize 19, out_qsize 0\n",
      "2019-05-21 09:14:45,654 : INFO : EPOCH 9 - PROGRESS: at 32.94% examples, 663837 words/s, in_qsize 19, out_qsize 0\n",
      "2019-05-21 09:14:46,655 : INFO : EPOCH 9 - PROGRESS: at 35.20% examples, 664695 words/s, in_qsize 19, out_qsize 0\n",
      "2019-05-21 09:14:47,666 : INFO : EPOCH 9 - PROGRESS: at 37.65% examples, 666180 words/s, in_qsize 19, out_qsize 0\n",
      "2019-05-21 09:14:48,673 : INFO : EPOCH 9 - PROGRESS: at 40.09% examples, 666515 words/s, in_qsize 18, out_qsize 1\n",
      "2019-05-21 09:14:49,711 : INFO : EPOCH 9 - PROGRESS: at 42.55% examples, 665808 words/s, in_qsize 16, out_qsize 3\n",
      "2019-05-21 09:14:50,733 : INFO : EPOCH 9 - PROGRESS: at 45.12% examples, 666312 words/s, in_qsize 16, out_qsize 3\n",
      "2019-05-21 09:14:51,741 : INFO : EPOCH 9 - PROGRESS: at 47.48% examples, 667212 words/s, in_qsize 18, out_qsize 1\n",
      "2019-05-21 09:14:52,777 : INFO : EPOCH 9 - PROGRESS: at 50.00% examples, 668186 words/s, in_qsize 19, out_qsize 0\n",
      "2019-05-21 09:14:53,786 : INFO : EPOCH 9 - PROGRESS: at 52.34% examples, 669110 words/s, in_qsize 19, out_qsize 0\n",
      "2019-05-21 09:14:54,798 : INFO : EPOCH 9 - PROGRESS: at 54.53% examples, 668902 words/s, in_qsize 19, out_qsize 0\n",
      "2019-05-21 09:14:55,837 : INFO : EPOCH 9 - PROGRESS: at 56.93% examples, 668077 words/s, in_qsize 19, out_qsize 0\n",
      "2019-05-21 09:14:56,868 : INFO : EPOCH 9 - PROGRESS: at 59.41% examples, 669287 words/s, in_qsize 19, out_qsize 0\n",
      "2019-05-21 09:14:57,868 : INFO : EPOCH 9 - PROGRESS: at 61.66% examples, 668954 words/s, in_qsize 20, out_qsize 0\n",
      "2019-05-21 09:14:58,882 : INFO : EPOCH 9 - PROGRESS: at 64.08% examples, 667981 words/s, in_qsize 19, out_qsize 0\n",
      "2019-05-21 09:14:59,887 : INFO : EPOCH 9 - PROGRESS: at 66.32% examples, 667909 words/s, in_qsize 19, out_qsize 0\n",
      "2019-05-21 09:15:00,910 : INFO : EPOCH 9 - PROGRESS: at 68.57% examples, 667635 words/s, in_qsize 19, out_qsize 0\n",
      "2019-05-21 09:15:01,920 : INFO : EPOCH 9 - PROGRESS: at 70.72% examples, 667260 words/s, in_qsize 19, out_qsize 0\n",
      "2019-05-21 09:15:02,921 : INFO : EPOCH 9 - PROGRESS: at 73.07% examples, 667775 words/s, in_qsize 20, out_qsize 0\n",
      "2019-05-21 09:15:03,934 : INFO : EPOCH 9 - PROGRESS: at 75.35% examples, 667807 words/s, in_qsize 19, out_qsize 0\n",
      "2019-05-21 09:15:04,945 : INFO : EPOCH 9 - PROGRESS: at 77.53% examples, 668608 words/s, in_qsize 19, out_qsize 0\n",
      "2019-05-21 09:15:05,959 : INFO : EPOCH 9 - PROGRESS: at 79.70% examples, 668372 words/s, in_qsize 20, out_qsize 0\n",
      "2019-05-21 09:15:06,978 : INFO : EPOCH 9 - PROGRESS: at 82.08% examples, 669411 words/s, in_qsize 19, out_qsize 0\n",
      "2019-05-21 09:15:07,992 : INFO : EPOCH 9 - PROGRESS: at 84.29% examples, 669353 words/s, in_qsize 19, out_qsize 0\n",
      "2019-05-21 09:15:09,012 : INFO : EPOCH 9 - PROGRESS: at 86.50% examples, 668987 words/s, in_qsize 20, out_qsize 2\n",
      "2019-05-21 09:15:10,014 : INFO : EPOCH 9 - PROGRESS: at 88.98% examples, 669375 words/s, in_qsize 19, out_qsize 0\n",
      "2019-05-21 09:15:11,028 : INFO : EPOCH 9 - PROGRESS: at 91.41% examples, 669727 words/s, in_qsize 20, out_qsize 0\n",
      "2019-05-21 09:15:12,058 : INFO : EPOCH 9 - PROGRESS: at 93.82% examples, 670275 words/s, in_qsize 19, out_qsize 0\n",
      "2019-05-21 09:15:13,096 : INFO : EPOCH 9 - PROGRESS: at 96.12% examples, 669755 words/s, in_qsize 18, out_qsize 1\n",
      "2019-05-21 09:15:14,119 : INFO : EPOCH 9 - PROGRESS: at 98.58% examples, 670346 words/s, in_qsize 19, out_qsize 0\n",
      "2019-05-21 09:15:14,631 : INFO : worker thread finished; awaiting finish of 9 more threads\n",
      "2019-05-21 09:15:14,635 : INFO : worker thread finished; awaiting finish of 8 more threads\n",
      "2019-05-21 09:15:14,646 : INFO : worker thread finished; awaiting finish of 7 more threads\n",
      "2019-05-21 09:15:14,668 : INFO : worker thread finished; awaiting finish of 6 more threads\n",
      "2019-05-21 09:15:14,681 : INFO : worker thread finished; awaiting finish of 5 more threads\n",
      "2019-05-21 09:15:14,684 : INFO : worker thread finished; awaiting finish of 4 more threads\n",
      "2019-05-21 09:15:14,688 : INFO : worker thread finished; awaiting finish of 3 more threads\n",
      "2019-05-21 09:15:14,692 : INFO : worker thread finished; awaiting finish of 2 more threads\n",
      "2019-05-21 09:15:14,700 : INFO : worker thread finished; awaiting finish of 1 more threads\n",
      "2019-05-21 09:15:14,704 : INFO : worker thread finished; awaiting finish of 0 more threads\n",
      "2019-05-21 09:15:14,705 : INFO : EPOCH - 9 : training on 41519355 raw words (30349304 effective words) took 45.3s, 670527 effective words/s\n",
      "2019-05-21 09:15:15,720 : INFO : EPOCH 10 - PROGRESS: at 2.04% examples, 635704 words/s, in_qsize 20, out_qsize 0\n",
      "2019-05-21 09:15:16,728 : INFO : EPOCH 10 - PROGRESS: at 4.22% examples, 643526 words/s, in_qsize 18, out_qsize 1\n"
     ]
    },
    {
     "name": "stderr",
     "output_type": "stream",
     "text": [
      "2019-05-21 09:15:17,751 : INFO : EPOCH 10 - PROGRESS: at 6.26% examples, 635167 words/s, in_qsize 18, out_qsize 1\n",
      "2019-05-21 09:15:18,761 : INFO : EPOCH 10 - PROGRESS: at 8.53% examples, 650906 words/s, in_qsize 19, out_qsize 0\n",
      "2019-05-21 09:15:19,764 : INFO : EPOCH 10 - PROGRESS: at 10.35% examples, 655333 words/s, in_qsize 19, out_qsize 0\n",
      "2019-05-21 09:15:20,785 : INFO : EPOCH 10 - PROGRESS: at 12.18% examples, 659946 words/s, in_qsize 19, out_qsize 0\n",
      "2019-05-21 09:15:21,831 : INFO : EPOCH 10 - PROGRESS: at 14.24% examples, 661114 words/s, in_qsize 19, out_qsize 2\n",
      "2019-05-21 09:15:22,859 : INFO : EPOCH 10 - PROGRESS: at 16.29% examples, 664434 words/s, in_qsize 20, out_qsize 1\n",
      "2019-05-21 09:15:23,874 : INFO : EPOCH 10 - PROGRESS: at 18.11% examples, 663997 words/s, in_qsize 19, out_qsize 0\n",
      "2019-05-21 09:15:24,877 : INFO : EPOCH 10 - PROGRESS: at 19.93% examples, 666899 words/s, in_qsize 19, out_qsize 0\n",
      "2019-05-21 09:15:25,883 : INFO : EPOCH 10 - PROGRESS: at 21.99% examples, 668255 words/s, in_qsize 17, out_qsize 2\n",
      "2019-05-21 09:15:26,895 : INFO : EPOCH 10 - PROGRESS: at 23.75% examples, 668832 words/s, in_qsize 19, out_qsize 3\n",
      "2019-05-21 09:15:27,903 : INFO : EPOCH 10 - PROGRESS: at 25.99% examples, 671226 words/s, in_qsize 20, out_qsize 0\n",
      "2019-05-21 09:15:28,907 : INFO : EPOCH 10 - PROGRESS: at 28.59% examples, 673109 words/s, in_qsize 20, out_qsize 0\n",
      "2019-05-21 09:15:29,908 : INFO : EPOCH 10 - PROGRESS: at 30.87% examples, 670950 words/s, in_qsize 16, out_qsize 3\n",
      "2019-05-21 09:15:30,924 : INFO : EPOCH 10 - PROGRESS: at 33.40% examples, 672013 words/s, in_qsize 19, out_qsize 0\n",
      "2019-05-21 09:15:31,942 : INFO : EPOCH 10 - PROGRESS: at 35.70% examples, 671792 words/s, in_qsize 19, out_qsize 0\n",
      "2019-05-21 09:15:32,952 : INFO : EPOCH 10 - PROGRESS: at 38.09% examples, 672080 words/s, in_qsize 20, out_qsize 1\n",
      "2019-05-21 09:15:33,957 : INFO : EPOCH 10 - PROGRESS: at 40.58% examples, 673298 words/s, in_qsize 19, out_qsize 0\n",
      "2019-05-21 09:15:34,977 : INFO : EPOCH 10 - PROGRESS: at 43.05% examples, 672469 words/s, in_qsize 19, out_qsize 0\n",
      "2019-05-21 09:15:35,983 : INFO : EPOCH 10 - PROGRESS: at 45.69% examples, 674242 words/s, in_qsize 19, out_qsize 0\n",
      "2019-05-21 09:15:36,992 : INFO : EPOCH 10 - PROGRESS: at 47.94% examples, 673810 words/s, in_qsize 19, out_qsize 0\n",
      "2019-05-21 09:15:38,022 : INFO : EPOCH 10 - PROGRESS: at 50.39% examples, 673658 words/s, in_qsize 19, out_qsize 0\n",
      "2019-05-21 09:15:39,055 : INFO : EPOCH 10 - PROGRESS: at 52.68% examples, 673424 words/s, in_qsize 19, out_qsize 0\n",
      "2019-05-21 09:15:40,061 : INFO : EPOCH 10 - PROGRESS: at 54.72% examples, 671513 words/s, in_qsize 19, out_qsize 4\n",
      "2019-05-21 09:15:41,091 : INFO : EPOCH 10 - PROGRESS: at 57.24% examples, 671589 words/s, in_qsize 19, out_qsize 0\n",
      "2019-05-21 09:15:42,114 : INFO : EPOCH 10 - PROGRESS: at 59.73% examples, 672885 words/s, in_qsize 20, out_qsize 1\n",
      "2019-05-21 09:15:43,133 : INFO : EPOCH 10 - PROGRESS: at 62.04% examples, 672759 words/s, in_qsize 19, out_qsize 0\n",
      "2019-05-21 09:15:44,136 : INFO : EPOCH 10 - PROGRESS: at 64.62% examples, 672870 words/s, in_qsize 19, out_qsize 0\n",
      "2019-05-21 09:15:45,143 : INFO : EPOCH 10 - PROGRESS: at 66.92% examples, 674157 words/s, in_qsize 19, out_qsize 0\n",
      "2019-05-21 09:15:46,152 : INFO : EPOCH 10 - PROGRESS: at 69.22% examples, 674271 words/s, in_qsize 19, out_qsize 0\n",
      "2019-05-21 09:15:47,166 : INFO : EPOCH 10 - PROGRESS: at 71.49% examples, 674770 words/s, in_qsize 19, out_qsize 0\n",
      "2019-05-21 09:15:48,204 : INFO : EPOCH 10 - PROGRESS: at 73.93% examples, 674507 words/s, in_qsize 20, out_qsize 0\n",
      "2019-05-21 09:15:49,248 : INFO : EPOCH 10 - PROGRESS: at 76.24% examples, 675375 words/s, in_qsize 19, out_qsize 2\n",
      "2019-05-21 09:15:50,259 : INFO : EPOCH 10 - PROGRESS: at 78.30% examples, 674597 words/s, in_qsize 19, out_qsize 0\n",
      "2019-05-21 09:15:51,274 : INFO : EPOCH 10 - PROGRESS: at 80.61% examples, 675164 words/s, in_qsize 18, out_qsize 1\n",
      "2019-05-21 09:15:52,277 : INFO : EPOCH 10 - PROGRESS: at 82.87% examples, 675168 words/s, in_qsize 19, out_qsize 0\n",
      "2019-05-21 09:15:53,299 : INFO : EPOCH 10 - PROGRESS: at 85.01% examples, 674776 words/s, in_qsize 19, out_qsize 0\n",
      "2019-05-21 09:15:54,327 : INFO : EPOCH 10 - PROGRESS: at 87.30% examples, 673811 words/s, in_qsize 19, out_qsize 0\n",
      "2019-05-21 09:15:55,342 : INFO : EPOCH 10 - PROGRESS: at 89.60% examples, 672791 words/s, in_qsize 19, out_qsize 0\n",
      "2019-05-21 09:15:56,344 : INFO : EPOCH 10 - PROGRESS: at 91.88% examples, 672217 words/s, in_qsize 18, out_qsize 1\n",
      "2019-05-21 09:15:57,370 : INFO : EPOCH 10 - PROGRESS: at 94.20% examples, 672130 words/s, in_qsize 20, out_qsize 2\n",
      "2019-05-21 09:15:58,381 : INFO : EPOCH 10 - PROGRESS: at 96.46% examples, 671628 words/s, in_qsize 19, out_qsize 0\n",
      "2019-05-21 09:15:59,383 : INFO : EPOCH 10 - PROGRESS: at 98.78% examples, 671540 words/s, in_qsize 18, out_qsize 1\n",
      "2019-05-21 09:15:59,829 : INFO : worker thread finished; awaiting finish of 9 more threads\n",
      "2019-05-21 09:15:59,837 : INFO : worker thread finished; awaiting finish of 8 more threads\n",
      "2019-05-21 09:15:59,843 : INFO : worker thread finished; awaiting finish of 7 more threads\n",
      "2019-05-21 09:15:59,869 : INFO : worker thread finished; awaiting finish of 6 more threads\n",
      "2019-05-21 09:15:59,883 : INFO : worker thread finished; awaiting finish of 5 more threads\n",
      "2019-05-21 09:15:59,887 : INFO : worker thread finished; awaiting finish of 4 more threads\n",
      "2019-05-21 09:15:59,900 : INFO : worker thread finished; awaiting finish of 3 more threads\n",
      "2019-05-21 09:15:59,903 : INFO : worker thread finished; awaiting finish of 2 more threads\n",
      "2019-05-21 09:15:59,909 : INFO : worker thread finished; awaiting finish of 1 more threads\n",
      "2019-05-21 09:15:59,914 : INFO : worker thread finished; awaiting finish of 0 more threads\n",
      "2019-05-21 09:15:59,915 : INFO : EPOCH - 10 : training on 41519355 raw words (30350158 effective words) took 45.2s, 671385 effective words/s\n",
      "2019-05-21 09:15:59,917 : INFO : training on a 415193550 raw words (303490881 effective words) took 452.2s, 671097 effective words/s\n"
     ]
    },
    {
     "data": {
      "text/plain": [
       "(303490881, 415193550)"
      ]
     },
     "execution_count": 5,
     "metadata": {},
     "output_type": "execute_result"
    }
   ],
   "source": [
    "model = gensim.models.Word2Vec (documents, size=150, window=10, min_count=2, workers=10)\n",
    "model.train(documents,total_examples=len(documents),epochs=10)"
   ]
  },
  {
   "cell_type": "markdown",
   "metadata": {
    "slideshow": {
     "slide_type": "slide"
    }
   },
   "source": [
    "## Now, let's look at some output \n",
    "* a simple case of looking up **words similar to** the word `dirty`. \n",
    "* All we need to do here is to call the `most_similar` function and provide the word `dirty` as the positive example. \n",
    "* This returns the top 10 similar words. "
   ]
  },
  {
   "cell_type": "code",
   "execution_count": 12,
   "metadata": {
    "slideshow": {
     "slide_type": "subslide"
    }
   },
   "outputs": [
    {
     "name": "stderr",
     "output_type": "stream",
     "text": [
      "2018-01-26 23:03:42,416 : INFO : precomputing L2-norms of word weight vectors\n"
     ]
    },
    {
     "data": {
      "text/plain": [
       "[('filthy', 0.871721625328064),\n",
       " ('stained', 0.7922376990318298),\n",
       " ('unclean', 0.7915753126144409),\n",
       " ('dusty', 0.7772612571716309),\n",
       " ('smelly', 0.7618112564086914),\n",
       " ('grubby', 0.7483716011047363),\n",
       " ('dingy', 0.7330487966537476),\n",
       " ('gross', 0.7239381074905396),\n",
       " ('grimy', 0.7228356599807739),\n",
       " ('disgusting', 0.7213647365570068)]"
      ]
     },
     "execution_count": 12,
     "metadata": {},
     "output_type": "execute_result"
    }
   ],
   "source": [
    "\n",
    "w1 = \"dirty\"\n",
    "model.wv.most_similar (positive=w1)\n"
   ]
  },
  {
   "cell_type": "markdown",
   "metadata": {
    "slideshow": {
     "slide_type": "slide"
    }
   },
   "source": [
    "**Another example**\n",
    "\n",
    "Let's look at similarity for `polite`, `france` and `shocked`. "
   ]
  },
  {
   "cell_type": "code",
   "execution_count": 50,
   "metadata": {
    "slideshow": {
     "slide_type": "subslide"
    }
   },
   "outputs": [
    {
     "data": {
      "text/plain": [
       "[('courteous', 0.9174547791481018),\n",
       " ('friendly', 0.8309274911880493),\n",
       " ('cordial', 0.7990915179252625),\n",
       " ('professional', 0.7945970892906189),\n",
       " ('attentive', 0.7732747197151184),\n",
       " ('gracious', 0.7469891309738159)]"
      ]
     },
     "execution_count": 50,
     "metadata": {},
     "output_type": "execute_result"
    }
   ],
   "source": [
    "# look up top 6 words similar to 'polite'\n",
    "w1 = [\"polite\"]\n",
    "model.wv.most_similar (positive=w1,topn=6)\n"
   ]
  },
  {
   "cell_type": "code",
   "execution_count": 53,
   "metadata": {
    "slideshow": {
     "slide_type": "slide"
    }
   },
   "outputs": [
    {
     "data": {
      "text/plain": [
       "[('canada', 0.6603403091430664),\n",
       " ('germany', 0.6510637998580933),\n",
       " ('spain', 0.6431018114089966),\n",
       " ('barcelona', 0.61174076795578),\n",
       " ('mexico', 0.6070996522903442),\n",
       " ('rome', 0.6065913438796997)]"
      ]
     },
     "execution_count": 53,
     "metadata": {},
     "output_type": "execute_result"
    }
   ],
   "source": [
    "# look up top 6 words similar to 'france'\n",
    "w1 = [\"france\"]\n",
    "model.wv.most_similar (positive=w1,topn=6)\n"
   ]
  },
  {
   "cell_type": "code",
   "execution_count": 54,
   "metadata": {
    "slideshow": {
     "slide_type": "slide"
    }
   },
   "outputs": [
    {
     "data": {
      "text/plain": [
       "[('horrified', 0.80775386095047),\n",
       " ('amazed', 0.7797470092773438),\n",
       " ('astonished', 0.7748459577560425),\n",
       " ('dismayed', 0.7680633068084717),\n",
       " ('stunned', 0.7603034973144531),\n",
       " ('appalled', 0.7466776371002197)]"
      ]
     },
     "execution_count": 54,
     "metadata": {},
     "output_type": "execute_result"
    }
   ],
   "source": [
    "# look up top 6 words similar to 'shocked'\n",
    "w1 = [\"shocked\"]\n",
    "model.wv.most_similar (positive=w1,topn=6)\n"
   ]
  },
  {
   "cell_type": "markdown",
   "metadata": {
    "slideshow": {
     "slide_type": "slide"
    }
   },
   "source": [
    "You can even \n",
    "* specify **several positive examples** to get things that are related in the provided context \n",
    "* provide **negative examples** to say what should not be considered as related. \n",
    "\n",
    "In the example below we are asking for all items that **relate to bed** only:"
   ]
  },
  {
   "cell_type": "code",
   "execution_count": 55,
   "metadata": {
    "slideshow": {
     "slide_type": "slide"
    }
   },
   "outputs": [
    {
     "data": {
      "text/plain": [
       "[('duvet', 0.7086508274078369),\n",
       " ('blanket', 0.7016597390174866),\n",
       " ('mattress', 0.7002605199813843),\n",
       " ('quilt', 0.6868821978569031),\n",
       " ('matress', 0.6777950525283813),\n",
       " ('pillowcase', 0.6413239240646362),\n",
       " ('sheets', 0.6382123827934265),\n",
       " ('foam', 0.6322235465049744),\n",
       " ('pillows', 0.6320573687553406),\n",
       " ('comforter', 0.5972476601600647)]"
      ]
     },
     "execution_count": 55,
     "metadata": {},
     "output_type": "execute_result"
    }
   ],
   "source": [
    "# get everything related to stuff on the bed\n",
    "w1 = [\"bed\",'sheet','pillow']\n",
    "w2 = ['couch']\n",
    "model.wv.most_similar (positive=w1,negative=w2,topn=10)\n"
   ]
  },
  {
   "cell_type": "markdown",
   "metadata": {
    "slideshow": {
     "slide_type": "slide"
    }
   },
   "source": [
    "### Similarity between two words in the vocabulary"
   ]
  },
  {
   "cell_type": "markdown",
   "metadata": {
    "slideshow": {
     "slide_type": "fragment"
    }
   },
   "source": [
    "You can even use the Word2Vec model to return the **similarity between two words** that are present in the vocabulary. "
   ]
  },
  {
   "cell_type": "code",
   "execution_count": 57,
   "metadata": {
    "slideshow": {
     "slide_type": "fragment"
    }
   },
   "outputs": [
    {
     "data": {
      "text/plain": [
       "0.76181122646029453"
      ]
     },
     "execution_count": 57,
     "metadata": {},
     "output_type": "execute_result"
    }
   ],
   "source": [
    "# similarity between two different words\n",
    "model.wv.similarity(w1=\"dirty\",w2=\"smelly\")"
   ]
  },
  {
   "cell_type": "code",
   "execution_count": 58,
   "metadata": {
    "slideshow": {
     "slide_type": "slide"
    }
   },
   "outputs": [
    {
     "data": {
      "text/plain": [
       "1.0000000000000002"
      ]
     },
     "execution_count": 58,
     "metadata": {},
     "output_type": "execute_result"
    }
   ],
   "source": [
    "# similarity between two identical words\n",
    "model.wv.similarity(w1=\"dirty\",w2=\"dirty\")"
   ]
  },
  {
   "cell_type": "code",
   "execution_count": 59,
   "metadata": {
    "slideshow": {
     "slide_type": "fragment"
    }
   },
   "outputs": [
    {
     "data": {
      "text/plain": [
       "0.25355593501920781"
      ]
     },
     "execution_count": 59,
     "metadata": {},
     "output_type": "execute_result"
    }
   ],
   "source": [
    "# similarity between two unrelated words\n",
    "model.wv.similarity(w1=\"dirty\",w2=\"clean\")"
   ]
  },
  {
   "cell_type": "markdown",
   "metadata": {
    "slideshow": {
     "slide_type": "slide"
    }
   },
   "source": [
    "**Under the hood**\n",
    "\n",
    "the above three snippets computes the **cosine similarity** between the two specified words using word vectors of each. \n",
    "* From the scores, it makes sense that `dirty` is highly similar to `smelly` but \n",
    "* `dirty` is dissimilar to `clean`. \n",
    "* If you do a **similarity between two identical words**, the score will be 1.0 as the range of the cosine similarity score will always be between [0.0-1.0]. You can read more about cosine similarity scoring [here](https://en.wikipedia.org/wiki/Cosine_similarity)."
   ]
  },
  {
   "cell_type": "markdown",
   "metadata": {
    "slideshow": {
     "slide_type": "slide"
    }
   },
   "source": [
    "### Find odd items\n",
    "You can even use Word2Vec to find odd items *given a list of items*."
   ]
  },
  {
   "cell_type": "code",
   "execution_count": 63,
   "metadata": {},
   "outputs": [
    {
     "data": {
      "text/plain": [
       "'france'"
      ]
     },
     "execution_count": 63,
     "metadata": {},
     "output_type": "execute_result"
    }
   ],
   "source": [
    "# Which one is the odd one out in this list?\n",
    "model.wv.doesnt_match([\"cat\",\"dog\",\"france\"])"
   ]
  },
  {
   "cell_type": "code",
   "execution_count": 77,
   "metadata": {
    "slideshow": {
     "slide_type": "subslide"
    }
   },
   "outputs": [
    {
     "data": {
      "text/plain": [
       "'shower'"
      ]
     },
     "execution_count": 77,
     "metadata": {},
     "output_type": "execute_result"
    }
   ],
   "source": [
    "# Which one is the odd one out in this list?\n",
    "model.wv.doesnt_match([\"bed\",\"pillow\",\"duvet\",\"shower\"])\n"
   ]
  },
  {
   "cell_type": "markdown",
   "metadata": {
    "slideshow": {
     "slide_type": "slide"
    }
   },
   "source": [
    "## Understanding some of the parameters\n",
    "\n",
    "```\n",
    "model = gensim.models.Word2Vec (documents, size=150, window=10, min_count=2, workers=10)\n",
    "```\n"
   ]
  },
  {
   "cell_type": "markdown",
   "metadata": {
    "slideshow": {
     "slide_type": "fragment"
    }
   },
   "source": [
    "### `size`\n",
    "The size of the **dense vector** to `represent each token` or word. \n",
    "* If you have **very limited data**, then size should be a much **smaller** value. \n",
    "* If you have **lots of data**, its good to experiment with **various sizes**. "
   ]
  },
  {
   "cell_type": "markdown",
   "metadata": {
    "slideshow": {
     "slide_type": "slide"
    }
   },
   "source": [
    "### `window`\n",
    "The maximum distance between the target word and its neighboring word. \n",
    "* If your neighbor's position is greater than the maximum window width to the left and the right, then, some neighbors are not considered as being related to the target word. \n",
    "* In theory, a smaller window should give you terms that are more related. \n",
    "* If you have **lots of data**, then the window size should not matter too much, as long as its a decent sized window. "
   ]
  },
  {
   "cell_type": "markdown",
   "metadata": {
    "slideshow": {
     "slide_type": "slide"
    }
   },
   "source": [
    "### `min_count`\n",
    "Minimium frequency count of words. \n",
    "* The model would **ignore words that do not statisfy the** `min_count`. \n",
    "* Extremely **infrequent words are** usually **unimportant**, so its best to get rid of those. Unless your dataset is really tiny, this does not really affect the model.\n",
    "\n",
    "### `workers`\n",
    "How many threads to use behind the scenes?\n"
   ]
  },
  {
   "cell_type": "markdown",
   "metadata": {
    "slideshow": {
     "slide_type": "slide"
    }
   },
   "source": [
    "## When should you use Word2Vec?\n",
    "\n",
    "There are many application scenarios for Word2Vec. \n",
    "* Imagine if you need to **build a sentiment lexicon**. Training a Word2Vec model on large amounts of user reviews helps you achieve that. You have a lexicon for not just sentiment, but for most words in the vocabulary. \n",
    "* You could also use Word2Vec for more structured data. For example, if you had tags for a million stackoverflow questions and answers, you could **find tags that are related to a given tag** and recommend the related ones for exploration. You can do this by treating each set of co-occuring tags as a \"sentence\" and train a Word2Vec model on this data. Granted, you still need a large number of examples to make it work. \n"
   ]
  }
 ],
 "metadata": {
  "celltoolbar": "Slideshow",
  "kernelspec": {
   "display_name": "Python 3",
   "language": "python",
   "name": "python3"
  },
  "language_info": {
   "codemirror_mode": {
    "name": "ipython",
    "version": 3
   },
   "file_extension": ".py",
   "mimetype": "text/x-python",
   "name": "python",
   "nbconvert_exporter": "python",
   "pygments_lexer": "ipython3",
   "version": "3.6.7"
  }
 },
 "nbformat": 4,
 "nbformat_minor": 2
}
