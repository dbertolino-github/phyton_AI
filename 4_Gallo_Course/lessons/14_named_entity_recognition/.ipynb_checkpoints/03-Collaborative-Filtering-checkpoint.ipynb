{
 "cells": [
  {
   "cell_type": "markdown",
   "metadata": {
    "slideshow": {
     "slide_type": "slide"
    }
   },
   "source": [
    "# Collaborative filtering\n",
    "\n",
    "**I like what you like**\n",
    "\n",
    "We are going to start our exploration of <span style=\"color:red\">recommendation systems</span>.   "
   ]
  },
  {
   "cell_type": "markdown",
   "metadata": {
    "slideshow": {
     "slide_type": "fragment"
    }
   },
   "source": [
    "Recommendation systems are everywhere, from `Amazon`: "
   ]
  },
  {
   "cell_type": "markdown",
   "metadata": {},
   "source": [
    "<img src=\"figures/00-chapter2-amazon.png\" width=\"50%\">"
   ]
  },
  {
   "cell_type": "markdown",
   "metadata": {
    "slideshow": {
     "slide_type": "subslide"
    }
   },
   "source": [
    "to `last.fm` recommending music or concerts:"
   ]
  },
  {
   "cell_type": "markdown",
   "metadata": {},
   "source": [
    "<img src=\"figures/00-chapter2-last.fm.png\" width=\"50%\">"
   ]
  },
  {
   "cell_type": "markdown",
   "metadata": {
    "slideshow": {
     "slide_type": "slide"
    }
   },
   "source": [
    "## Amazon example\n",
    "Amazon combines two bits of information to make a recommendation. \n",
    "* The first is that I viewed ``The Lotus Sutra`` translated by Gene Reeves; \n",
    "* the second, that customers who viewed that translation of the Lotus Sutra also viewed several other translations. "
   ]
  },
  {
   "cell_type": "markdown",
   "metadata": {
    "slideshow": {
     "slide_type": "subslide"
    }
   },
   "source": [
    "The **recommendation method** we are looking at is called **collaborative filtering**. \n",
    "* It's called <font style=\"color:red\">collaborative</font> because it makes recommendations **based on other people**\n",
    "* Search among other users to find one that is similar\n",
    "* Once I find that similar person I can see what she likes and recommend those objects"
   ]
  },
  {
   "cell_type": "markdown",
   "metadata": {
    "slideshow": {
     "slide_type": "slide"
    }
   },
   "source": [
    "## How do I find someone who is similar?\n",
    "\n",
    "A simple 2D explanation\n",
    "* Suppose **users** rate **books** on a 5 star system\n",
    "* We restrict our ratings to **two books** (2D case): \n",
    "  - Neal Stephenson's *Snow Crash* \n",
    "  - Steig Larsson's *The Girl with the Dragon Tattoo*."
   ]
  },
  {
   "cell_type": "markdown",
   "metadata": {
    "slideshow": {
     "slide_type": "slide"
    }
   },
   "source": [
    "First, here's a table showing **3 users** who rated these books\n"
   ]
  },
  {
   "cell_type": "markdown",
   "metadata": {},
   "source": [
    "<img src=\"figures/00-chapter2-table-rating.png\" width=\"60%\">"
   ]
  },
  {
   "cell_type": "markdown",
   "metadata": {
    "slideshow": {
     "slide_type": "subslide"
    }
   },
   "source": [
    "<img src=\"figures/00-chapter2-similarity-2D.png\" width=\"40%\">"
   ]
  },
  {
   "cell_type": "markdown",
   "metadata": {
    "slideshow": {
     "slide_type": "slide"
    }
   },
   "source": [
    "## Find the most similar person \n",
    "I would like to **recommend a book** to the mysterious **Ms. X** who rated \n",
    "* Snow Crash 4 stars \n",
    "* The Girl with the Dragon Tattoo 2 stars. \n",
    "\n",
    "To find the person who is **most similar, or closest**, to Ms. X.  \n",
    "I do this by computing <font style=\"color:red\">distance</font>."
   ]
  },
  {
   "cell_type": "markdown",
   "metadata": {
    "slideshow": {
     "slide_type": "slide"
    }
   },
   "source": [
    "### Manhattan Distance\n",
    "The easiest distance measure to compute is what is called Manhattan Distance."
   ]
  },
  {
   "cell_type": "markdown",
   "metadata": {
    "slideshow": {
     "slide_type": "fragment"
    }
   },
   "source": [
    "The distance, $d_{1}$, between two vectors $\\mathbf {p}$, $\\mathbf {q}$ in an $n$-dimensional real vector space\n",
    "$$d_{1}(\\mathbf {p} ,\\mathbf {q} )=\\|\\mathbf {p} -\\mathbf {q} \\|_{1}=\\sum _{i=1}^{n}|p_{i}-q_{i}|$$\n",
    "where ($\\mathbf {p}$ ,$\\mathbf {q}$ ) are vectors\n",
    "$\\mathbf {p} =(p_{1},p_{2},\\dots ,p_{n}){\\text{ and }}\\mathbf {q} =(q_{1},q_{2},\\dots ,q_{n})\\$"
   ]
  },
  {
   "cell_type": "markdown",
   "metadata": {
    "slideshow": {
     "slide_type": "slide"
    }
   },
   "source": [
    "In the 2D case\n",
    "* (x1, y1) might be Amy \n",
    "* (x2, y2) might be the elusive Ms. X. "
   ]
  },
  {
   "cell_type": "markdown",
   "metadata": {
    "slideshow": {
     "slide_type": "fragment"
    }
   },
   "source": [
    " Manhattan Distance is then calculated by\n",
    " $$|x_1 - x_2| + |y_1 - y_2|$$"
   ]
  },
  {
   "cell_type": "markdown",
   "metadata": {
    "slideshow": {
     "slide_type": "slide"
    }
   },
   "source": [
    "So the Manhattan Distance for **Amy** and **Ms. X** is 4:"
   ]
  },
  {
   "cell_type": "markdown",
   "metadata": {},
   "source": [
    "<img src=\"figures/00-chapter2-similarity-2D-2.png\" width=\"40%\">"
   ]
  },
  {
   "cell_type": "markdown",
   "metadata": {
    "slideshow": {
     "slide_type": "slide"
    }
   },
   "source": [
    "Computing the distance between Ms. X and all three people gives us:\n"
   ]
  },
  {
   "cell_type": "markdown",
   "metadata": {},
   "source": [
    "|Person |Distance from Ms. X|\n",
    "|----|---|\n",
    "|Amy| 4|\n",
    "|Bill| 5|\n",
    "|Jim| 5|"
   ]
  },
  {
   "cell_type": "markdown",
   "metadata": {
    "slideshow": {
     "slide_type": "slide"
    }
   },
   "source": [
    "### The closest match\n",
    "**Amy** is the closest match. \n",
    "* We can **look in her history** and see, for example, that \n",
    "  * she gave five stars to Paolo Bacigalupi's *The Windup Girl* \n",
    "* We would **recommend** that book to Ms. X."
   ]
  },
  {
   "cell_type": "markdown",
   "metadata": {
    "slideshow": {
     "slide_type": "fragment"
    }
   },
   "source": [
    "* One benefit of **Manhattan Distance** is that it is **fast** to compute. \n",
    "* If we are Facebook and are trying to find the most similar person among one million users, **fast is good**."
   ]
  },
  {
   "cell_type": "markdown",
   "metadata": {
    "slideshow": {
     "slide_type": "slide"
    }
   },
   "source": [
    "### Euclidean Distance\n",
    "\n",
    "If $\\mathbf{p} = (p_1, p_2,..., p_n)$ and $\\mathbf{q} = (q_1, q_2,..., q_n)$ are two points in Euclidean $n$-space, then the distance ($d_2$) from $\\mathbf{p}$ to $\\mathbf{q}$, or from $\\mathbf{q}$ to $\\mathbf{p}$ is given by the <font style=\"color:red\">Pythagorean formula</font>:\n",
    "\n",
    "\n",
    "$$\n",
    "d_2(\\mathbf{q} ,\\mathbf{p} ) = \\sqrt{(q_{1}-p_{1})^{2}+(q_{2}-p_{2})^{2}+\\cdots +(q_{n}-p_{n})^{2}} ={\\sqrt {\\sum _{i=1}^{n}(q_{i}-p_{i})^{2}}}.\n",
    "$$"
   ]
  },
  {
   "cell_type": "markdown",
   "metadata": {
    "slideshow": {
     "slide_type": "slide"
    }
   },
   "source": [
    "### Pythagorean Theorem"
   ]
  },
  {
   "cell_type": "markdown",
   "metadata": {},
   "source": [
    "<img src=\"figures/00-chapter2-similarity-2D-pitagora.png\" width=\"40%\">"
   ]
  },
  {
   "cell_type": "markdown",
   "metadata": {
    "slideshow": {
     "slide_type": "slide"
    }
   },
   "source": [
    "### Euclidean distance between Ms. X and Amy\n",
    "$$\\sqrt{(5 - 2)^2 + (5 - 4)^2} = \\sqrt{3^2 + 1^2} = \\sqrt{10} = 3.16$$\n",
    "\n",
    "Computing the rest of the distances we get"
   ]
  },
  {
   "cell_type": "markdown",
   "metadata": {},
   "source": [
    "| Person |Distance from Ms. X|\n",
    "|----|---|\n",
    "|Amy| 3.16|\n",
    "|Bill| 3.61|\n",
    "|Jim| 3.61|"
   ]
  },
  {
   "cell_type": "markdown",
   "metadata": {
    "slideshow": {
     "slide_type": "slide"
    }
   },
   "source": [
    "## N-dimensional thinking\n",
    "\n",
    "Suppose we work for an online streaming music service and we want to make the experience more compelling by **recommending bands**.  \n",
    "Let's say users can rate bands on a star system 0-5 stars and they can give **half star ratings** (for \n",
    "example, you can give a band 2.5 stars).  \n",
    "The following chart shows **8 users** and their ratings of **8 bands**."
   ]
  },
  {
   "cell_type": "markdown",
   "metadata": {
    "slideshow": {
     "slide_type": "slide"
    }
   },
   "source": [
    "| Band | Angelica| Bill | Chan | Dan | Hailey | Jordyn | Sam | Veronica |\n",
    "|----|---|---|---|---|---|---|---|---|\n",
    "| Blues Traveler | 3.5 |2| 5| 3| - |-| 5 |3|\n",
    "| Broken Bells | 2| 3.5| 1| 4 |4 |4.5| 2 |-|\n",
    "| Deadmau5 | - |4 |1| 4.5 |1 |4 |-| -|\n",
    "| Norah Jones | 4.5| - |3 |-| 4| 5| 3| 5|\n",
    "| Phoenix | 5 | 2 | 5 | 3| -| 5| 5| 4|\n",
    "| Slightly Stoopid | 1.5| 3.5| 1| 4.5| -| 4.5| 4 |2.5|\n",
    "| The Strokes | 2.5 |- |- |4 |4 |4 |5| 3|\n",
    "| Vampire Weekend | 2| 3| -| 2| 1| 4| -| -|"
   ]
  },
  {
   "cell_type": "markdown",
   "metadata": {
    "slideshow": {
     "slide_type": "slide"
    }
   },
   "source": [
    "### The Manhattan Distance"
   ]
  },
  {
   "cell_type": "markdown",
   "metadata": {
    "slideshow": {
     "slide_type": "-"
    }
   },
   "source": [
    "|Band|Angelica| Bill| Difference|\n",
    "|----|---|---|---|\n",
    "|Blues Traveler| 3.5| 2| 1.5|\n",
    "|Broken Bells| 2| 3.5| 1.5|\n",
    "|Deadmau|5| - |- |\n",
    "|Norah Jones| 4.5| -| -|\n",
    "|Phoenix |5| 2| 3|\n",
    "|Slightly Stoopid |1.5| 3.5| 2|\n",
    "|The Strokes |2.5 |-| -|\n",
    "|Vampire Weekend |2 |3| 1|\n",
    "|**Manhattan Distance**:|- | -|9|"
   ]
  },
  {
   "cell_type": "markdown",
   "metadata": {
    "slideshow": {
     "slide_type": "slide"
    }
   },
   "source": [
    "### The Euclidean Distance"
   ]
  },
  {
   "cell_type": "markdown",
   "metadata": {},
   "source": [
    "|Band|Angelica| Bill| Difference|Difference$^2$|\n",
    "|----|---|---|---|---|\n",
    "|Blues Traveler| 3.5| 2| 1.5| 2.25|\n",
    "|Broken Bells| 2| 3.5| 1.5| 2.25|\n",
    "|Deadmau|5| - |4| -|\n",
    "|Norah Jones| 4.5| -|-|- |\n",
    "|Phoenix |5| 2| 3| 9|\n",
    "|Slightly Stoopid |1.5| 3.5| 2|4|\n",
    "|The Strokes |2.5 |-| -|-|\n",
    "|Vampire Weekend |2 |3| 1|1|\n",
    "|Sum of squares|-|-|-|18.5|\n",
    "|**Euclidean Distance**:|-|- |-|4.3|"
   ]
  },
  {
   "cell_type": "markdown",
   "metadata": {
    "slideshow": {
     "slide_type": "slide"
    }
   },
   "source": [
    "To parse that out a bit more:\n",
    "$$Euclidean = \\sqrt{(3.5−2)^2 +(2− 3.5)^2 +(5−2)^2+(1.5− 3.5)^2+(2− 3)^2}$$\n",
    "            $$= \\sqrt{1.52+(−1.5)^2+ 3^2+(−2)^2+1^2}$$\n",
    "            $$= \\sqrt{2.25+2.25+9+ 4+1}$$\n",
    "            $$= \\sqrt{18.5} $$\n",
    "            $$= 4.3$$"
   ]
  },
  {
   "cell_type": "markdown",
   "metadata": {
    "slideshow": {
     "slide_type": "slide"
    }
   },
   "source": [
    "### A flaw: missing values\n",
    "\n",
    "It looks like we discovered a flaw with using these distance measures.  \n",
    "* Computing the distance between **Hailey** and **Veronica**, we noticed they **only rated two bands in common** (Norah Jones and The Strokes), \n",
    "* whereas when we computed the distance between **Hailey** and **Jordyn**, we noticed they rated **five bands in common**. \n",
    "* This seems to skew our distance measurement, since the Hailey-Veronica distance is in 2 dimensions while the Hailey-Jordyn distance is in 5 dimensions. \n",
    "\n",
    "* Manhattan Distance and Euclidean Distance work best when there are **no missing values**. "
   ]
  },
  {
   "cell_type": "markdown",
   "metadata": {
    "slideshow": {
     "slide_type": "slide"
    }
   },
   "source": [
    "## A generalization of distance\n",
    "\n",
    "We can generalize Manhattan Distance and Euclidean Distance to what is called the \n",
    "**Minkowski Distance** Metric:\n",
    "$$d(x, y) = (\\sum_{k=1}^n | x_k − y_k |^r)^{1/r}$$"
   ]
  },
  {
   "cell_type": "markdown",
   "metadata": {
    "slideshow": {
     "slide_type": "fragment"
    }
   },
   "source": [
    "When\n",
    "- r = 1: The formula is Manhattan Distance.\n",
    "- r = 2: The formula is Euclidean Distance\n",
    "- r = ∞: Supremum Distance"
   ]
  },
  {
   "cell_type": "markdown",
   "metadata": {
    "slideshow": {
     "slide_type": "slide"
    }
   },
   "source": [
    "## Some code\n",
    "\n",
    "Representing the data using Python's dictionary:"
   ]
  },
  {
   "cell_type": "code",
   "execution_count": null,
   "metadata": {},
   "outputs": [],
   "source": [
    "users = {\"Angelica\": {\"Blues Traveler\": 3.5, \"Broken Bells\": 2.0, \n",
    "                      \"Norah Jones\": 4.5, \"Phoenix\": 5.0, \n",
    "                      \"Slightly Stoopid\": 1.5, \n",
    "                      \"The Strokes\": 2.5, \"Vampire Weekend\": 2.0}, \n",
    "         \"Bill\":     {\"Blues Traveler\": 2.0, \"Broken Bells\": 3.5, \n",
    "                      \"Deadmau5\": 4.0, \n",
    "                      \"Phoenix\": 2.0, \"Slightly Stoopid\": 3.5, \n",
    "                      \"Vampire Weekend\": 3.0}, \n",
    "         \"Chan\":     {\"Blues Traveler\": 5.0, \"Broken Bells\": 1.0, \n",
    "                      \"Deadmau5\": 1.0, \"Norah Jones\": 3.0, \n",
    "                      \"Phoenix\": 5, \"Slightly Stoopid\": 1.0}, \n",
    "         \"Dan\":      {\"Blues Traveler\": 3.0, \"Broken Bells\": 4.0, \n",
    "                      \"Deadmau5\": 4.5, \"Phoenix\": 3.0, \n",
    "                      \"Slightly Stoopid\": 4.5, \"The Strokes\": 4.0, \n",
    "                      \"Vampire Weekend\": 2.0}, \n",
    "         \"Hailey\":   {\"Broken Bells\": 4.0, \"Deadmau5\": 1.0, \n",
    "                      \"Norah Jones\": 4.0, \"The Strokes\": 4.0, \n",
    "                      \"Vampire Weekend\": 1.0}, \n",
    "         \"Jordyn\":   {\"Broken Bells\": 4.5, \"Deadmau5\": 4.0, \"Norah Jones\": 5.0, \n",
    "                      \"Phoenix\": 5.0, \"Slightly Stoopid\": 4.5, \n",
    "                      \"The Strokes\": 4.0, \"Vampire Weekend\": 4.0}, \n",
    "         \"Sam\":      {\"Blues Traveler\": 5.0, \"Broken Bells\": 2.0, \n",
    "                      \"Norah Jones\": 3.0, \"Phoenix\": 5.0, \n",
    "                      \"Slightly Stoopid\": 4.0, \"The Strokes\": 5.0}, \n",
    "         \"Veronica\": {\"Blues Traveler\": 3.0, \"Norah Jones\": 5.0, \n",
    "                      \"Phoenix\": 4.0, \"Slightly Stoopid\": 2.5, \n",
    "                      \"The Strokes\": 3.0}}"
   ]
  },
  {
   "cell_type": "markdown",
   "metadata": {
    "slideshow": {
     "slide_type": "slide"
    }
   },
   "source": [
    "We can get the ratings of a particular user as follows:"
   ]
  },
  {
   "cell_type": "code",
   "execution_count": null,
   "metadata": {},
   "outputs": [],
   "source": [
    "users[\"Veronica\"]"
   ]
  },
  {
   "cell_type": "markdown",
   "metadata": {
    "slideshow": {
     "slide_type": "slide"
    }
   },
   "source": [
    "### The code to compute Manhattan distance\n",
    "\n",
    "I'd like to write a function that computes the Manhattan distance as follows:"
   ]
  },
  {
   "cell_type": "code",
   "execution_count": null,
   "metadata": {},
   "outputs": [],
   "source": [
    "def manhattan(rating1, rating2): \n",
    "    \"\"\"Computes the Manhattan distance. Both rating1 and rating2 are \n",
    "    dictionaries of the form {'The Strokes': 3.0, 'Slightly \n",
    "    Stoopid': 2.5}\"\"\"\n",
    "    distance = 0 \n",
    "    commonRatings = False\n",
    "\n",
    "    for key in rating1: \n",
    "        if key in rating2: \n",
    "            distance += abs(rating1[key] - rating2[key]) \n",
    "            commonRatings = True\n",
    "    if commonRatings: \n",
    "        return distance \n",
    "    else: \n",
    "        return -1 #Indicates no ratings in common"
   ]
  },
  {
   "cell_type": "markdown",
   "metadata": {
    "slideshow": {
     "slide_type": "slide"
    }
   },
   "source": [
    "To test the function:"
   ]
  },
  {
   "cell_type": "code",
   "execution_count": null,
   "metadata": {},
   "outputs": [],
   "source": [
    "manhattan(users['Hailey'], users['Veronica']) "
   ]
  },
  {
   "cell_type": "code",
   "execution_count": null,
   "metadata": {},
   "outputs": [],
   "source": [
    "manhattan(users['Hailey'], users['Jordyn'])"
   ]
  },
  {
   "cell_type": "markdown",
   "metadata": {
    "slideshow": {
     "slide_type": "slide"
    }
   },
   "source": [
    "### Find the closest person\n",
    "A function that returns a sorted list with the closest person first:"
   ]
  },
  {
   "cell_type": "code",
   "execution_count": null,
   "metadata": {},
   "outputs": [],
   "source": [
    "def compute_nearest_neighbor(username, users):\n",
    "    \"\"\"\n",
    "    creates a sorted list of users based on their distance to username\n",
    "    \"\"\" \n",
    "    distances = [] \n",
    "    for user in users: \n",
    "        if user != username: \n",
    "            distance = manhattan(users[user], users[username]) \n",
    "            distances.append((distance, user)) \n",
    "            print(\"Distance(%s, %s) = %f\"%(username,user,distance))\n",
    "    # sort based on distance -- closest first\n",
    "    distances.sort() \n",
    "    return distances"
   ]
  },
  {
   "cell_type": "code",
   "execution_count": null,
   "metadata": {
    "slideshow": {
     "slide_type": "slide"
    }
   },
   "outputs": [],
   "source": [
    "compute_nearest_neighbor('Hailey', users)"
   ]
  },
  {
   "cell_type": "markdown",
   "metadata": {
    "slideshow": {
     "slide_type": "slide"
    }
   },
   "source": [
    "###  Make recommendations\n",
    "* We find `Hailey` nearest neighbor (`Veronica` in this case). \n",
    "* We will then **find** `bands that Veronica has rated but Hailey has not`. Also, \n",
    "* For example, \n",
    "  * Hailey has **not rated** the great band `Phoenix`. \n",
    "  * Veronica has **rated** `Phoenix` a '4' so we will assume Hailey is likely to enjoy the band as well. \n",
    "  \n",
    "Here is a function to make recommendations."
   ]
  },
  {
   "cell_type": "code",
   "execution_count": null,
   "metadata": {
    "slideshow": {
     "slide_type": "slide"
    }
   },
   "outputs": [],
   "source": [
    "def recommend(username, users):\n",
    "    \"\"\"\n",
    "    Give list of recommendations\n",
    "    \"\"\"\n",
    "    # first find nearest neighbor\n",
    "    nearest = compute_nearest_neighbor(username, users)[0][1] \n",
    "    print(\"nearest neighbor:\", nearest)\n",
    "    recommendations = [] \n",
    "    # now find bands neighbor rated that user didn't \n",
    "    neighborRatings = users[nearest] \n",
    "    userRatings = users[username] \n",
    "    for artist in neighborRatings: \n",
    "        if not artist in userRatings:\n",
    "            recommendations.append((artist, neighborRatings[artist]))\n",
    "    recommendations.sort(key=lambda artistTuple: artistTuple[1], reverse = True)\n",
    "    return recommendations"
   ]
  },
  {
   "cell_type": "code",
   "execution_count": null,
   "metadata": {
    "slideshow": {
     "slide_type": "slide"
    }
   },
   "outputs": [],
   "source": [
    "recommend('Hailey', users)"
   ]
  },
  {
   "cell_type": "markdown",
   "metadata": {
    "slideshow": {
     "slide_type": "slide"
    }
   },
   "source": [
    "That fits with our expectations. \n",
    "* As we saw above, `Hailey`'s nearest neighbor was `Veronica` and Veronica gave `Phoenix` a '**4**'. \n",
    "\n",
    "Let's try a few more:"
   ]
  },
  {
   "cell_type": "code",
   "execution_count": null,
   "metadata": {
    "scrolled": true,
    "slideshow": {
     "slide_type": "slide"
    }
   },
   "outputs": [],
   "source": [
    "recommend('Chan', users) "
   ]
  },
  {
   "cell_type": "markdown",
   "metadata": {},
   "source": [
    "We think `Chan` will like `The Strokes`"
   ]
  },
  {
   "cell_type": "code",
   "execution_count": null,
   "metadata": {
    "slideshow": {
     "slide_type": "slide"
    }
   },
   "outputs": [],
   "source": [
    "recommend('Sam', users) "
   ]
  },
  {
   "cell_type": "markdown",
   "metadata": {
    "slideshow": {
     "slide_type": "-"
    }
   },
   "source": [
    "We predict that `Sam` will not like `Deadmau5`."
   ]
  },
  {
   "cell_type": "code",
   "execution_count": null,
   "metadata": {
    "slideshow": {
     "slide_type": "slide"
    }
   },
   "outputs": [],
   "source": [
    "recommend('Angelica', users) "
   ]
  },
  {
   "cell_type": "markdown",
   "metadata": {},
   "source": [
    "Hmm. For Angelica we got back an **empty set** meaning we have **no recommendations** for her.  \n",
    "Let us see what went wrong:"
   ]
  },
  {
   "cell_type": "code",
   "execution_count": null,
   "metadata": {
    "slideshow": {
     "slide_type": "slide"
    }
   },
   "outputs": [],
   "source": [
    "compute_nearest_neighbor('Angelica', users) "
   ]
  },
  {
   "cell_type": "markdown",
   "metadata": {
    "slideshow": {
     "slide_type": "slide"
    }
   },
   "source": [
    "Angelica's nearest neighbor is Veronica.  \n",
    "When we look at their ratings:"
   ]
  },
  {
   "cell_type": "markdown",
   "metadata": {
    "slideshow": {
     "slide_type": "fragment"
    }
   },
   "source": [
    "* We see that **Angelica rated every band that Veronica did**. \n",
    "* We have no new ratings, so no recommendations. "
   ]
  }
 ],
 "metadata": {
  "celltoolbar": "Slideshow",
  "kernelspec": {
   "display_name": "Python 3",
   "language": "python",
   "name": "python3"
  },
  "language_info": {
   "codemirror_mode": {
    "name": "ipython",
    "version": 3
   },
   "file_extension": ".py",
   "mimetype": "text/x-python",
   "name": "python",
   "nbconvert_exporter": "python",
   "pygments_lexer": "ipython3",
   "version": "3.5.2"
  }
 },
 "nbformat": 4,
 "nbformat_minor": 1
}
