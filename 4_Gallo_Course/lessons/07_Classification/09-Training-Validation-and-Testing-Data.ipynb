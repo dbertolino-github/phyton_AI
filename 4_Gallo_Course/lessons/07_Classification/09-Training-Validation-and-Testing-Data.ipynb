{
 "cells": [
  {
   "cell_type": "markdown",
   "metadata": {
    "slideshow": {
     "slide_type": "slide"
    }
   },
   "source": [
    "# Training and Testing Data\n",
    "To evaluate how well our supervised models generalize, we can **split** our data into a training and a test set:\n",
    "\n",
    "<img src=\"figures/train_test_split.svg\" width=\"100%\">\n"
   ]
  },
  {
   "cell_type": "markdown",
   "metadata": {},
   "source": [
    "The **test data** is a **simulation** of \"**future data**\" which will come into the system during production. "
   ]
  },
  {
   "cell_type": "markdown",
   "metadata": {},
   "source": [
    "#### Shuffle before splitting\n",
    "For iris, the labels in iris are sorted, which means that if we split the data using a proportional split, we will get all of specific labels (0 and 1) and very little of another (2). \n",
    "\n",
    "We want to split as illustrated above, but *after* the data has been **randomly shuffled**."
   ]
  },
  {
   "cell_type": "code",
   "execution_count": 4,
   "metadata": {
    "slideshow": {
     "slide_type": "slide"
    }
   },
   "outputs": [],
   "source": [
    "from sklearn.datasets import load_iris\n",
    "from sklearn.neighbors import KNeighborsClassifier\n",
    "\n",
    "iris = load_iris()\n",
    "X, y = iris.data, iris.target\n",
    "\n",
    "classifier = KNeighborsClassifier()"
   ]
  },
  {
   "cell_type": "code",
   "execution_count": 5,
   "metadata": {},
   "outputs": [
    {
     "data": {
      "text/plain": [
       "array([0, 0, 0, 0, 0, 0, 0, 0, 0, 0, 0, 0, 0, 0, 0, 0, 0, 0, 0, 0, 0, 0,\n",
       "       0, 0, 0, 0, 0, 0, 0, 0, 0, 0, 0, 0, 0, 0, 0, 0, 0, 0, 0, 0, 0, 0,\n",
       "       0, 0, 0, 0, 0, 0, 1, 1, 1, 1, 1, 1, 1, 1, 1, 1, 1, 1, 1, 1, 1, 1,\n",
       "       1, 1, 1, 1, 1, 1, 1, 1, 1, 1, 1, 1, 1, 1, 1, 1, 1, 1, 1, 1, 1, 1,\n",
       "       1, 1, 1, 1, 1, 1, 1, 1, 1, 1, 1, 1, 2, 2, 2, 2, 2, 2, 2, 2, 2, 2,\n",
       "       2, 2, 2, 2, 2, 2, 2, 2, 2, 2, 2, 2, 2, 2, 2, 2, 2, 2, 2, 2, 2, 2,\n",
       "       2, 2, 2, 2, 2, 2, 2, 2, 2, 2, 2, 2, 2, 2, 2, 2, 2, 2])"
      ]
     },
     "execution_count": 5,
     "metadata": {},
     "output_type": "execute_result"
    }
   ],
   "source": [
    "y"
   ]
  },
  {
   "cell_type": "markdown",
   "metadata": {
    "slideshow": {
     "slide_type": "slide"
    }
   },
   "source": [
    "To get an accurate simulation of the real world, we will **shuffle** our data **then split**."
   ]
  },
  {
   "cell_type": "code",
   "execution_count": 6,
   "metadata": {},
   "outputs": [
    {
     "name": "stdout",
     "output_type": "stream",
     "text": [
      "[2 1 0 2 0 2 0 1 1 1 2 1 1 1 1 0 1 1 0 0 2 1 0 0 2 0 0 1 1 0 2 1 0 2 2 1 0\n",
      " 1 1 1 2 0 2 0 0 1 2 2 2 2 1 2 1 1 2 2 2 2 1 2 1 0 2 1 1 1 1 2 0 0 2 1 0 0\n",
      " 1 0 2 1 0 1 2 1 0 2 2 2 2 0 0 2 2 0 2 0 2 2 0 0 2 0 0 0 1 2 2 0 0 0 1 1 0\n",
      " 0 1 0 2 1 2 1 0 2 0 2 0 0 2 0 2 1 1 1 2 2 1 1 0 1 2 2 0 1 1 1 1 0 0 0 2 1\n",
      " 2 0]\n"
     ]
    }
   ],
   "source": [
    "import numpy as np\n",
    "rng = np.random.RandomState(0)\n",
    "\n",
    "permutation = rng.permutation(len(X))\n",
    "X, y = X[permutation], y[permutation]\n",
    "print(y)"
   ]
  },
  {
   "cell_type": "markdown",
   "metadata": {
    "slideshow": {
     "slide_type": "slide"
    }
   },
   "source": [
    "Now we need to ``split`` the data into **training** and **testing**. <br>\n",
    "Luckily, this is a common pattern in machine learning and scikit-learn has a prebuilt function to split data into training and testing for you. <br>\n",
    "Here we use 50% of the data as training, and 50% testing. <br>\n",
    "80% and 20% is another common split, but there are no hard and fast rules. <br>"
   ]
  },
  {
   "cell_type": "code",
   "execution_count": 7,
   "metadata": {},
   "outputs": [
    {
     "name": "stdout",
     "output_type": "stream",
     "text": [
      "Labels for training and testing data\n",
      "[0 1 1 2 2 2 0 2 2 1 1 2 2 1 1 1 1 1 0 2 2 2 1 0 2 1 1 2 1 0 2 2 0 2 2 0 2\n",
      " 1 0 2 0 2 2 2 0 2 0 0 1 0 1 0 2 1 1 0 1 2 1 0 0 0 1 0 1 0 1 0 0 0 0 0 1 1\n",
      " 2]\n",
      "[1 0 1 2 2 1 1 0 1 0 0 2 2 2 1 0 2 0 2 1 0 0 0 2 1 1 1 1 1 0 2 2 2 2 0 1 0\n",
      " 1 2 1 2 2 1 2 2 1 0 2 0 2 1 2 0 0 2 0 2 1 2 1 0 1 0 1 0 2 2 0 0 0 1 0 1 0\n",
      " 1]\n"
     ]
    }
   ],
   "source": [
    "from sklearn.model_selection import train_test_split\n",
    "train_X, test_X, train_y, test_y = train_test_split(X, y, test_size=0.5, random_state=1999)\n",
    "print(\"Labels for training and testing data\")\n",
    "print(train_y)\n",
    "print(test_y)"
   ]
  },
  {
   "cell_type": "markdown",
   "metadata": {
    "slideshow": {
     "slide_type": "slide"
    }
   },
   "source": [
    "#### Never use test set for training!\n",
    "The most important thing is to fairly **evaluate** your system on data it **has not seen during training**!\n",
    "\n",
    "By evaluating our classifier performance on data that has been seen during training, we could get **false confidence** in the power of our system. \n",
    "\n",
    "This might lead to putting a system into production which *fails* at predicting new data!   \n",
    "It is much better to use a train/test split in order to properly see how your trained model is doing on new data."
   ]
  },
  {
   "cell_type": "code",
   "execution_count": 8,
   "metadata": {},
   "outputs": [
    {
     "name": "stdout",
     "output_type": "stream",
     "text": [
      "Fraction Correct\n",
      "0.96\n"
     ]
    }
   ],
   "source": [
    "classifier.fit(train_X, train_y)\n",
    "pred_y = classifier.predict(test_X)\n",
    "print(\"Fraction Correct\")\n",
    "print(np.sum(pred_y == test_y) / float(len(test_y)))"
   ]
  },
  {
   "cell_type": "markdown",
   "metadata": {
    "slideshow": {
     "slide_type": "slide"
    }
   },
   "source": [
    "#### Visualization\n",
    "We can also **visualize** the **correct** and **failed** predictions"
   ]
  },
  {
   "cell_type": "code",
   "execution_count": 9,
   "metadata": {},
   "outputs": [
    {
     "name": "stdout",
     "output_type": "stream",
     "text": [
      "correct [ 0  1  2  3  4  5  6  7  8  9 10 11 12 13 14 15 16 17 18 19 20 21 22 23\n",
      " 25 26 27 28 29 30 31 32 33 34 35 36 37 39 40 41 42 43 44 45 46 47 48 49\n",
      " 50 51 52 53 54 55 56 57 58 59 60 61 62 63 64 65 66 67 68 69 70 71 73 74]\n",
      "incorrect [24 38 72]\n"
     ]
    }
   ],
   "source": [
    "%matplotlib inline\n",
    "import matplotlib.pyplot as plt\n",
    "import numpy as np\n",
    "correct_idx = np.where(pred_y == test_y)[0]\n",
    "print(\"correct\", correct_idx)\n",
    "\n",
    "incorrect_idx = np.where(pred_y != test_y)[0]\n",
    "print(\"incorrect\", incorrect_idx)"
   ]
  },
  {
   "cell_type": "code",
   "execution_count": 10,
   "metadata": {
    "slideshow": {
     "slide_type": "slide"
    }
   },
   "outputs": [
    {
     "data": {
      "image/png": "[encoded data removed]",
      "text/plain": [
       "<Figure size 432x288 with 1 Axes>"
      ]
     },
     "metadata": {
      "needs_background": "light"
     },
     "output_type": "display_data"
    }
   ],
   "source": [
    "# Plot two dimensions\n",
    "colors = [\"darkblue\", \"darkgreen\", \"gray\"]\n",
    "for n, color in enumerate(colors):\n",
    "    idx = np.where(test_y == n)[0]\n",
    "    plt.scatter(test_X[idx, 0], test_X[idx, 1], color=color, label=\"Class %s\" % str(n))\n",
    "    \n",
    "plt.scatter(test_X[incorrect_idx, 0], test_X[incorrect_idx, 1], color=\"darkred\")\n",
    "\n",
    "# Make xlim larger to accommodate legend\n",
    "plt.xlim(3, 9)\n",
    "plt.legend(loc=3)\n",
    "plt.title(\"Iris Classification results\")\n",
    "plt.show()"
   ]
  },
  {
   "cell_type": "markdown",
   "metadata": {
    "slideshow": {
     "slide_type": "slide"
    }
   },
   "source": [
    "We can see that the **errors occur in the area where green** (class 1) **and gray** (class 2) **overlap**. \n",
    "\n",
    "This gives us insight about what **features to add** - any feature which helps separate class 1 and class 2 should improve classifier performance."
   ]
  },
  {
   "cell_type": "markdown",
   "metadata": {
    "slideshow": {
     "slide_type": "slide"
    }
   },
   "source": [
    "##  Split a dataset in Train and Test using Numpy\n",
    "\n",
    "If we want to split the Iris dataset in two subset, we can use ``numpy.random.permutation`` because we need to **keep track of the indices**:"
   ]
  },
  {
   "cell_type": "code",
   "execution_count": 11,
   "metadata": {
    "scrolled": true,
    "slideshow": {
     "slide_type": "subslide"
    }
   },
   "outputs": [
    {
     "name": "stdout",
     "output_type": "stream",
     "text": [
      "Train_y: [0 1 2 0 0 2 2 2 2 2 2 2 2 0 1 2 2 1 2 0 2 2 1 1 2 0 0 2 0 2 1 2 2 1 0 1 2\n",
      " 0 1 1 0 0 0 1 2 1 1 0 0 1 0 2 2 2 1 0 1 1 1 1 2 0 0 2 0 1 2 2 1 2 1 1 0 1\n",
      " 0 0 2 1 0 0 1 0 0 2 0 1 0 2 1 1 2 1 1 0 2 0 0 1 2 0 2 0 0 2 1 0 0 2 1 0 0\n",
      " 2 2 2 0 2 0 1 1 0]\n",
      "Test_y: [2 1 2 0 0 1 1 0 1 1 1 2 2 1 0 1 1 1 0 2 2 2 0 0 1 1 1 1 2 0]\n"
     ]
    }
   ],
   "source": [
    "import numpy\n",
    "from random import shuffle\n",
    "\n",
    "# We can use NumPy's array indexing:\n",
    "assert len(X) == len(y)\n",
    "p = numpy.random.permutation(len(X))\n",
    "# print(\"indices:\",p)\n",
    "\n",
    "# This will result in creation of separate unison-shuffled arrays.\n",
    "X1 = X[p] \n",
    "y1 = y[p]\n",
    "# print(\"y: \",y)\n",
    "# print(\"y1:\",y1)\n",
    "\n",
    "# Here is a way to split the data into two sets: 80% train, 20% test.\n",
    "split = int(0.8 * len(X))\n",
    "train_X = X1[:split]\n",
    "train_y = y1[:split]\n",
    "\n",
    "test_X = X1[split:]\n",
    "test_y = y1[split:]\n",
    "print(\"Train_y:\", train_y)\n",
    "print(\"Test_y:\", test_y)"
   ]
  },
  {
   "cell_type": "markdown",
   "metadata": {
    "slideshow": {
     "slide_type": "slide"
    }
   },
   "source": [
    "# Using k-fold cross-validation to assess model performance\n",
    "\n",
    "source: [python-machine-learning-book](https://github.com/rasbt/python-machine-learning-book)\n",
    "\n",
    "One of the key steps in building a machine learning model is to ``estimate its performance on data that the model hasn't seen before``.<br>\n",
    "A model can either suffer from **underfitting** if the model is too simple, or it can **overfit** training data  if the model is too complex for the underlying training data. <br>\n",
    "To find an acceptable trade-off, we need to evaluate our model carefully. \n",
    "\n",
    "In this section, you will learn about the useful ``cross-validation techniques`` \n",
    "* **holdout cross-validation** and \n",
    "* **k-fold cross-validation**, \n",
    "\n",
    "which can help us to obtain reliable estimates of the model's generalization error, that is, ``how well the model performs on unseen data``."
   ]
  },
  {
   "cell_type": "markdown",
   "metadata": {
    "slideshow": {
     "slide_type": "slide"
    }
   },
   "source": [
    "## The holdout method\n",
    "\n",
    "A classic and popular approach for ``estimating the generalization performance`` of machine learning models is **holdout cross-validation**. <br>\n",
    "We split our initial dataset into  \n",
    "* **training** dataset: used for model training \n",
    "* **test** dataset: used to estimate the model performance. \n"
   ]
  },
  {
   "cell_type": "markdown",
   "metadata": {
    "slideshow": {
     "slide_type": "slide"
    }
   },
   "source": [
    "#### model selection: tuning hyperparameters\n",
    "\n",
    "However, in typical machine learning applications, we are also interested in  \n",
    "``tuning and comparing different parameter settings``   \n",
    "to further improve the performance for making predictions on unseen data. \n",
    "\n",
    "This process is called **model selection**, where the term model selection refers to a given classification problem for which we want to select the optimal values of **tuning parameters** (also called **hyperparameters**).\n",
    "\n",
    "However, if we ``reuse the same test dataset`` over and over again during model\n",
    "selection, it will become part of our training data and thus the model will be more\n",
    "likely to **overfit**. <br>\n",
    "Despite this issue, many people still ``use the test set for model selection``, which ``is not a good machine learning practice``."
   ]
  },
  {
   "cell_type": "markdown",
   "metadata": {},
   "source": [
    "A better way of using the holdout method for model selection is to separate the data\n",
    "into three parts: <br>\n",
    "* a **training set**, used to fit the different models\n",
    "* a **validation set**, used for the model selection \n",
    "* a **test set**., that the model hasn't seen before during the training and model selection steps\n",
    "\n",
    "\n",
    "<img src=\"./figures/06_02.png\" width=\"50%\">"
   ]
  },
  {
   "cell_type": "markdown",
   "metadata": {
    "slideshow": {
     "slide_type": "slide"
    }
   },
   "source": [
    "How could we split randomly a data set and the corresponding label vector into a ``X_train``, ``X_test``, ``X_val``, ``y_train``, ``y_test``, ``y_val`` with Sklearn?"
   ]
  },
  {
   "cell_type": "code",
   "execution_count": null,
   "metadata": {
    "slideshow": {
     "slide_type": "fragment"
    }
   },
   "outputs": [],
   "source": [
    "# We can use sklearn.model_selection.train_test_split twice. \n",
    "# First to split to train, test \n",
    "X_train, X_test, y_train, y_test = train_test_split(X, y, test_size=0.2, random_state=1)\n",
    "# and then split train again into validation and train\n",
    "X_train, X_val, y_train, y_val = train_test_split(X_train, y_train, test_size=0.2, random_state=1)\n",
    "print(\"Labels for training, validation and testing data\")\n",
    "print(\"TRAIN:\",y_train)\n",
    "print(\"TEST:\",y_test)\n",
    "print(\"VAL:\",y_val)"
   ]
  },
  {
   "cell_type": "markdown",
   "metadata": {
    "slideshow": {
     "slide_type": "slide"
    }
   },
   "source": [
    "## K-fold cross-validation\n",
    "\n",
    "In $k$-fold cross-validation, we ``randomly split`` the training dataset into $k$ folds ``without replacement``, where $k − 1$ folds are used for the model **training** and one fold is used for **testing**. <br>\n",
    "This procedure is repeated $k$ times so that we obtain $k$ models and performance estimates.\n",
    "\n",
    "<img src=\"./figures/06_03.png\" width=\"70%\">\n"
   ]
  },
  {
   "cell_type": "code",
   "execution_count": 12,
   "metadata": {
    "slideshow": {
     "slide_type": "slide"
    }
   },
   "outputs": [
    {
     "name": "stdout",
     "output_type": "stream",
     "text": [
      "TRAIN: [ 12  13  14  16  17  19  21  22  23  24  25  26  27  28  29  30  31  32\n",
      "  33  34  35  36  37  38  39  40  41  42  43  44  45  46  47  48  49  50\n",
      "  51  52  53  54  55  56  57  58  59  60  61  62  63  64  65  66  67  68\n",
      "  69  70  71  72  73  74  75  76  77  78  79  80  81  82  83  84  85  86\n",
      "  87  88  89  90  91  92  93  94  95  96  97  98  99 100 101 102 103 104\n",
      " 105 106 107 108 109 110 111 112 113 114 115 116 117 118 119 120 121 122\n",
      " 123 124 125 126 127 128 129 130 131 132 133 134 135 136 137 138 139 140\n",
      " 141 142 143 144 145 146 147 148 149] TEST: [ 0  1  2  3  4  5  6  7  8  9 10 11 15 18 20]\n",
      "Fold: 0, Acc: 1.000\n",
      "TRAIN: [  0   1   2   3   4   5   6   7   8   9  10  11  15  18  20  21  27  28\n",
      "  29  31  32  35  36  37  38  39  41  42  43  44  45  46  47  48  49  50\n",
      "  51  52  53  54  55  56  57  58  59  60  61  62  63  64  65  66  67  68\n",
      "  69  70  71  72  73  74  75  76  77  78  79  80  81  82  83  84  85  86\n",
      "  87  88  89  90  91  92  93  94  95  96  97  98  99 100 101 102 103 104\n",
      " 105 106 107 108 109 110 111 112 113 114 115 116 117 118 119 120 121 122\n",
      " 123 124 125 126 127 128 129 130 131 132 133 134 135 136 137 138 139 140\n",
      " 141 142 143 144 145 146 147 148 149] TEST: [12 13 14 16 17 19 22 23 24 25 26 30 33 34 40]\n",
      "Fold: 1, Acc: 1.000\n",
      "TRAIN: [  0   1   2   3   4   5   6   7   8   9  10  11  12  13  14  15  16  17\n",
      "  18  19  20  22  23  24  25  26  30  33  34  37  38  39  40  44  45  50\n",
      "  51  52  53  54  55  56  57  58  59  60  61  62  63  64  65  66  67  68\n",
      "  69  70  71  72  73  74  75  76  77  78  79  80  81  82  83  84  85  86\n",
      "  87  88  89  90  91  92  93  94  95  96  97  98  99 100 101 102 103 104\n",
      " 105 106 107 108 109 110 111 112 113 114 115 116 117 118 119 120 121 122\n",
      " 123 124 125 126 127 128 129 130 131 132 133 134 135 136 137 138 139 140\n",
      " 141 142 143 144 145 146 147 148 149] TEST: [21 27 28 29 31 32 35 36 41 42 43 46 47 48 49]\n",
      "Fold: 2, Acc: 0.933\n",
      "TRAIN: [  0   1   2   3   4   5   6   7   8   9  10  11  12  13  14  15  16  17\n",
      "  18  19  20  21  22  23  24  25  26  27  28  29  30  31  32  33  34  35\n",
      "  36  40  41  42  43  46  47  48  49  52  53  58  59  60  62  63  64  65\n",
      "  66  67  70  71  73  74  75  76  77  78  79  80  81  82  83  84  85  86\n",
      "  87  88  89  90  91  92  93  94  95  96  97  98  99 100 101 102 103 104\n",
      " 105 106 107 108 109 110 111 112 113 114 115 116 117 118 119 120 121 122\n",
      " 123 124 125 126 127 128 129 130 131 132 133 134 135 136 137 138 139 140\n",
      " 141 142 143 144 145 146 147 148 149] TEST: [37 38 39 44 45 50 51 54 55 56 57 61 68 69 72]\n",
      "Fold: 3, Acc: 0.867\n",
      "TRAIN: [  0   1   2   3   4   5   6   7   8   9  10  11  12  13  14  15  16  17\n",
      "  18  19  20  21  22  23  24  25  26  27  28  29  30  31  32  33  34  35\n",
      "  36  37  38  39  40  41  42  43  44  45  46  47  48  49  50  51  54  55\n",
      "  56  57  61  64  65  66  68  69  71  72  74  77  79  80  81  83  84  85\n",
      "  86  88  89  90  91  92  93  94  95  96  97  98  99 100 101 102 103 104\n",
      " 105 106 107 108 109 110 111 112 113 114 115 116 117 118 119 120 121 122\n",
      " 123 124 125 126 127 128 129 130 131 132 133 134 135 136 137 138 139 140\n",
      " 141 142 143 144 145 146 147 148 149] TEST: [52 53 58 59 60 62 63 67 70 73 75 76 78 82 87]\n",
      "Fold: 4, Acc: 1.000\n",
      "TRAIN: [  0   1   2   3   4   5   6   7   8   9  10  11  12  13  14  15  16  17\n",
      "  18  19  20  21  22  23  24  25  26  27  28  29  30  31  32  33  34  35\n",
      "  36  37  38  39  40  41  42  43  44  45  46  47  48  49  50  51  52  53\n",
      "  54  55  56  57  58  59  60  61  62  63  67  68  69  70  72  73  75  76\n",
      "  77  78  79  81  82  87  89  90  92  94  95  98  99 100 101 102 103 104\n",
      " 105 106 107 108 109 110 111 112 113 114 115 116 117 118 119 120 121 122\n",
      " 123 124 125 126 127 128 129 130 131 132 133 134 135 136 137 138 139 140\n",
      " 141 142 143 144 145 146 147 148 149] TEST: [64 65 66 71 74 80 83 84 85 86 88 91 93 96 97]\n",
      "Fold: 5, Acc: 1.000\n",
      "TRAIN: [  0   1   2   3   4   5   6   7   8   9  10  11  12  13  14  15  16  17\n",
      "  18  19  20  21  22  23  24  25  26  27  28  29  30  31  32  33  34  35\n",
      "  36  37  38  39  40  41  42  43  44  45  46  47  48  49  50  51  52  53\n",
      "  54  55  56  57  58  59  60  61  62  63  64  65  66  67  68  69  70  71\n",
      "  72  73  74  75  76  78  80  82  83  84  85  86  87  88  91  93  96  97\n",
      "  98 103 104 107 109 110 111 112 113 114 115 116 117 118 119 120 121 122\n",
      " 123 124 125 126 127 128 129 130 131 132 133 134 135 136 137 138 139 140\n",
      " 141 142 143 144 145 146 147 148 149] TEST: [ 77  79  81  89  90  92  94  95  99 100 101 102 105 106 108]\n",
      "Fold: 6, Acc: 1.000\n",
      "TRAIN: [  0   1   2   3   4   5   6   7   8   9  10  11  12  13  14  15  16  17\n",
      "  18  19  20  21  22  23  24  25  26  27  28  29  30  31  32  33  34  35\n",
      "  36  37  38  39  40  41  42  43  44  45  46  47  48  49  50  51  52  53\n",
      "  54  55  56  57  58  59  60  61  62  63  64  65  66  67  68  69  70  71\n",
      "  72  73  74  75  76  77  78  79  80  81  82  83  84  85  86  87  88  89\n",
      "  90  91  92  93  94  95  96  97  99 100 101 102 105 106 108 119 120 121\n",
      " 122 123 124 125 126 128 129 130 131 132 133 134 135 136 137 138 139 140\n",
      " 141 142 143 144 145 146 147 148 149] TEST: [ 98 103 104 107 109 110 111 112 113 114 115 116 117 118 127]\n",
      "Fold: 7, Acc: 1.000\n",
      "TRAIN: [  0   1   2   3   4   5   6   7   8   9  10  11  12  13  14  15  16  17\n",
      "  18  19  20  21  22  23  24  25  26  27  28  29  30  31  32  33  34  35\n",
      "  36  37  38  39  40  41  42  43  44  45  46  47  48  49  50  51  52  53\n",
      "  54  55  56  57  58  59  60  61  62  63  64  65  66  67  68  69  70  71\n",
      "  72  73  74  75  76  77  78  79  80  81  82  83  84  85  86  87  88  89\n",
      "  90  91  92  93  94  95  96  97  98  99 100 101 102 103 104 105 106 107\n",
      " 108 109 110 111 112 113 114 115 116 117 118 127 131 136 137 138 139 140\n",
      " 141 142 143 144 145 146 147 148 149] TEST: [119 120 121 122 123 124 125 126 128 129 130 132 133 134 135]\n",
      "Fold: 8, Acc: 0.933\n",
      "TRAIN: [  0   1   2   3   4   5   6   7   8   9  10  11  12  13  14  15  16  17\n",
      "  18  19  20  21  22  23  24  25  26  27  28  29  30  31  32  33  34  35\n",
      "  36  37  38  39  40  41  42  43  44  45  46  47  48  49  50  51  52  53\n",
      "  54  55  56  57  58  59  60  61  62  63  64  65  66  67  68  69  70  71\n",
      "  72  73  74  75  76  77  78  79  80  81  82  83  84  85  86  87  88  89\n",
      "  90  91  92  93  94  95  96  97  98  99 100 101 102 103 104 105 106 107\n",
      " 108 109 110 111 112 113 114 115 116 117 118 119 120 121 122 123 124 125\n",
      " 126 127 128 129 130 132 133 134 135] TEST: [131 136 137 138 139 140 141 142 143 144 145 146 147 148 149]\n",
      "Fold: 9, Acc: 0.933\n",
      "\n",
      "CV accuracy: 0.967 +/- 0.045\n"
     ]
    }
   ],
   "source": [
    "from sklearn.model_selection import StratifiedKFold\n",
    "\n",
    "skf = StratifiedKFold(n_splits=10, random_state=1, shuffle=False)  \n",
    "classifier = KNeighborsClassifier()\n",
    "scores = []\n",
    "for k, (train_index, test_index) in enumerate(skf.split(X, y)):\n",
    "    print(\"TRAIN:\", train_index, \"TEST:\", test_index)\n",
    "    X_train, X_test = X[train_index], X[test_index]\n",
    "    y_train, y_test = y[train_index], y[test_index]\n",
    "    \n",
    "    classifier.fit(X_train, y_train)\n",
    "    pred_y = classifier.predict(X_test)\n",
    "    score = np.sum(pred_y == y_test) / float(len(y_test))\n",
    "    scores.append(score)\n",
    "    print('Fold: %s, Acc: %.3f' % (k, score))\n",
    "    \n",
    "print('\\nCV accuracy: %.3f +/- %.3f' % (np.mean(scores), np.std(scores)))\n"
   ]
  }
 ],
 "metadata": {
  "kernelspec": {
   "display_name": "Python 3",
   "language": "python",
   "name": "python3"
  },
  "language_info": {
   "codemirror_mode": {
    "name": "ipython",
    "version": 3
   },
   "file_extension": ".py",
   "mimetype": "text/x-python",
   "name": "python",
   "nbconvert_exporter": "python",
   "pygments_lexer": "ipython3",
   "version": "3.6.7"
  }
 },
 "nbformat": 4,
 "nbformat_minor": 1
}
