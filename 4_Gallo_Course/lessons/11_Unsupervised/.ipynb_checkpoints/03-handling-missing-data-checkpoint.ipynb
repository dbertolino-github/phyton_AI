{
 "cells": [
  {
   "cell_type": "markdown",
   "metadata": {
    "slideshow": {
     "slide_type": "slide"
    }
   },
   "source": [
    "# Handling Missing Data"
   ]
  },
  {
   "cell_type": "markdown",
   "metadata": {},
   "source": [
    "The difference between \n",
    "* data found in many **tutorials** and \n",
    "* data in the **real world** \n",
    "\n",
    "is that real-world data is `rarely clean and homogeneous`.\n",
    "\n",
    "In particular, many interesting datasets will have some amount of **data missing**.\n",
    "\n",
    "Here we'll refer to missing data in general as *null*, *NaN*, or *NA* values."
   ]
  },
  {
   "cell_type": "markdown",
   "metadata": {
    "slideshow": {
     "slide_type": "slide"
    }
   },
   "source": [
    "## Preprocessing in Data Mining\n",
    "\n",
    "* One of the important stages of data mining is preprocessing, where we prepare the data for mining. \n",
    "* Real-world data tends to be \n",
    "  * incomplete, \n",
    "  * noisy, \n",
    "  * inconsistent "
   ]
  },
  {
   "cell_type": "markdown",
   "metadata": {
    "slideshow": {
     "slide_type": "fragment"
    }
   },
   "source": [
    "* An important task when preprocessing the data is to \n",
    "  * fill in missing values, \n",
    "  * smooth out noise \n",
    "  * correct inconsistencies."
   ]
  },
  {
   "cell_type": "markdown",
   "metadata": {
    "slideshow": {
     "slide_type": "slide"
    }
   },
   "source": [
    "## Find missing values in the dataset\n",
    "\n",
    "Missing values could be: \n",
    "* NaN, empty string, ?,-1,-99,-999 and so on. \n",
    "* In order to understand if -1 is a missing value or not we could **draw a histogram**. \n",
    "\n",
    "If this variable has a uniform distribution between 0 and 1 and it has a **small peak at -1** then -1 is actually a `missing value`.\n",
    "\n",
    "Missing values can be hidden from us and by hidden mean replaced by some other value beside NaN.   \n",
    "Therefore, it is always beneficial to plot a histogram in order to identify those values."
   ]
  },
  {
   "cell_type": "code",
   "execution_count": null,
   "metadata": {
    "slideshow": {
     "slide_type": "slide"
    }
   },
   "outputs": [],
   "source": [
    "import pandas as pd\n",
    "\n",
    "# Load the Brittleness index dataset (https://openmv.net/info/brittleness-index)\n",
    "df = pd.read_csv('data/brittleness-index.csv')\n",
    "df.head()"
   ]
  },
  {
   "cell_type": "code",
   "execution_count": null,
   "metadata": {
    "scrolled": true,
    "slideshow": {
     "slide_type": "slide"
    }
   },
   "outputs": [],
   "source": [
    "df_nan = df.fillna(value=-99)\n",
    "df_nan['TK104'].hist();"
   ]
  },
  {
   "cell_type": "markdown",
   "metadata": {
    "slideshow": {
     "slide_type": "slide"
    }
   },
   "source": [
    "Using `dataframe.info()` we can figure out which features has missing values:\n",
    "* TK104  -->  20\n",
    "* TK105  -->  21 \n",
    "* TK107  -->  23"
   ]
  },
  {
   "cell_type": "code",
   "execution_count": null,
   "metadata": {
    "scrolled": true,
    "slideshow": {
     "slide_type": "-"
    }
   },
   "outputs": [],
   "source": [
    "df.info()"
   ]
  },
  {
   "cell_type": "markdown",
   "metadata": {
    "slideshow": {
     "slide_type": "slide"
    }
   },
   "source": [
    "## Operating on Null Values\n",
    "\n",
    "As we have seen, Pandas treats ``None`` and ``NaN`` as essentially interchangeable for indicating missing or null values.\n",
    "To facilitate this convention, there are several useful methods for detecting, removing, and replacing null values in Pandas data structures.\n",
    "They are:\n",
    "\n",
    "- ``isnull()``: Generate a boolean mask indicating missing values\n",
    "- ``notnull()``: Opposite of ``isnull()``\n",
    "- ``dropna()``: Return a filtered version of the data\n",
    "- ``fillna()``: Return a copy of the data with missing values filled or imputed\n"
   ]
  },
  {
   "cell_type": "markdown",
   "metadata": {
    "slideshow": {
     "slide_type": "slide"
    }
   },
   "source": [
    "In case the **number of features is small** we can easily understand that \n",
    "* features ‘TK104’ and ‘TK105’ contain missing values."
   ]
  },
  {
   "cell_type": "code",
   "execution_count": null,
   "metadata": {},
   "outputs": [],
   "source": [
    "total = df.isnull().sum().sort_values(ascending=False)\n",
    "percent = (df.isnull().sum()/df.isnull().count()).sort_values(ascending=False)\n",
    "missing_data = pd.concat([total, percent], axis=1, keys=['Total', 'Percent'])\n",
    "missing_data.head()"
   ]
  },
  {
   "cell_type": "markdown",
   "metadata": {
    "slideshow": {
     "slide_type": "slide"
    }
   },
   "source": [
    "## How can you handle missing values?\n",
    "\n",
    "* There are **several techniques** that can be used. \n",
    "* Choosing the right technique is a choice that **depends on the problem domain**,"
   ]
  },
  {
   "cell_type": "markdown",
   "metadata": {
    "slideshow": {
     "slide_type": "slide"
    }
   },
   "source": [
    "## 1) Ignore the data row\n",
    "\n",
    "This is usually done when \n",
    "* the **class label** is missing (for classification), \n",
    "* many **attributes** are missing from the row (not just one). \n",
    "\n",
    "We will get poor performance if the percentage of such rows is high."
   ]
  },
  {
   "cell_type": "markdown",
   "metadata": {
    "slideshow": {
     "slide_type": "slide"
    }
   },
   "source": [
    "### Example\n",
    "\n",
    "Our goal is to build a model predicting a **student’s success** in college. \n",
    "* Data rows who are **missing** the **success column** are not useful in predicting success  \n",
    "  so they could very well be ignored and removed before running the algorithm."
   ]
  },
  {
   "cell_type": "markdown",
   "metadata": {
    "slideshow": {
     "slide_type": "slide"
    }
   },
   "source": [
    "### Ignore rows or columns using Pandas\n",
    "Using `dropna()` :"
   ]
  },
  {
   "cell_type": "code",
   "execution_count": null,
   "metadata": {
    "scrolled": true,
    "slideshow": {
     "slide_type": "subslide"
    }
   },
   "outputs": [],
   "source": [
    "# Drop rows with any empty cells\n",
    "df.dropna(axis=0, how='any', thresh=None, subset=None, inplace=False)"
   ]
  },
  {
   "cell_type": "markdown",
   "metadata": {
    "slideshow": {
     "slide_type": "slide"
    }
   },
   "source": [
    "## 2) Use a global constant to fill in for missing values\n",
    "\n",
    "Decide on a new global constant value, like \n",
    "* “unknown“, \n",
    "* “N/A”\n",
    "* minus infinity\n",
    "* etc.\n",
    "\n",
    "that will be used to fill all the missing values."
   ]
  },
  {
   "cell_type": "markdown",
   "metadata": {
    "slideshow": {
     "slide_type": "slide"
    }
   },
   "source": [
    "### Example\n",
    "\n",
    "Let’s look at the **students enrollment** dataset again. \n",
    "* Assuming the `state of residence` attribute data is missing for some students. \n",
    "* Filling it up with some state doesn’t really makes sense as opposed to using something like “N/A”."
   ]
  },
  {
   "cell_type": "markdown",
   "metadata": {
    "slideshow": {
     "slide_type": "slide"
    }
   },
   "source": [
    "## 3) Use attribute mean\n",
    "\n",
    "Replace missing values of an attribute with \n",
    "* the **mean** value, it it is continue (real number)\n",
    "* the **median** value, if its discrete \n",
    "* the **mode**..."
   ]
  },
  {
   "cell_type": "markdown",
   "metadata": {
    "slideshow": {
     "slide_type": "slide"
    }
   },
   "source": [
    "### Example\n",
    "\n",
    "In a dataset of **US family incomes**,   \n",
    "if the average income of a US family is X you can use that value to replace missing income values."
   ]
  },
  {
   "cell_type": "code",
   "execution_count": null,
   "metadata": {
    "slideshow": {
     "slide_type": "slide"
    }
   },
   "outputs": [],
   "source": [
    "col_mean = df.mean()\n",
    "df_filled = df.fillna(df.mean())\n",
    "df_filled.info()"
   ]
  },
  {
   "cell_type": "markdown",
   "metadata": {
    "slideshow": {
     "slide_type": "slide"
    }
   },
   "source": [
    "## 4) Use attribute mean for all samples belonging to the same class\n",
    "\n",
    "Instead of using the mean (or median) of a certain attribute calculated by looking at all the rows, we can limit the calculations to the relevant class to make the value more relevant to the row we’re looking at."
   ]
  },
  {
   "cell_type": "markdown",
   "metadata": {
    "slideshow": {
     "slide_type": "slide"
    }
   },
   "source": [
    "### Example\n",
    "\n",
    "Let’s say you have a **cars pricing** dataset that, among other things, classifies cars to \n",
    "* “Luxury” and “Low budget” \n",
    "\n",
    "and you’re dealing with missing values in the cost field. \n",
    "\n",
    "Replacing missing cost of a luxury car with the average cost of all luxury cars is probably more accurate than the value you’d get if you factor in the low budget cars."
   ]
  },
  {
   "cell_type": "markdown",
   "metadata": {
    "slideshow": {
     "slide_type": "slide"
    }
   },
   "source": [
    "## 5) Use a data mining algorithm to predict the most probable value\n",
    "This is one of the **best and most efficient method** for handling missing data.   \n",
    "Depending on the class of data that is missing,  \n",
    "one can either use a **regression** model or **classification** to predict missing data.\n",
    "\n",
    "The missing value can be determined using \n",
    "* regression, \n",
    "* inference based tools using Bayesian formalism, \n",
    "* decision trees, \n",
    "* clustering algorithms (K-Mean\\Median etc.)."
   ]
  },
  {
   "cell_type": "markdown",
   "metadata": {
    "slideshow": {
     "slide_type": "slide"
    }
   },
   "source": [
    "### Example\n",
    "\n",
    "we could use \n",
    "* **clustering algorithms** to create clusters of rows which will then be used for calculating an attribute mean or median as specified in technique (3).\n",
    "* **decision tree** to try and predict the probable value in the missing attribute, according to other attributes in the data."
   ]
  },
  {
   "cell_type": "markdown",
   "metadata": {
    "slideshow": {
     "slide_type": "slide"
    }
   },
   "source": [
    "### Pandas example using Titanic dataset\n",
    "Thus, we are going to fit a linear model and we will try to **predict the missing values** of the ‘`Age`’ feature.\n",
    "\n",
    "We used a `Linear regression` model to replace the nulls in the feature ‘Age’. "
   ]
  },
  {
   "cell_type": "code",
   "execution_count": null,
   "metadata": {
    "scrolled": true
   },
   "outputs": [],
   "source": [
    "df2 = pd.read_csv('data/titanic.csv')\n",
    "df2.info()"
   ]
  },
  {
   "cell_type": "code",
   "execution_count": null,
   "metadata": {
    "scrolled": true,
    "slideshow": {
     "slide_type": "slide"
    }
   },
   "outputs": [],
   "source": [
    "from sklearn.linear_model import LinearRegression\n",
    "linreg = LinearRegression()\n",
    "data = df2[['Pclass','SibSp','Parch','Fare','Age']]\n",
    "\n",
    "#Step-1: Split the dataset that contains the missing values and no missing values \n",
    "#        are test and train respectively.\n",
    "x_train = data[data['Age'].notnull()].drop(columns='Age')\n",
    "y_train = data[data['Age'].notnull()]['Age']\n",
    "x_test = data[data['Age'].isnull()].drop(columns='Age')\n",
    "y_test = data[data['Age'].isnull()]['Age']\n",
    "#Step-2: Train the machine learning algorithm\n",
    "linreg.fit(x_train, y_train)\n",
    "#Step-3: Predict the missing values in the attribute of the test data.\n",
    "predicted = linreg.predict(x_test)\n",
    "#Step-4: Let’s obtain the complete dataset by combining with the target attribute.\n",
    "df2.Age[df2.Age.isnull()] = predicted\n",
    "df2.info()"
   ]
  },
  {
   "cell_type": "markdown",
   "metadata": {
    "slideshow": {
     "slide_type": "slide"
    }
   },
   "source": [
    " ## 6) Using Algorithms Which Support Missing Values\n",
    " \n",
    "* `KNN` is a machine learning algorithm which works on the principle of distance measure. \n",
    "  * This algorithm can be used when there are **nulls** present in the dataset. \n",
    "  * While the algorithm is applied, **KNN considers the missing values by taking the majority of the K nearest values**. \n",
    "  * In the **titanic** dataset, taking into account the person’s age, sex, class etc, **we will assume that people having same data for the above mentioned features will have the same kind of** `fare`.\n",
    "\n",
    "Unfortunately, the **SciKit Learn** library for the K-Nearest Neighbour algorithm in Python does not support the presence of the missing values."
   ]
  },
  {
   "cell_type": "markdown",
   "metadata": {
    "slideshow": {
     "slide_type": "slide"
    }
   },
   "source": [
    "Another algorithm which can be used here is `RandomForest`. \n",
    "* This model produces a robust result because it works well on non-linear and the categorical data. \n",
    "* It adapts to the data structure taking into consideration of the high variance or the bias, producing better results on large datasets."
   ]
  },
  {
   "cell_type": "markdown",
   "metadata": {
    "slideshow": {
     "slide_type": "slide"
    }
   },
   "source": [
    "<div class=\"alert alert-success\">\n",
    "    \n",
    "## Practice \n",
    "* Use attribute mean for all samples belonging to the same class `Survived`\n",
    "* Use the attribute `Age` of the Titanic dataset\n",
    "</div>"
   ]
  },
  {
   "cell_type": "code",
   "execution_count": 10,
   "metadata": {
    "scrolled": true,
    "slideshow": {
     "slide_type": "slide"
    }
   },
   "outputs": [
    {
     "name": "stdout",
     "output_type": "stream",
     "text": [
      "<class 'pandas.core.frame.DataFrame'>\n",
      "RangeIndex: 891 entries, 0 to 890\n",
      "Data columns (total 12 columns):\n",
      "PassengerId    891 non-null int64\n",
      "Survived       891 non-null int64\n",
      "Pclass         891 non-null int64\n",
      "Name           891 non-null object\n",
      "Sex            891 non-null object\n",
      "Age            714 non-null float64\n",
      "SibSp          891 non-null int64\n",
      "Parch          891 non-null int64\n",
      "Ticket         891 non-null object\n",
      "Fare           891 non-null float64\n",
      "Cabin          204 non-null object\n",
      "Embarked       889 non-null object\n",
      "dtypes: float64(2), int64(5), object(5)\n",
      "memory usage: 83.6+ KB\n",
      "mean age of not survived: 30.62617924528302\n",
      "mean age of survived: 28.343689655172415\n",
      "<class 'pandas.core.frame.DataFrame'>\n",
      "RangeIndex: 891 entries, 0 to 890\n",
      "Data columns (total 12 columns):\n",
      "PassengerId    891 non-null int64\n",
      "Survived       891 non-null int64\n",
      "Pclass         891 non-null int64\n",
      "Name           891 non-null object\n",
      "Sex            891 non-null object\n",
      "Age            891 non-null float64\n",
      "SibSp          891 non-null int64\n",
      "Parch          891 non-null int64\n",
      "Ticket         891 non-null object\n",
      "Fare           891 non-null float64\n",
      "Cabin          204 non-null object\n",
      "Embarked       889 non-null object\n",
      "dtypes: float64(2), int64(5), object(5)\n",
      "memory usage: 83.6+ KB\n"
     ]
    }
   ],
   "source": [
    "# %load exercises/handling_missing_data.py\n",
    "# load dataset\n",
    "df2 = pd.read_csv('data/titanic.csv')\n",
    "df2.info()\n",
    "\n",
    "# compute mean values for each class\n",
    "mean_age_cls0 = df2[df2['Survived'] == 0]['Age'].mean()\n",
    "mean_age_cls1 = df2[df2['Survived'] == 1]['Age'].mean()\n",
    "print('mean age of not survived:', mean_age_cls0)\n",
    "print('mean age of survived:', mean_age_cls1)\n",
    "\n",
    "# replace missing values with mean\n",
    "df2.loc[(df2.Age.isnull()) & (df2['Survived'] == 0), \"Age\"] = mean_age_cls0\n",
    "df2.loc[(df2.Age.isnull()) & (df2['Survived'] == 1), \"Age\"] = mean_age_cls1\n",
    "\n",
    "df2.info()\n"
   ]
  },
  {
   "cell_type": "code",
   "execution_count": 1,
   "metadata": {},
   "outputs": [
    {
     "name": "stdout",
     "output_type": "stream",
     "text": [
      "<class 'pandas.core.frame.DataFrame'>\n",
      "RangeIndex: 891 entries, 0 to 890\n",
      "Data columns (total 12 columns):\n",
      "PassengerId    891 non-null int64\n",
      "Survived       891 non-null int64\n",
      "Pclass         891 non-null int64\n",
      "Name           891 non-null object\n",
      "Sex            891 non-null object\n",
      "Age            714 non-null float64\n",
      "SibSp          891 non-null int64\n",
      "Parch          891 non-null int64\n",
      "Ticket         891 non-null object\n",
      "Fare           891 non-null float64\n",
      "Cabin          204 non-null object\n",
      "Embarked       889 non-null object\n",
      "dtypes: float64(2), int64(5), object(5)\n",
      "memory usage: 83.6+ KB\n",
      "Mean age of survived people\n",
      "<class 'pandas.core.frame.DataFrame'>\n",
      "RangeIndex: 891 entries, 0 to 890\n",
      "Data columns (total 12 columns):\n",
      "PassengerId    891 non-null int64\n",
      "Survived       891 non-null int64\n",
      "Pclass         891 non-null int64\n",
      "Name           891 non-null object\n",
      "Sex            891 non-null object\n",
      "Age            714 non-null float64\n",
      "SibSp          891 non-null int64\n",
      "Parch          891 non-null int64\n",
      "Ticket         891 non-null object\n",
      "Fare           891 non-null float64\n",
      "Cabin          204 non-null object\n",
      "Embarked       889 non-null object\n",
      "dtypes: float64(2), int64(5), object(5)\n",
      "memory usage: 83.6+ KB\n"
     ]
    }
   ],
   "source": [
    "import pandas as pd\n",
    "\n",
    "titanic_df = pd.read_csv('data/titanic.csv')\n",
    "titanic_df.info()\n",
    "\n",
    "titanic_tmp = titanic_df[titanic_df['Survived'] == 1]\n",
    "meanAge = titanic_tmp['Age'].mean()\n",
    "\n",
    "print('Mean age of survived people'.format(meanAge))\n",
    "\n",
    "age_filled_column = titanic_df['Age'].fillna(meanAge)\n",
    "titanic_df['Age'] = age_filled_column\n",
    "titanic_df.info()\n"
   ]
  }
 ],
 "metadata": {
  "anaconda-cloud": {},
  "celltoolbar": "Slideshow",
  "kernelspec": {
   "display_name": "Python 3",
   "language": "python",
   "name": "python3"
  },
  "language_info": {
   "codemirror_mode": {
    "name": "ipython",
    "version": 3
   },
   "file_extension": ".py",
   "mimetype": "text/x-python",
   "name": "python",
   "nbconvert_exporter": "python",
   "pygments_lexer": "ipython3",
   "version": "3.6.7"
  }
 },
 "nbformat": 4,
 "nbformat_minor": 1
}
