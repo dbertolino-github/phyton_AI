{
 "cells": [
  {
   "cell_type": "markdown",
   "metadata": {
    "slideshow": {
     "slide_type": "slide"
    }
   },
   "source": [
    "# DATA MINING AA18-19 F008\n",
    "<img src=\"figures/data-mining.png\" width=50%>"
   ]
  },
  {
   "cell_type": "markdown",
   "metadata": {
    "slideshow": {
     "slide_type": "slide"
    }
   },
   "source": [
    "## Notebook sources"
   ]
  },
  {
   "cell_type": "markdown",
   "metadata": {
    "slideshow": {
     "slide_type": "fragment"
    }
   },
   "source": [
    "<!--BOOK_INFORMATION-->\n",
    "<img align=\"left\" style=\"padding-right:10px;\" src=\"figures/PDSH-cover.png\" width=\"100\" height=\"150\">\n",
    "<img align=\"left\" style=\"padding-right:10px;\" src=\"figures/Hands-on-Machine-Learning-with-Scikit-Learn-and-Tensorflow.png\" width=\"100\" height=\"150\">\n",
    "\n",
    "*The notebooks of this course contain text and examples from* \n",
    "- *the [Python Data Science Handbook](http://shop.oreilly.com/product/0636920034919.do) by Jake VanderPlas; the content is available [on GitHub](https://github.com/jakevdp/PythonDataScienceHandbook).*\n",
    "- *the [Hands-On Machine Learning With Scikit-Learn and Tensorflow: Concepts, Tools, and Techniques to Build Intelligent Systems]() by Aurelien Geron*\n",
    "\n",
    "*The text is released under the [CC-BY-NC-ND license](https://creativecommons.org/licenses/by-nc-nd/3.0/us/legalcode), and code is released under the [MIT license](https://opensource.org/licenses/MIT). \n",
    "If you find this content useful, please consider supporting the work by buying the books*\n",
    "\n",
    "These notebooks were extracted from the above books and starting from these a lot of information useful for the [Data Mining course](https://www.uninsubria.it/ugov/degreecourse/107866) was added / changed / deleted."
   ]
  },
  {
   "cell_type": "markdown",
   "metadata": {
    "slideshow": {
     "slide_type": "slide"
    }
   },
   "source": [
    "# Preface"
   ]
  },
  {
   "cell_type": "markdown",
   "metadata": {
    "slideshow": {
     "slide_type": "fragment"
    }
   },
   "source": [
    "Data mining **isn’t a new invention** that came with the digital age.  \n",
    "The concept has been around for over a century.\n",
    "\n",
    "Two short videos to introduce the topics of this course: \n",
    "- \"[What is Data Mining?](https://www.youtube.com/watch?v=R-sGvh6tI04)\"\n",
    "- \"[Big data - Superquark 12/07/2017](https://www.youtube.com/watch?v=A2pUx5B_C4A)\"."
   ]
  },
  {
   "cell_type": "markdown",
   "metadata": {
    "slideshow": {
     "slide_type": "slide"
    }
   },
   "source": [
    "## Data Mining vs. Machine Learning vs. Data Science\n",
    "REF. [import.io](https://www.import.io/post/data-mining-machine-learning-difference/)\n",
    "\n",
    "With **big data** becoming so prevalent in the business world, a lot of data terms tend to be thrown around, with many not quite understanding what they mean. \n",
    " * What is data mining? \n",
    " * Is there a difference between machine learning vs. data science? \n",
    " * How do they connect to each other? \n",
    " * Isn’t machine learning just artificial intelligence? \n",
    "\n",
    "Both **data mining** and **machine learning** are rooted in **data science** and generally fall under that umbrella.  \n",
    "They often intersect or are confused with each other, but there are a few key distinctions between the two. "
   ]
  },
  {
   "cell_type": "markdown",
   "metadata": {
    "slideshow": {
     "slide_type": "slide"
    }
   },
   "source": [
    "## Data Mining and Machine Learning differences\n",
    "\n",
    "One **key difference** between machine learning and data mining is <br> \n",
    "``how they are used and applied in our everyday lives``. <br>\n",
    "For example, \n",
    "* <span style=\"color:blue\">data mining is often used by machine learning to see the connections between relationships</span>. \n",
    "* <span style=\"color:blue\">Uber uses machine learning</span> to calculate ETAs for rides or meal delivery times for UberEATS.<br>\n",
    "<img align=\"left\" style=\"padding-right:10px;\" src=\"figures/uber-ETA.jpg\"><img src=\"figures/uber-eat-ETA.jpg\"><br>"
   ]
  },
  {
   "cell_type": "markdown",
   "metadata": {
    "slideshow": {
     "slide_type": "subslide"
    }
   },
   "source": [
    "\n",
    "* **Machine learning** can look at **patterns** and **learn** from them to adapt behavior for future incidents, while <br>\n",
    "* **data mining** is typically used as an **information source** for machine learning to pull from.\n",
    "\n",
    "But some experts have a <span style=\"color:blue\">different idea about data mining and machine learning</span> altogether.  \n",
    "Instead of focusing on their differences, you could argue that \n",
    "* they <span style=\"color:blue\">both</span> concern themselves with the same question: “<span style=\"color:blue\"><b>How we can learn from data?</b>”</span>. <br>\n",
    "* How we ``acquire and learn from data`` is really the foundation for emerging technology. "
   ]
  },
  {
   "cell_type": "markdown",
   "metadata": {
    "slideshow": {
     "slide_type": "slide"
    }
   },
   "source": [
    "### Data Mining\n",
    "Data mining can be used for a variety of **purposes** \n",
    "\n",
    "* IDENTIFY INDIVIDUAL TARGET GROUPS<img align=\"right\" style=\"padding-left:10px;\" src=\"figures/clustering-persons.png\" width=\"30%\"><br>**Cluster analysis** makes it possible to identify a group of users within an archive according to common characteristics (``age``, ``geographical origin``, ``educational qualification``, etc.). Useful to send, for example, a certain **promotion to the right target** for that product or service (young people, mothers, retirees, etc.). <img align=\"right\" style=\"padding-left:10px;\" src=\"figures/financial-research.jpg\" width=\"30%\">\n",
    "* MARKETING FORECASTS<br> Using a **regressive analysis** to study changes, habits, level of customer satisfaction and other factors related to parameters such as the budget of an advertising campaign or similar . The moment you change one of these parameters, you will have a fairly likely ``idea of what will happen to your audience of users``. "
   ]
  },
  {
   "cell_type": "markdown",
   "metadata": {
    "slideshow": {
     "slide_type": "slide"
    }
   },
   "source": [
    "### Machine Learning<img align=\"right\" style=\"padding-left:10px;\" src=\"figures/google-car.jpeg\" width=\"30%\">\n",
    "can be used for a variety of purposes:\n",
    "* **Machine learning** is the technology behind **self-driving cars** that can quickly ``adjust to new conditions while driving``. \n",
    "* **Machine learning** also provides **instant recommendations** when a buyer purchases a product from Amazon. \n",
    "* Banks are already using and investing in **machine learning** to help look for **fraud** when **credit cards** are swiped by a vendor.\n",
    "\n",
    "**Machine learning isn’t artificial intelligence**, but the ability to learn and improve is still an impressive feat."
   ]
  },
  {
   "cell_type": "markdown",
   "metadata": {
    "slideshow": {
     "slide_type": "slide"
    }
   },
   "source": [
    "### The Future of Data Mining and Machine Learning\n",
    "\n",
    "The **future is bright for data science** as the amount of **data will** only **increase**. <br>\n",
    "By 2020, our accumulated digital universe of data will grow <span style=\"color:blue\">from 4.4 zettabytes ($10^{21}$byte) to 44 zettabytes</span>, as reported by Forbes.  \n",
    "We’ll also create **1.7 megabytes** of new information every **second** for every human being on the planet.\n",
    "\n",
    "As we **amass more data**, the demand for advanced data mining and machine learning techniques will force the industry to evolve in order to keep up. \n",
    "\n",
    "We’ll likely see **more overlap between data mining and machine learning** as the two intersect to enhance the collection and usability of large amounts of data for analytics purposes."
   ]
  },
  {
   "cell_type": "markdown",
   "metadata": {
    "slideshow": {
     "slide_type": "slide"
    }
   },
   "source": [
    "## What Is Data Science?\n",
    "\n",
    "It's a surprisingly **hard definition** to nail down.\n",
    "<img src=\"figures/Data_Science_VD.png\" width=\"40%\" align=\"right\" style=\"padding-left:10px;\">\n",
    "\n",
    "<span style=\"color:blue\">Data science is</span> perhaps the best label we have  <span style=\"color:blue\"> for the cross-disciplinary set of skills</span> that are becoming increasingly important in many applications across industry and academia.\n",
    "\n",
    "This cross-disciplinary piece is key: the best extisting definition of data science is illustrated by Drew Conway's Data Science Venn Diagram, first published on his blog in September 2010."
   ]
  },
  {
   "cell_type": "markdown",
   "metadata": {
    "slideshow": {
     "slide_type": "subslide"
    }
   },
   "source": [
    "**Data science** <span style=\"color:blue\">is fundamentally an **interdisciplinary** subject</span>.\n",
    "\n",
    "Data science comprises three distinct and overlapping areas: \n",
    "* the <span style=\"color:blue\">skills of a *statistician*</span> who knows how to model and summarize datasets (which are growing ever larger); \n",
    "* <span style=\"color:blue\">the skills of a *computer scientist*</span> who can design and use algorithms to efficiently store, process, and visualize this data; \n",
    "* <span style=\"color:blue\">the *domain expertise*</span> necessary both to formulate the right questions and to put their answers in context."
   ]
  },
  {
   "cell_type": "markdown",
   "metadata": {
    "slideshow": {
     "slide_type": "subslide"
    }
   },
   "source": [
    "With this in mind, think to **data science** not as a new domain of knowledge to learn, but a ``new set of skills that you can apply within your current area of expertise``.\n",
    "\n",
    "The **goal of this course** is to give you the ``ability to ask and answer new questions about your chosen subject area``.\n",
    "\n",
    "In a nutshell, **data science** is **more about data** than it is **about science**.\n",
    "\n",
    "* If you have <span style=\"color:blue\">data</span>, and \n",
    "* you have <span style=\"color:blue\">curiosity</span>, and \n",
    "* you're working with data, and \n",
    "* you're <span style=\"color:blue\">manipulating</span> it, \n",
    "* you're <span style=\"color:blue\">exploring</span> it, the very exercise of going through <span style=\"color:blue\">analyzing data</span>, trying to ``get some answers from it, is data science``."
   ]
  },
  {
   "cell_type": "markdown",
   "metadata": {
    "slideshow": {
     "slide_type": "slide"
    }
   },
   "source": [
    "## What Is Data Mining?\n",
    "\n",
    "Data mining is the study of <span style=\"color:blue\">collecting</span>, <span style=\"color:blue\">cleaning</span>, <span style=\"color:blue\">processing</span>, <span style=\"color:blue\">analyzing</span>, and gaining useful <span style=\"color:blue\">insights from data</span>. \n",
    "\n",
    "[comment]: <> (A wide variation exists in terms of the <span style=\"color:blue\">problem domains</span>, applications, formulations, and data representations that are encountered in real applications. \n",
    "Therefore, “data mining” is a broad umbrella term that is used to describe these different aspects of data processing.)\n",
    "\n",
    "**Google Search example**:  \n",
    "I think a <span style=\"color:blue\">good example</span> is the Google Search.\n",
    "Google published a paper saying they can <span style=\"color:blue\">predict flu epidemics</span> before the Center for Disease Control.  \n",
    "And what they did was they were looking at what people were searching on Google so flu symptoms.  \n",
    "So Google saw the flu symptom searches before anybody else and they were able to predict it.  "
   ]
  },
  {
   "cell_type": "markdown",
   "metadata": {
    "slideshow": {
     "slide_type": "subslide"
    }
   },
   "source": [
    "**Financial interactions example**:\n",
    "Most common transactions of everyday life, such as using an\n",
    "automated teller machine (**ATM**) **card** or a **credit card**, can create data in an automated way.  \n",
    "Such transactions can be mined for many useful insights such as <span style=\"color:blue\">fraud</span> or other unusual activity.\n",
    "\n",
    "**User interactions**: Many forms of user interactions create large volumes of data.  \n",
    "For example, <span style=\"color:blue\">the use of a telephone</span> typically creates a record at the telecommunication company with details about the duration and destination of the call.  \n",
    "Many phone companies routinely analyze such data to determine relevant patterns of behavior that can be used to <span style=\"color:blue\">make decisions about network capacity, promotions, pricing, or customer targeting</span>.\n",
    "\n",
    "**Sensor technologies and the Internet of Things**: A recent trend is the development of **low-cost wearable sensors**, **smartphones**, and other smart devices that can communicate with one another.  \n",
    "The implications of such massive data collection are significant for mining algorithms."
   ]
  },
  {
   "cell_type": "markdown",
   "metadata": {
    "slideshow": {
     "slide_type": "slide"
    }
   },
   "source": [
    "## Data Science vs Data Mining \n",
    "* <img src=\"figures/datamining-vs-datascience.webp\" width=\"50%\" align=\"right\" style=\"padding-left:10px;\"> **Data mining** refers to the science of **collecting** all the past **data** and then **searching for patterns** in this data.  \n",
    "* You look for consistent patterns and / or **relationships between variables**. \n",
    "* Once you find these insights, you **validate the findings** by applying the detected patterns to new subsets of data. \n",
    "* The ultimate goal of data mining is <span style=\"color:red\">prediction</span>.\n",
    "* Some activities under **Data Mining** can **intersect** with **Data Science** such as \n",
    "  * <span style=\"color:red\">statistical analysis</span>, \n",
    "  * writing data flows and <span style=\"color:red\">pattern recognition</span>. \n",
    "\n",
    "Hence, Data Mining becomes a subset of Data Science. \n"
   ]
  },
  {
   "cell_type": "markdown",
   "metadata": {
    "slideshow": {
     "slide_type": "subslide"
    }
   },
   "source": [
    "\n",
    "* **Data Science** is an umbrella that contain many other fields like <span style=\"color:red\">Machine learning</span>, <span style=\"color:red\">Data Mining</span>, <span style=\"color:red\">Big Data</span>, <span style=\"color:red\">statistics</span>, Data visualization, data analytics,…\n",
    "* Data science is the process of **using data to understand** different things, to understand the world.\n",
    "* <span style=\"color:blue\">Data science is the art of uncovering the insights and trends that are hiding behind data.</span>\n",
    "* Data science is the study of data, like biological sciences are the study of biology; physical sciences, it's the study of physical reactions.\n",
    "\n",
    "Thus, Data Science and Data Mining are different terms & techniques that are used for data processing."
   ]
  },
  {
   "cell_type": "markdown",
   "metadata": {
    "slideshow": {
     "slide_type": "slide"
    }
   },
   "source": [
    "##  [Data Mining](https://www.uninsubria.it/ugov/degreecourse/107866) Course Program\n",
    "\n",
    "0. Introduction to Data Mining\n",
    "1. Introduction to the Python language and some of its libraries as a tool to be able to directly experience what was seen in class.\n",
    "    1. IPython and Jupyter\n",
    "    2. Python, NumPy, Pandas, Matplotlib\n",
    "2. Machine Learning\n",
    "    1. Introduction to Machine Learning\n",
    "    1. SciKit-Learning\n",
    "    2. Association Rules, Decision Trees, Regression, Ensemble methods, Deep learning\n",
    "3. Problems and methods of learning structured information\n",
    "    1. collaborative filtering, ranking, etc.\n",
    "4. Data mining problems with large data that can be solved with deep learning algorithms.\n",
    "\n",
    "The various topics covered will be accompanied by practical examples and the python code necessary for their solution."
   ]
  },
  {
   "cell_type": "markdown",
   "metadata": {
    "slideshow": {
     "slide_type": "slide"
    }
   },
   "source": [
    "## Prerequisites\n",
    "\n",
    "- Basic contents of the ``Intelligent Systems`` course delivered to the first year of the MSc program.\n",
    "\n",
    "- The course is recommended for those who already know at least one ``programming or scripting language``.\n",
    "\n",
    "- Students are advised to get a ``laptop`` (Windows, Mac or Linux) that runs the Python interpreter and IPython."
   ]
  },
  {
   "cell_type": "markdown",
   "metadata": {
    "slideshow": {
     "slide_type": "slide"
    }
   },
   "source": [
    "## Exam\n",
    "\n",
    "The exam consists of \n",
    "* a ``project`` <br>\n",
    "  The project is proposed by the student based on his interests.<br>\n",
    "  In the absence of specific proposals, the project is proposed by the teacher.\n",
    "* an ``oral interview``<br>\n",
    "  The oral test consists of an interview whose first question is always the discussion of the results obtained in the project.<br>\n",
    "  During the oral examination the student must show understanding of the methods covered in class, their advantages and their disadvantages."
   ]
  },
  {
   "cell_type": "markdown",
   "metadata": {
    "slideshow": {
     "slide_type": "subslide"
    }
   },
   "source": [
    "With the ``project``, students are typically called to **implement simple methods** of experimental investigation on data made available to them by web sites and / or other **banchmarking data** available on online repositories.  \n",
    "These investigations are aimed at ascertaining the students' ability to adapt the studied methods to the real cases, possibly understanding their specificities.\n",
    "The project must be accompanied by a short ``report`` describing the contents and the results obtained.\n",
    "\n",
    "The outcome of the **project** is positive (and allows access to the next ``oral`` exam) if it shows a score of at least **18/30**.\n",
    "\n",
    "The overall test is passed with a final vote of at least **18/30**.\n",
    "The vote of the project contributes significantly to the determination of the final vote."
   ]
  },
  {
   "cell_type": "markdown",
   "metadata": {
    "slideshow": {
     "slide_type": "slide"
    }
   },
   "source": [
    "## Why Python?\n",
    "\n",
    "Python has emerged over the last couple decades as a first-class tool ``for scientific computing tasks``, including the analysis and visualization of large datasets.\n",
    "\n",
    "This may have come as a surprise to early proponents of the Python language: the language itself was not specifically designed with data analysis or scientific computing in mind.\n",
    "\n",
    "The usefulness of Python for data science stems primarily from the ``large and active ecosystem of third-party packages``: **NumPy** for manipulation of homogeneous array-based data, **Pandas** for manipulation of heterogeneous and labeled data, **SciPy** for common scientific computing tasks, **Matplotlib** for publication-quality visualizations, **IPython** for interactive execution and sharing of code, **Scikit-Learn** for machine learning, and many more tools that will be mentioned in the following pages."
   ]
  },
  {
   "cell_type": "markdown",
   "metadata": {
    "slideshow": {
     "slide_type": "subslide"
    }
   },
   "source": [
    "<img src=\"figures/00.00-python4datascience.png\" width=\"50%\">\n",
    "\n",
    "\n",
    "I’ve discovered in the classes I teach, that ``programmers generally grasp principles more readily by seeing simple code illustrations than by looking at math``.<br>\n",
    "\n",
    "Among general-purpose programming languages, Python developers have been in the forefront, building state-of-the-art machine learning tools, but <span style=\"color:red\">there is a gap between having the tools and being able to use them efficiently</span>."
   ]
  },
  {
   "cell_type": "markdown",
   "metadata": {
    "slideshow": {
     "slide_type": "slide"
    }
   },
   "source": [
    "### Practice \n",
    "* print \"Hello world!\" using Python3 dòflbmdòflbmdòfl"
   ]
  },
  {
   "cell_type": "code",
   "execution_count": 1,
   "metadata": {
    "slideshow": {
     "slide_type": "fragment"
    }
   },
   "outputs": [
    {
     "name": "stdout",
     "output_type": "stream",
     "text": [
      "Hello world!\n"
     ]
    }
   ],
   "source": [
    "# write your code here\n",
    "print(\"Hello world!\")"
   ]
  },
  {
   "cell_type": "markdown",
   "metadata": {
    "slideshow": {
     "slide_type": "slide"
    }
   },
   "source": [
    "### Python 2 vs Python 3\n",
    "\n",
    "* We will use the **syntax of Python 3**, which contains language enhancements that are not compatible with the 2.x series of Python.\n",
    "* Though Python 3.0 was first released in 2008, adoption has been relatively slow, particularly in the scientific and web development communities.\n",
    "* This is primarily because it took some time for many of the essential third-party packages and toolkits to be made compatible with the new language internals.\n",
    "* **Since 2014**, however, stable releases of **the most important tools** in the data science ecosystem have been **fully compatible** with both Python 2 and 3.\n",
    "* However, the vast majority of code snippets in this course will also work without modification in Python 2: in cases where a Py2-incompatible syntax is used, I will make every effort to note it explicitly."
   ]
  },
  {
   "cell_type": "markdown",
   "metadata": {
    "slideshow": {
     "slide_type": "slide"
    }
   },
   "source": [
    "## Why IPython?\n",
    "* <img src=\"figures/Jupyter_logo.png\" width=\"20%\" align=\"right\" style=\"padding-left:10px;\"> One of the most significant advances in the scientific computing arena is underway with the explosion of interest in <span style=\"color:red\">Jupyter</span> (formerly, IPython) Notebook technology.  \n",
    "* The scientific publication *Nature* recently featured \n",
    "[an article on the benefits of Jupyter Notebooks](http://www.nature.com/news/interactive-notebooks-sharing-the-code-1.16261)\n",
    "for scientific research. \n",
    "* There are now <span style=\"color:red\">Jupyter Notebooks on numerous topics in **many** scientific disciplines</span>.  \n",
    "Here are a few examples of IPython Notebooks for science:\n",
    "  * [Machine Learning](https://nbviewer.jupyter.org/github/rhiever/Data-Analysis-and-Machine-Learning-Projects/blob/master/example-data-science-notebook/Example%2520Machine%2520Learning%2520Notebook.ipynb)\n",
    "  * [Computer Vision](http://nbviewer.jupyter.org/github/ogrisel/notebooks/blob/master/Labeled%2520Faces%2520in%2520the%2520Wild%2520recognition.ipynb)\n",
    "  * [Satellite Imagery Analysis](http://unidata.github.io/python-gallery/examples/Satellite_Example.html)\n",
    "..."
   ]
  },
  {
   "cell_type": "markdown",
   "metadata": {
    "slideshow": {
     "slide_type": "subslide"
    }
   },
   "source": [
    "The reason for Jupyter’s immense success is it excels in a form of programming called  \n",
    "\"``literate programming``\".  \n",
    "* Literate programming is a **software development style** pioneered by Stanford computer scientist, Donald Knuth. \n",
    "* This type of programming emphasizes a **prose first approach** where exposition with **human-friendly text** is punctuated with **code blocks**. \n",
    "* It excels at demonstration, research, and teaching objectives especially for science. \n",
    "* Literate programming allows users to \n",
    "  * formulate and <span style=\"color:red\">describe their thoughts</span> with prose,\n",
    "  * supplemented by <span style=\"color:red\">mathematical equations</span>, \n",
    "  * as they prepare to <span style=\"color:red\">write code blocks</span>. \n",
    "  \n",
    "This mindset is the opposite of how we usually think about code. \n",
    "\n",
    "([continue to read](https://unidata.github.io/online-python-training/introduction.html)...)"
   ]
  },
  {
   "cell_type": "markdown",
   "metadata": {
    "slideshow": {
     "slide_type": "slide"
    }
   },
   "source": [
    "### Data Mining for computer science students\n",
    "\n",
    "<img src=\"figures/es-slide-nn-4-computer-science.png\" width=\"70%\">\n"
   ]
  },
  {
   "cell_type": "markdown",
   "metadata": {
    "slideshow": {
     "slide_type": "slide"
    }
   },
   "source": [
    "\n",
    "### Data Mining for maths students\n",
    "\n",
    "<img src=\"figures/es-slide-nn-4-maths.png\" width=\"70%\">\n"
   ]
  },
  {
   "cell_type": "markdown",
   "metadata": {
    "slideshow": {
     "slide_type": "slide"
    }
   },
   "source": [
    "\n",
    "### Data Mining for statistical students\n",
    "\n",
    "<img src=\"figures/es-slide-nn-4-statistic.png\" width=\"70%\">"
   ]
  },
  {
   "cell_type": "markdown",
   "metadata": {
    "slideshow": {
     "slide_type": "slide"
    }
   },
   "source": [
    "## Installation Considerations\n",
    "\n",
    "- [Python 3 Installation & Setup Guide](https://realpython.com/installing-python/)\n",
    "- [Installing the Jupyter Notebook](http://jupyter.org/install)\n",
    "\n",
    "Installing Python and the suite of libraries that enable scientific computing is straightforward . \n",
    "\n",
    "Though there are various ways to install Python, the one I would suggest for use in data science is the **Anaconda distribution**, which works similarly whether you use Windows, Linux, or Mac OS X.\n",
    "The Anaconda distribution comes in two flavors:\n",
    "- [Miniconda](http://conda.pydata.org/miniconda.html) gives you the Python interpreter itself, along with a command-line tool called ``conda`` which operates as a cross-platform package manager geared toward Python packages, similar in spirit to the apt or yum tools that Linux users might be familiar with.\n",
    "- [Anaconda](https://www.continuum.io/downloads) includes both Python and conda, and additionally bundles a suite of other pre-installed packages geared toward scientific computing. Because of the size of this bundle, expect the installation to consume several gigabytes of disk space.\n"
   ]
  },
  {
   "cell_type": "markdown",
   "metadata": {
    "slideshow": {
     "slide_type": "subslide"
    }
   },
   "source": [
    "\n",
    "Any of the packages included with Anaconda can also be installed manually on top of Miniconda; for this reason I suggest starting with Miniconda.\n",
    "\n",
    "To get started, download and install the Miniconda package–make sure to choose a version with Python 3–and then install the core packages used in this book:\n",
    "\n",
    "```\n",
    "[~]$ conda install numpy pandas scikit-learn matplotlib seaborn jupyter\n",
    "```\n",
    "\n",
    "We will also make use of other more specialized tools in Python's scientific ecosystem;  \n",
    "installation is usually as easy as typing \n",
    "```\n",
    "[~]$ conda install packagename\n",
    "```\n",
    "For more information on conda, including information about creating and using conda environments (which I would *highly* recommend), refer to [conda's online documentation](http://conda.pydata.org/docs/)."
   ]
  }
 ],
 "metadata": {
  "anaconda-cloud": {},
  "kernelspec": {
   "display_name": "Python 3",
   "language": "python",
   "name": "python3"
  },
  "language_info": {
   "codemirror_mode": {
    "name": "ipython",
    "version": 3
   },
   "file_extension": ".py",
   "mimetype": "text/x-python",
   "name": "python",
   "nbconvert_exporter": "python",
   "pygments_lexer": "ipython3",
   "version": "3.6.7"
  }
 },
 "nbformat": 4,
 "nbformat_minor": 1
}
