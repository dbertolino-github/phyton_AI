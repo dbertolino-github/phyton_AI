{
 "cells": [
  {
   "cell_type": "markdown",
   "metadata": {
    "slideshow": {
     "slide_type": "slide"
    }
   },
   "source": [
    "### Percpetron Math\n",
    "* **Prediction**:  \n",
    "$y = f(\\mathbf{x} \\cdot \\mathbf{w} + b)$ where $\\cdot$ is the `dot product` between the input vector $x$ and the weigth vector $w$, and $b$ is a constant.  \n",
    "$f(x) = \\left\\{\\begin{matrix}\n",
    "1 & \\text{if} & x >0\\\\ \n",
    "0 & \\text{if} & x \\leq 0\n",
    "\\end{matrix}\\right.$ is the `step function`.\n",
    "* **Training**:\n",
    "  1. Begin by setting $\\mathbf{w}=0$, $b=0$, $t=0$, where $t$ identifies the training steps.\n",
    "  2. For each input $x_i$, compute $y_i = f(x_i \\cdot \\mathbf{w}(t) + b(t))$ and   \n",
    "     update the weights and bias :  \n",
    "     $\\mathbf{w}(t+1) = \\mathbf{w}(t) + \\eta (d_i - y_i) x_i$, where  $d_i$ is the expected label for to the input $x_i$  \n",
    "     $b(t+1) = b(t) + \\eta (d_i - y_i)$, where $\\eta$  is the learning rate with $0 < \\eta \\leq 1$"
   ]
  },
  {
   "cell_type": "markdown",
   "metadata": {},
   "source": [
    "### <span style=\"color:#2E86C1\">Python3 implementation</span>"
   ]
  },
  {
   "cell_type": "markdown",
   "metadata": {},
   "source": [
    "_Needed functions_"
   ]
  },
  {
   "cell_type": "code",
   "execution_count": 1,
   "metadata": {
    "slideshow": {
     "slide_type": "subslide"
    }
   },
   "outputs": [],
   "source": [
    "# INIT\n",
    "no_of_inputs=2\n",
    "epochs=100\n",
    "learning_rate=0.01\n",
    "# init (no_of_inputs + 1) weights with zero values\n",
    "weights = [0] * (no_of_inputs + 1)\n",
    "# input dataset\n",
    "training_inputs = [[0, 0],[0, 1], [1, 0], [1, 1]]\n",
    "labels =  [0, 1, 1, 1] # OR function\n",
    "\n",
    "\n",
    "def step(x):\n",
    "    '''\n",
    "    This works for both individual numbers and NumPy arrays.\n",
    "    Returns integers, and is zero for xi <= 0 while it is one for xi > 0.\n",
    "    '''\n",
    "    return 1 * (x > 0)\n",
    "\n",
    "\n",
    "def dot(K, L):\n",
    "    if len(K) != len(L):\n",
    "        return 0\n",
    "    return sum([k*l for k,l in zip(K,L)])\n",
    "\n",
    "\n",
    "def predict(inputs):\n",
    "    '''\n",
    "    The activation is the dot product between input and weights + bias.\n",
    "    The bias is the weights[0].\n",
    "    '''\n",
    "    activation = dot(inputs, weights[1:]) + weights[0]\n",
    "    return step(activation)"
   ]
  },
  {
   "cell_type": "markdown",
   "metadata": {},
   "source": [
    "_Training script_"
   ]
  },
  {
   "cell_type": "code",
   "execution_count": 2,
   "metadata": {
    "slideshow": {
     "slide_type": "subslide"
    }
   },
   "outputs": [],
   "source": [
    "for _ in range(epochs):\n",
    "    for inputs, label in zip(training_inputs, labels):\n",
    "        prediction = predict(inputs)\n",
    "        weights[0] = weights[0] + learning_rate*(label - prediction)\n",
    "        for ind, x in enumerate(inputs):\n",
    "            weights[ind+1] = weights[ind+1] + learning_rate*(label - prediction)*x"
   ]
  },
  {
   "cell_type": "markdown",
   "metadata": {},
   "source": [
    "_Execution script_"
   ]
  },
  {
   "cell_type": "code",
   "execution_count": null,
   "metadata": {},
   "outputs": [],
   "source": [
    "for x in training_inputs:\n",
    "    print(x, \"Predictions on training set:\", predict(x))\n",
    "for x in [[0.01, -0.02],[0.2, 0.99], [0.8, 0], [0.75, 0.85]]:\n",
    "    print(x, \"Predictions on test set:\", predict(x))\n",
    "# Expected:\n",
    "# Predictions on training set: [0 1 1 1]\n",
    "# Predictions on test set: [0 1 1 1]"
   ]
  },
  {
   "cell_type": "markdown",
   "metadata": {},
   "source": [
    "### <span style=\"color:#2E86C1\">Numpy implementation</span>"
   ]
  },
  {
   "cell_type": "markdown",
   "metadata": {},
   "source": [
    "_Needed functions_:  \n",
    "- numpy import provides the **dot** function"
   ]
  },
  {
   "cell_type": "code",
   "execution_count": 4,
   "metadata": {
    "slideshow": {
     "slide_type": "subslide"
    }
   },
   "outputs": [],
   "source": [
    "# INIT\n",
    "import numpy as np\n",
    "\n",
    "no_of_inputs=2\n",
    "epochs=100\n",
    "learning_rate=0.01\n",
    "# init (no_of_inputs + 1) weights with zero values\n",
    "weights = np.zeros(no_of_inputs + 1)\n",
    "# input dataset\n",
    "training_inputs = np.array([[0, 0],[0, 1], [1, 0], [1, 1]])\n",
    "labels =  np.array([0, 1, 1, 1]) # OR function\n",
    "\n",
    "\n",
    "def step(x):\n",
    "    '''\n",
    "    This works for both individual numbers and NumPy arrays.\n",
    "    Returns integers, and is zero for xi <= 0 while it is one for xi > 0.\n",
    "    '''\n",
    "    return 1 * (x > 0)\n",
    "\n",
    "\n",
    "def predict(inputs):\n",
    "    ''' \n",
    "    The activation is the dot product between input and weights + bias.\n",
    "    The bias is the weights[0].\n",
    "    '''\n",
    "    activation = np.dot(inputs, weights[1:]) + weights[0]\n",
    "    return step(activation)"
   ]
  },
  {
   "cell_type": "markdown",
   "metadata": {},
   "source": [
    "_Training script_:  \n",
    "- Numpy let us work directly with arrays\n",
    "- Less code is needed and the math is expressed on single lines of code"
   ]
  },
  {
   "cell_type": "code",
   "execution_count": 5,
   "metadata": {
    "slideshow": {
     "slide_type": "subslide"
    }
   },
   "outputs": [],
   "source": [
    "# TRAINING\n",
    "for _ in range(epochs):\n",
    "    for inputs, label in zip(training_inputs, labels):\n",
    "        prediction = predict(inputs)\n",
    "        weights[1:] += np.multiply(learning_rate * np.subtract(label, prediction), inputs)\n",
    "        weights[0] += np.multiply(learning_rate, np.subtract(label, prediction))"
   ]
  },
  {
   "cell_type": "markdown",
   "metadata": {},
   "source": [
    "_Execution script_"
   ]
  },
  {
   "cell_type": "code",
   "execution_count": 31,
   "metadata": {
    "slideshow": {
     "slide_type": "fragment"
    }
   },
   "outputs": [
    {
     "name": "stdout",
     "output_type": "stream",
     "text": [
      "Predictions on training set: [0 1 1 1]\n",
      "Predictions on test set: [0 1 1 1]\n"
     ]
    }
   ],
   "source": [
    "print(\"Predictions on training set:\",predict(training_inputs))\n",
    "print(\"Predictions on test set:\",predict([[0.01, -0.02],[0.2, 0.99], [0.8, 0], [0.75, 0.85]]))\n",
    "# Expected:\n",
    "# Predictions on training set: [0 1 1 1]\n",
    "# Predictions on test set: [0 1 1 1]"
   ]
  }
 ],
 "metadata": {
  "kernelspec": {
   "display_name": "Python 3",
   "language": "python",
   "name": "python3"
  },
  "language_info": {
   "codemirror_mode": {
    "name": "ipython",
    "version": 3
   },
   "file_extension": ".py",
   "mimetype": "text/x-python",
   "name": "python",
   "nbconvert_exporter": "python",
   "pygments_lexer": "ipython3",
   "version": "3.6.7"
  }
 },
 "nbformat": 4,
 "nbformat_minor": 2
}
